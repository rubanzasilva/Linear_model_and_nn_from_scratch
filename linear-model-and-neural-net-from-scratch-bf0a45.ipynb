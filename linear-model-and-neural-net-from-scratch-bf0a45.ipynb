{
 "cells": [
  {
   "cell_type": "markdown",
   "id": "f60be3e4",
   "metadata": {
    "papermill": {
     "duration": 0.13729,
     "end_time": "2024-02-15T03:33:16.480518",
     "exception": false,
     "start_time": "2024-02-15T03:33:16.343228",
     "status": "completed"
    },
    "tags": []
   },
   "source": [
    "## Introduction"
   ]
  },
  {
   "cell_type": "markdown",
   "id": "a022d824",
   "metadata": {
    "papermill": {
     "duration": 0.133368,
     "end_time": "2024-02-15T03:33:16.747990",
     "exception": false,
     "start_time": "2024-02-15T03:33:16.614622",
     "status": "completed"
    },
    "tags": []
   },
   "source": [
    "In this notebook we're going to build and train a deep learning model \"from scratch\" -- by which I mean that we're not going to use any pre-built architecture, or optimizers, or data loading frameworks, etc.\n",
    "\n",
    "We'll be assuming you already know the basics of how a neural network works. If you don't, read this notebook first: [How does a neural net really work?\n",
    "](https://www.kaggle.com/code/jhoward/how-does-a-neural-net-really-work). We'll be using Kaggle's [Titanic](https://www.kaggle.com/competitions/titanic/) competition in this notebook, because it's very small and simple, but also has displays many of the tricky real-life issues that we need to handle in most practical projects. (Note, however, that this competition is a small \"learner\" competition on Kaggle, so don't expect to actually see much benefits from using a neural net just yet; that will come once we try our some real competitions!)\n",
    "\n",
    "It's great to be able to run the same notebook on your own machine or Colab, as well as Kaggle. To allow for this, we use this code to download the data as needed when not on Kaggle (see [this notebook](https://www.kaggle.com/code/jhoward/getting-started-with-nlp-for-absolute-beginners/) for details about this technique):"
   ]
  },
  {
   "cell_type": "code",
   "execution_count": 1,
   "id": "42ded68c",
   "metadata": {
    "execution": {
     "iopub.execute_input": "2024-02-15T03:33:17.014965Z",
     "iopub.status.busy": "2024-02-15T03:33:17.014627Z",
     "iopub.status.idle": "2024-02-15T03:33:17.026347Z",
     "shell.execute_reply": "2024-02-15T03:33:17.025631Z"
    },
    "papermill": {
     "duration": 0.147317,
     "end_time": "2024-02-15T03:33:17.028358",
     "exception": false,
     "start_time": "2024-02-15T03:33:16.881041",
     "status": "completed"
    },
    "tags": []
   },
   "outputs": [],
   "source": [
    "import os\n",
    "from pathlib import Path\n",
    "\n",
    "iskaggle = os.environ.get('KAGGLE_KERNEL_RUN_TYPE', '')\n",
    "if iskaggle: path = Path('../input/titanic')\n",
    "else:\n",
    "    path = Path('titanic')\n",
    "    if not path.exists():\n",
    "        import zipfile,kaggle\n",
    "        kaggle.api.competition_download_cli(str(path))\n",
    "        zipfile.ZipFile(f'{path}.zip').extractall(path)"
   ]
  },
  {
   "cell_type": "markdown",
   "id": "20900238",
   "metadata": {
    "hidden": true,
    "papermill": {
     "duration": 0.138669,
     "end_time": "2024-02-15T03:33:17.300069",
     "exception": false,
     "start_time": "2024-02-15T03:33:17.161400",
     "status": "completed"
    },
    "tags": []
   },
   "source": [
    "Note that the data for Kaggle comps always lives in the `../input` folder. The easiest way to get the path is to click the \"K\" button in the top-right of the Kaggle notebook, click on the folder shown there, and click the copy button.\n",
    "\n",
    "We'll be using *numpy* and *pytorch* for array calculations in this notebook, and *pandas* for working with tabular data, so we'll import them and set them to display using a bit more space than they default to."
   ]
  },
  {
   "cell_type": "code",
   "execution_count": 2,
   "id": "6d1da0ec",
   "metadata": {
    "execution": {
     "iopub.execute_input": "2024-02-15T03:33:17.569254Z",
     "iopub.status.busy": "2024-02-15T03:33:17.568517Z",
     "iopub.status.idle": "2024-02-15T03:33:19.188595Z",
     "shell.execute_reply": "2024-02-15T03:33:19.187884Z"
    },
    "papermill": {
     "duration": 1.756317,
     "end_time": "2024-02-15T03:33:19.190916",
     "exception": false,
     "start_time": "2024-02-15T03:33:17.434599",
     "status": "completed"
    },
    "tags": []
   },
   "outputs": [],
   "source": [
    "import torch, numpy as np, pandas as pd\n",
    "np.set_printoptions(linewidth=140)\n",
    "torch.set_printoptions(linewidth=140, sci_mode=False, edgeitems=7)\n",
    "pd.set_option('display.width', 140)"
   ]
  },
  {
   "cell_type": "markdown",
   "id": "aa54963e",
   "metadata": {
    "heading_collapsed": true,
    "papermill": {
     "duration": 0.132685,
     "end_time": "2024-02-15T03:33:19.457412",
     "exception": false,
     "start_time": "2024-02-15T03:33:19.324727",
     "status": "completed"
    },
    "tags": []
   },
   "source": [
    "## Cleaning the data"
   ]
  },
  {
   "cell_type": "markdown",
   "id": "6806f325",
   "metadata": {
    "hidden": true,
    "papermill": {
     "duration": 0.134562,
     "end_time": "2024-02-15T03:33:19.723558",
     "exception": false,
     "start_time": "2024-02-15T03:33:19.588996",
     "status": "completed"
    },
    "tags": []
   },
   "source": [
    "This is a *tabular data* competition -- the data is in the form of a table. It's provided as a Comma Separated Values (CSV) file. We can open it using the *pandas* library, which will create a `DataFrame`."
   ]
  },
  {
   "cell_type": "code",
   "execution_count": 3,
   "id": "f27bcd9f",
   "metadata": {
    "execution": {
     "iopub.execute_input": "2024-02-15T03:33:20.004380Z",
     "iopub.status.busy": "2024-02-15T03:33:20.003757Z",
     "iopub.status.idle": "2024-02-15T03:33:20.050175Z",
     "shell.execute_reply": "2024-02-15T03:33:20.049435Z"
    },
    "hidden": true,
    "papermill": {
     "duration": 0.196302,
     "end_time": "2024-02-15T03:33:20.053503",
     "exception": false,
     "start_time": "2024-02-15T03:33:19.857201",
     "status": "completed"
    },
    "scrolled": true,
    "tags": []
   },
   "outputs": [
    {
     "data": {
      "text/html": [
       "<div>\n",
       "<style scoped>\n",
       "    .dataframe tbody tr th:only-of-type {\n",
       "        vertical-align: middle;\n",
       "    }\n",
       "\n",
       "    .dataframe tbody tr th {\n",
       "        vertical-align: top;\n",
       "    }\n",
       "\n",
       "    .dataframe thead th {\n",
       "        text-align: right;\n",
       "    }\n",
       "</style>\n",
       "<table border=\"1\" class=\"dataframe\">\n",
       "  <thead>\n",
       "    <tr style=\"text-align: right;\">\n",
       "      <th></th>\n",
       "      <th>PassengerId</th>\n",
       "      <th>Survived</th>\n",
       "      <th>Pclass</th>\n",
       "      <th>Name</th>\n",
       "      <th>Sex</th>\n",
       "      <th>Age</th>\n",
       "      <th>SibSp</th>\n",
       "      <th>Parch</th>\n",
       "      <th>Ticket</th>\n",
       "      <th>Fare</th>\n",
       "      <th>Cabin</th>\n",
       "      <th>Embarked</th>\n",
       "    </tr>\n",
       "  </thead>\n",
       "  <tbody>\n",
       "    <tr>\n",
       "      <th>0</th>\n",
       "      <td>1</td>\n",
       "      <td>0</td>\n",
       "      <td>3</td>\n",
       "      <td>Braund, Mr. Owen Harris</td>\n",
       "      <td>male</td>\n",
       "      <td>22.0</td>\n",
       "      <td>1</td>\n",
       "      <td>0</td>\n",
       "      <td>A/5 21171</td>\n",
       "      <td>7.2500</td>\n",
       "      <td>NaN</td>\n",
       "      <td>S</td>\n",
       "    </tr>\n",
       "    <tr>\n",
       "      <th>1</th>\n",
       "      <td>2</td>\n",
       "      <td>1</td>\n",
       "      <td>1</td>\n",
       "      <td>Cumings, Mrs. John Bradley (Florence Briggs Th...</td>\n",
       "      <td>female</td>\n",
       "      <td>38.0</td>\n",
       "      <td>1</td>\n",
       "      <td>0</td>\n",
       "      <td>PC 17599</td>\n",
       "      <td>71.2833</td>\n",
       "      <td>C85</td>\n",
       "      <td>C</td>\n",
       "    </tr>\n",
       "    <tr>\n",
       "      <th>2</th>\n",
       "      <td>3</td>\n",
       "      <td>1</td>\n",
       "      <td>3</td>\n",
       "      <td>Heikkinen, Miss. Laina</td>\n",
       "      <td>female</td>\n",
       "      <td>26.0</td>\n",
       "      <td>0</td>\n",
       "      <td>0</td>\n",
       "      <td>STON/O2. 3101282</td>\n",
       "      <td>7.9250</td>\n",
       "      <td>NaN</td>\n",
       "      <td>S</td>\n",
       "    </tr>\n",
       "    <tr>\n",
       "      <th>3</th>\n",
       "      <td>4</td>\n",
       "      <td>1</td>\n",
       "      <td>1</td>\n",
       "      <td>Futrelle, Mrs. Jacques Heath (Lily May Peel)</td>\n",
       "      <td>female</td>\n",
       "      <td>35.0</td>\n",
       "      <td>1</td>\n",
       "      <td>0</td>\n",
       "      <td>113803</td>\n",
       "      <td>53.1000</td>\n",
       "      <td>C123</td>\n",
       "      <td>S</td>\n",
       "    </tr>\n",
       "    <tr>\n",
       "      <th>4</th>\n",
       "      <td>5</td>\n",
       "      <td>0</td>\n",
       "      <td>3</td>\n",
       "      <td>Allen, Mr. William Henry</td>\n",
       "      <td>male</td>\n",
       "      <td>35.0</td>\n",
       "      <td>0</td>\n",
       "      <td>0</td>\n",
       "      <td>373450</td>\n",
       "      <td>8.0500</td>\n",
       "      <td>NaN</td>\n",
       "      <td>S</td>\n",
       "    </tr>\n",
       "    <tr>\n",
       "      <th>...</th>\n",
       "      <td>...</td>\n",
       "      <td>...</td>\n",
       "      <td>...</td>\n",
       "      <td>...</td>\n",
       "      <td>...</td>\n",
       "      <td>...</td>\n",
       "      <td>...</td>\n",
       "      <td>...</td>\n",
       "      <td>...</td>\n",
       "      <td>...</td>\n",
       "      <td>...</td>\n",
       "      <td>...</td>\n",
       "    </tr>\n",
       "    <tr>\n",
       "      <th>886</th>\n",
       "      <td>887</td>\n",
       "      <td>0</td>\n",
       "      <td>2</td>\n",
       "      <td>Montvila, Rev. Juozas</td>\n",
       "      <td>male</td>\n",
       "      <td>27.0</td>\n",
       "      <td>0</td>\n",
       "      <td>0</td>\n",
       "      <td>211536</td>\n",
       "      <td>13.0000</td>\n",
       "      <td>NaN</td>\n",
       "      <td>S</td>\n",
       "    </tr>\n",
       "    <tr>\n",
       "      <th>887</th>\n",
       "      <td>888</td>\n",
       "      <td>1</td>\n",
       "      <td>1</td>\n",
       "      <td>Graham, Miss. Margaret Edith</td>\n",
       "      <td>female</td>\n",
       "      <td>19.0</td>\n",
       "      <td>0</td>\n",
       "      <td>0</td>\n",
       "      <td>112053</td>\n",
       "      <td>30.0000</td>\n",
       "      <td>B42</td>\n",
       "      <td>S</td>\n",
       "    </tr>\n",
       "    <tr>\n",
       "      <th>888</th>\n",
       "      <td>889</td>\n",
       "      <td>0</td>\n",
       "      <td>3</td>\n",
       "      <td>Johnston, Miss. Catherine Helen \"Carrie\"</td>\n",
       "      <td>female</td>\n",
       "      <td>NaN</td>\n",
       "      <td>1</td>\n",
       "      <td>2</td>\n",
       "      <td>W./C. 6607</td>\n",
       "      <td>23.4500</td>\n",
       "      <td>NaN</td>\n",
       "      <td>S</td>\n",
       "    </tr>\n",
       "    <tr>\n",
       "      <th>889</th>\n",
       "      <td>890</td>\n",
       "      <td>1</td>\n",
       "      <td>1</td>\n",
       "      <td>Behr, Mr. Karl Howell</td>\n",
       "      <td>male</td>\n",
       "      <td>26.0</td>\n",
       "      <td>0</td>\n",
       "      <td>0</td>\n",
       "      <td>111369</td>\n",
       "      <td>30.0000</td>\n",
       "      <td>C148</td>\n",
       "      <td>C</td>\n",
       "    </tr>\n",
       "    <tr>\n",
       "      <th>890</th>\n",
       "      <td>891</td>\n",
       "      <td>0</td>\n",
       "      <td>3</td>\n",
       "      <td>Dooley, Mr. Patrick</td>\n",
       "      <td>male</td>\n",
       "      <td>32.0</td>\n",
       "      <td>0</td>\n",
       "      <td>0</td>\n",
       "      <td>370376</td>\n",
       "      <td>7.7500</td>\n",
       "      <td>NaN</td>\n",
       "      <td>Q</td>\n",
       "    </tr>\n",
       "  </tbody>\n",
       "</table>\n",
       "<p>891 rows × 12 columns</p>\n",
       "</div>"
      ],
      "text/plain": [
       "     PassengerId  Survived  Pclass                                               Name     Sex   Age  SibSp  Parch            Ticket  \\\n",
       "0              1         0       3                            Braund, Mr. Owen Harris    male  22.0      1      0         A/5 21171   \n",
       "1              2         1       1  Cumings, Mrs. John Bradley (Florence Briggs Th...  female  38.0      1      0          PC 17599   \n",
       "2              3         1       3                             Heikkinen, Miss. Laina  female  26.0      0      0  STON/O2. 3101282   \n",
       "3              4         1       1       Futrelle, Mrs. Jacques Heath (Lily May Peel)  female  35.0      1      0            113803   \n",
       "4              5         0       3                           Allen, Mr. William Henry    male  35.0      0      0            373450   \n",
       "..           ...       ...     ...                                                ...     ...   ...    ...    ...               ...   \n",
       "886          887         0       2                              Montvila, Rev. Juozas    male  27.0      0      0            211536   \n",
       "887          888         1       1                       Graham, Miss. Margaret Edith  female  19.0      0      0            112053   \n",
       "888          889         0       3           Johnston, Miss. Catherine Helen \"Carrie\"  female   NaN      1      2        W./C. 6607   \n",
       "889          890         1       1                              Behr, Mr. Karl Howell    male  26.0      0      0            111369   \n",
       "890          891         0       3                                Dooley, Mr. Patrick    male  32.0      0      0            370376   \n",
       "\n",
       "        Fare Cabin Embarked  \n",
       "0     7.2500   NaN        S  \n",
       "1    71.2833   C85        C  \n",
       "2     7.9250   NaN        S  \n",
       "3    53.1000  C123        S  \n",
       "4     8.0500   NaN        S  \n",
       "..       ...   ...      ...  \n",
       "886  13.0000   NaN        S  \n",
       "887  30.0000   B42        S  \n",
       "888  23.4500   NaN        S  \n",
       "889  30.0000  C148        C  \n",
       "890   7.7500   NaN        Q  \n",
       "\n",
       "[891 rows x 12 columns]"
      ]
     },
     "execution_count": 3,
     "metadata": {},
     "output_type": "execute_result"
    }
   ],
   "source": [
    "df = pd.read_csv(path/'train.csv')\n",
    "df"
   ]
  },
  {
   "cell_type": "markdown",
   "id": "3d10e772",
   "metadata": {
    "hidden": true,
    "papermill": {
     "duration": 0.1342,
     "end_time": "2024-02-15T03:33:20.333148",
     "exception": false,
     "start_time": "2024-02-15T03:33:20.198948",
     "status": "completed"
    },
    "tags": []
   },
   "source": [
    "As we learned in the *How does a neural net really work* notebook, we going to want to multiply each column by some coefficients. But we can see in the `Cabin` column that there are `NaN` values, which is how Pandas refers to missing values. We can't multiply something by a missing value!\n",
    "\n",
    "Let's check which columns contain `NaN` values. Pandas' `isna()` function returns `True` (which is treated as `1` when used as a number) for `NaN` values, so we can just add them up for each column:"
   ]
  },
  {
   "cell_type": "code",
   "execution_count": 4,
   "id": "08deb508",
   "metadata": {
    "execution": {
     "iopub.execute_input": "2024-02-15T03:33:20.602872Z",
     "iopub.status.busy": "2024-02-15T03:33:20.602266Z",
     "iopub.status.idle": "2024-02-15T03:33:20.611685Z",
     "shell.execute_reply": "2024-02-15T03:33:20.610956Z"
    },
    "hidden": true,
    "papermill": {
     "duration": 0.146447,
     "end_time": "2024-02-15T03:33:20.613759",
     "exception": false,
     "start_time": "2024-02-15T03:33:20.467312",
     "status": "completed"
    },
    "tags": []
   },
   "outputs": [
    {
     "data": {
      "text/plain": [
       "PassengerId      0\n",
       "Survived         0\n",
       "Pclass           0\n",
       "Name             0\n",
       "Sex              0\n",
       "Age            177\n",
       "SibSp            0\n",
       "Parch            0\n",
       "Ticket           0\n",
       "Fare             0\n",
       "Cabin          687\n",
       "Embarked         2\n",
       "dtype: int64"
      ]
     },
     "execution_count": 4,
     "metadata": {},
     "output_type": "execute_result"
    }
   ],
   "source": [
    "df.isna().sum()"
   ]
  },
  {
   "cell_type": "markdown",
   "id": "29b5dbf7",
   "metadata": {
    "hidden": true,
    "papermill": {
     "duration": 0.134591,
     "end_time": "2024-02-15T03:33:20.885338",
     "exception": false,
     "start_time": "2024-02-15T03:33:20.750747",
     "status": "completed"
    },
    "tags": []
   },
   "source": [
    "Notice that by default Pandas sums over columns.\n",
    "\n",
    "We'll need to replace the missing values with something. It doesn't generally matter too much what we choose. We'll use the most common value (the \"*mode*\"). We can use the `mode` function for that. One wrinkle is that it returns more than one row in the case of ties, so we just grab the first row with `iloc[0]`:"
   ]
  },
  {
   "cell_type": "code",
   "execution_count": 5,
   "id": "18e145f9",
   "metadata": {
    "execution": {
     "iopub.execute_input": "2024-02-15T03:33:21.159259Z",
     "iopub.status.busy": "2024-02-15T03:33:21.158961Z",
     "iopub.status.idle": "2024-02-15T03:33:21.181030Z",
     "shell.execute_reply": "2024-02-15T03:33:21.180262Z"
    },
    "hidden": true,
    "papermill": {
     "duration": 0.163319,
     "end_time": "2024-02-15T03:33:21.183097",
     "exception": false,
     "start_time": "2024-02-15T03:33:21.019778",
     "status": "completed"
    },
    "tags": []
   },
   "outputs": [
    {
     "data": {
      "text/plain": [
       "PassengerId                      1\n",
       "Survived                       0.0\n",
       "Pclass                         3.0\n",
       "Name           Abbing, Mr. Anthony\n",
       "Sex                           male\n",
       "Age                           24.0\n",
       "SibSp                          0.0\n",
       "Parch                          0.0\n",
       "Ticket                        1601\n",
       "Fare                          8.05\n",
       "Cabin                      B96 B98\n",
       "Embarked                         S\n",
       "Name: 0, dtype: object"
      ]
     },
     "execution_count": 5,
     "metadata": {},
     "output_type": "execute_result"
    }
   ],
   "source": [
    "modes = df.mode().iloc[0]\n",
    "modes"
   ]
  },
  {
   "cell_type": "markdown",
   "id": "27a6e978",
   "metadata": {
    "hidden": true,
    "papermill": {
     "duration": 0.13577,
     "end_time": "2024-02-15T03:33:21.461533",
     "exception": false,
     "start_time": "2024-02-15T03:33:21.325763",
     "status": "completed"
    },
    "tags": []
   },
   "source": [
    "BTW, it's never a good idea to use functions without understanding them. So be sure to google for anything you're not familiar with. E.g if you want to learn about `iloc` (which is a very important function indeed!) then Google will give you a link to a [great tutorial](https://www.shanelynn.ie/pandas-iloc-loc-select-rows-and-columns-dataframe/).\n",
    "\n",
    "Now that we've got the mode of each column, we can use `fillna` to replace the missing values with the mode of each column. We'll do it \"in place\" -- meaning that we'll change the dataframe itself, rather than returning a new one."
   ]
  },
  {
   "cell_type": "code",
   "execution_count": 6,
   "id": "0e7c750a",
   "metadata": {
    "execution": {
     "iopub.execute_input": "2024-02-15T03:33:21.739720Z",
     "iopub.status.busy": "2024-02-15T03:33:21.739121Z",
     "iopub.status.idle": "2024-02-15T03:33:21.751384Z",
     "shell.execute_reply": "2024-02-15T03:33:21.750526Z"
    },
    "hidden": true,
    "papermill": {
     "duration": 0.157384,
     "end_time": "2024-02-15T03:33:21.753344",
     "exception": false,
     "start_time": "2024-02-15T03:33:21.595960",
     "status": "completed"
    },
    "tags": []
   },
   "outputs": [],
   "source": [
    "df.fillna(modes, inplace=True)"
   ]
  },
  {
   "cell_type": "markdown",
   "id": "d4fc7c31",
   "metadata": {
    "hidden": true,
    "papermill": {
     "duration": 0.134228,
     "end_time": "2024-02-15T03:33:22.024861",
     "exception": false,
     "start_time": "2024-02-15T03:33:21.890633",
     "status": "completed"
    },
    "tags": []
   },
   "source": [
    "We can now check there's no missing values left:"
   ]
  },
  {
   "cell_type": "code",
   "execution_count": 7,
   "id": "4f945335",
   "metadata": {
    "execution": {
     "iopub.execute_input": "2024-02-15T03:33:22.300019Z",
     "iopub.status.busy": "2024-02-15T03:33:22.299347Z",
     "iopub.status.idle": "2024-02-15T03:33:22.308462Z",
     "shell.execute_reply": "2024-02-15T03:33:22.307783Z"
    },
    "hidden": true,
    "papermill": {
     "duration": 0.149932,
     "end_time": "2024-02-15T03:33:22.310563",
     "exception": false,
     "start_time": "2024-02-15T03:33:22.160631",
     "status": "completed"
    },
    "tags": []
   },
   "outputs": [
    {
     "data": {
      "text/plain": [
       "PassengerId    0\n",
       "Survived       0\n",
       "Pclass         0\n",
       "Name           0\n",
       "Sex            0\n",
       "Age            0\n",
       "SibSp          0\n",
       "Parch          0\n",
       "Ticket         0\n",
       "Fare           0\n",
       "Cabin          0\n",
       "Embarked       0\n",
       "dtype: int64"
      ]
     },
     "execution_count": 7,
     "metadata": {},
     "output_type": "execute_result"
    }
   ],
   "source": [
    "df.isna().sum()"
   ]
  },
  {
   "cell_type": "markdown",
   "id": "ce4a459d",
   "metadata": {
    "hidden": true,
    "papermill": {
     "duration": 0.13351,
     "end_time": "2024-02-15T03:33:22.579808",
     "exception": false,
     "start_time": "2024-02-15T03:33:22.446298",
     "status": "completed"
    },
    "tags": []
   },
   "source": [
    "Here's how we get a quick summary of all the numeric columns in the dataset:"
   ]
  },
  {
   "cell_type": "code",
   "execution_count": 8,
   "id": "fdf68876",
   "metadata": {
    "execution": {
     "iopub.execute_input": "2024-02-15T03:33:22.855942Z",
     "iopub.status.busy": "2024-02-15T03:33:22.855674Z",
     "iopub.status.idle": "2024-02-15T03:33:22.889657Z",
     "shell.execute_reply": "2024-02-15T03:33:22.888962Z"
    },
    "hidden": true,
    "papermill": {
     "duration": 0.1738,
     "end_time": "2024-02-15T03:33:22.891700",
     "exception": false,
     "start_time": "2024-02-15T03:33:22.717900",
     "status": "completed"
    },
    "tags": []
   },
   "outputs": [
    {
     "data": {
      "text/html": [
       "<div>\n",
       "<style scoped>\n",
       "    .dataframe tbody tr th:only-of-type {\n",
       "        vertical-align: middle;\n",
       "    }\n",
       "\n",
       "    .dataframe tbody tr th {\n",
       "        vertical-align: top;\n",
       "    }\n",
       "\n",
       "    .dataframe thead th {\n",
       "        text-align: right;\n",
       "    }\n",
       "</style>\n",
       "<table border=\"1\" class=\"dataframe\">\n",
       "  <thead>\n",
       "    <tr style=\"text-align: right;\">\n",
       "      <th></th>\n",
       "      <th>PassengerId</th>\n",
       "      <th>Survived</th>\n",
       "      <th>Pclass</th>\n",
       "      <th>Age</th>\n",
       "      <th>SibSp</th>\n",
       "      <th>Parch</th>\n",
       "      <th>Fare</th>\n",
       "    </tr>\n",
       "  </thead>\n",
       "  <tbody>\n",
       "    <tr>\n",
       "      <th>count</th>\n",
       "      <td>891.000000</td>\n",
       "      <td>891.000000</td>\n",
       "      <td>891.000000</td>\n",
       "      <td>891.000000</td>\n",
       "      <td>891.000000</td>\n",
       "      <td>891.000000</td>\n",
       "      <td>891.000000</td>\n",
       "    </tr>\n",
       "    <tr>\n",
       "      <th>mean</th>\n",
       "      <td>446.000000</td>\n",
       "      <td>0.383838</td>\n",
       "      <td>2.308642</td>\n",
       "      <td>28.566970</td>\n",
       "      <td>0.523008</td>\n",
       "      <td>0.381594</td>\n",
       "      <td>32.204208</td>\n",
       "    </tr>\n",
       "    <tr>\n",
       "      <th>std</th>\n",
       "      <td>257.353842</td>\n",
       "      <td>0.486592</td>\n",
       "      <td>0.836071</td>\n",
       "      <td>13.199572</td>\n",
       "      <td>1.102743</td>\n",
       "      <td>0.806057</td>\n",
       "      <td>49.693429</td>\n",
       "    </tr>\n",
       "    <tr>\n",
       "      <th>min</th>\n",
       "      <td>1.000000</td>\n",
       "      <td>0.000000</td>\n",
       "      <td>1.000000</td>\n",
       "      <td>0.420000</td>\n",
       "      <td>0.000000</td>\n",
       "      <td>0.000000</td>\n",
       "      <td>0.000000</td>\n",
       "    </tr>\n",
       "    <tr>\n",
       "      <th>25%</th>\n",
       "      <td>223.500000</td>\n",
       "      <td>0.000000</td>\n",
       "      <td>2.000000</td>\n",
       "      <td>22.000000</td>\n",
       "      <td>0.000000</td>\n",
       "      <td>0.000000</td>\n",
       "      <td>7.910400</td>\n",
       "    </tr>\n",
       "    <tr>\n",
       "      <th>50%</th>\n",
       "      <td>446.000000</td>\n",
       "      <td>0.000000</td>\n",
       "      <td>3.000000</td>\n",
       "      <td>24.000000</td>\n",
       "      <td>0.000000</td>\n",
       "      <td>0.000000</td>\n",
       "      <td>14.454200</td>\n",
       "    </tr>\n",
       "    <tr>\n",
       "      <th>75%</th>\n",
       "      <td>668.500000</td>\n",
       "      <td>1.000000</td>\n",
       "      <td>3.000000</td>\n",
       "      <td>35.000000</td>\n",
       "      <td>1.000000</td>\n",
       "      <td>0.000000</td>\n",
       "      <td>31.000000</td>\n",
       "    </tr>\n",
       "    <tr>\n",
       "      <th>max</th>\n",
       "      <td>891.000000</td>\n",
       "      <td>1.000000</td>\n",
       "      <td>3.000000</td>\n",
       "      <td>80.000000</td>\n",
       "      <td>8.000000</td>\n",
       "      <td>6.000000</td>\n",
       "      <td>512.329200</td>\n",
       "    </tr>\n",
       "  </tbody>\n",
       "</table>\n",
       "</div>"
      ],
      "text/plain": [
       "       PassengerId    Survived      Pclass         Age       SibSp       Parch        Fare\n",
       "count   891.000000  891.000000  891.000000  891.000000  891.000000  891.000000  891.000000\n",
       "mean    446.000000    0.383838    2.308642   28.566970    0.523008    0.381594   32.204208\n",
       "std     257.353842    0.486592    0.836071   13.199572    1.102743    0.806057   49.693429\n",
       "min       1.000000    0.000000    1.000000    0.420000    0.000000    0.000000    0.000000\n",
       "25%     223.500000    0.000000    2.000000   22.000000    0.000000    0.000000    7.910400\n",
       "50%     446.000000    0.000000    3.000000   24.000000    0.000000    0.000000   14.454200\n",
       "75%     668.500000    1.000000    3.000000   35.000000    1.000000    0.000000   31.000000\n",
       "max     891.000000    1.000000    3.000000   80.000000    8.000000    6.000000  512.329200"
      ]
     },
     "execution_count": 8,
     "metadata": {},
     "output_type": "execute_result"
    }
   ],
   "source": [
    "import numpy as np\n",
    "\n",
    "df.describe(include=(np.number))"
   ]
  },
  {
   "cell_type": "markdown",
   "id": "19d7171d",
   "metadata": {
    "execution": {
     "iopub.execute_input": "2022-05-13T11:02:34.328433Z",
     "iopub.status.busy": "2022-05-13T11:02:34.327999Z",
     "iopub.status.idle": "2022-05-13T11:02:34.336993Z",
     "shell.execute_reply": "2022-05-13T11:02:34.335466Z",
     "shell.execute_reply.started": "2022-05-13T11:02:34.32838Z"
    },
    "hidden": true,
    "papermill": {
     "duration": 0.135827,
     "end_time": "2024-02-15T03:33:23.177841",
     "exception": false,
     "start_time": "2024-02-15T03:33:23.042014",
     "status": "completed"
    },
    "tags": []
   },
   "source": [
    "We can see that `Fare` contains mainly values of around `0` to `30`, but there's a few really big ones. This is very common with fields contain monetary values, and it can cause problems for our model, because once that column is multiplied by a coefficient later, the few rows with really big values will dominate the result.\n",
    "\n",
    "You can see the issue most clearly visually by looking at a histogram, which shows a long tail to the right (and don't forget: if you're not entirely sure what a histogram is, Google \"[histogram tutorial](https://www.google.com/search?q=histogram+tutorial&oq=histogram+tutorial)\" and do a bit of reading before continuing on):"
   ]
  },
  {
   "cell_type": "code",
   "execution_count": 9,
   "id": "2d8c90a2",
   "metadata": {
    "execution": {
     "iopub.execute_input": "2024-02-15T03:33:23.453407Z",
     "iopub.status.busy": "2024-02-15T03:33:23.452746Z",
     "iopub.status.idle": "2024-02-15T03:33:23.735731Z",
     "shell.execute_reply": "2024-02-15T03:33:23.734714Z"
    },
    "hidden": true,
    "papermill": {
     "duration": 0.423377,
     "end_time": "2024-02-15T03:33:23.738779",
     "exception": false,
     "start_time": "2024-02-15T03:33:23.315402",
     "status": "completed"
    },
    "tags": []
   },
   "outputs": [
    {
     "data": {
      "image/png": "[encoded data removed]",
      "text/plain": [
       "<Figure size 432x288 with 1 Axes>"
      ]
     },
     "metadata": {
      "needs_background": "light"
     },
     "output_type": "display_data"
    }
   ],
   "source": [
    "df['Fare'].hist();"
   ]
  },
  {
   "cell_type": "markdown",
   "id": "9b6bb44c",
   "metadata": {
    "execution": {
     "iopub.execute_input": "2022-05-13T11:02:34.328433Z",
     "iopub.status.busy": "2022-05-13T11:02:34.327999Z",
     "iopub.status.idle": "2022-05-13T11:02:34.336993Z",
     "shell.execute_reply": "2022-05-13T11:02:34.335466Z",
     "shell.execute_reply.started": "2022-05-13T11:02:34.32838Z"
    },
    "hidden": true,
    "papermill": {
     "duration": 0.136504,
     "end_time": "2024-02-15T03:33:24.026275",
     "exception": false,
     "start_time": "2024-02-15T03:33:23.889771",
     "status": "completed"
    },
    "tags": []
   },
   "source": [
    "To fix this, the most common approach is to take the logarithm, which squishes the big numbers and makes the distribution more reasonable. Note, however, that there are zeros in the `Fare` column, and `log(0)` is infinite -- to fix this, we'll simply add `1` to all values first:"
   ]
  },
  {
   "cell_type": "code",
   "execution_count": 10,
   "id": "65bf797f",
   "metadata": {
    "execution": {
     "iopub.execute_input": "2024-02-15T03:33:24.301212Z",
     "iopub.status.busy": "2024-02-15T03:33:24.300462Z",
     "iopub.status.idle": "2024-02-15T03:33:24.306060Z",
     "shell.execute_reply": "2024-02-15T03:33:24.305306Z"
    },
    "hidden": true,
    "papermill": {
     "duration": 0.146633,
     "end_time": "2024-02-15T03:33:24.308300",
     "exception": false,
     "start_time": "2024-02-15T03:33:24.161667",
     "status": "completed"
    },
    "tags": []
   },
   "outputs": [],
   "source": [
    "df['LogFare'] = np.log(df['Fare']+1)"
   ]
  },
  {
   "cell_type": "markdown",
   "id": "272fb461",
   "metadata": {
    "hidden": true,
    "papermill": {
     "duration": 0.137345,
     "end_time": "2024-02-15T03:33:24.595470",
     "exception": false,
     "start_time": "2024-02-15T03:33:24.458125",
     "status": "completed"
    },
    "tags": []
   },
   "source": [
    "The histogram now shows a more even distribution of values without the long tail:"
   ]
  },
  {
   "cell_type": "code",
   "execution_count": 11,
   "id": "f7f49e8a",
   "metadata": {
    "execution": {
     "iopub.execute_input": "2024-02-15T03:33:24.872211Z",
     "iopub.status.busy": "2024-02-15T03:33:24.871550Z",
     "iopub.status.idle": "2024-02-15T03:33:25.116291Z",
     "shell.execute_reply": "2024-02-15T03:33:25.115613Z"
    },
    "hidden": true,
    "papermill": {
     "duration": 0.385278,
     "end_time": "2024-02-15T03:33:25.118199",
     "exception": false,
     "start_time": "2024-02-15T03:33:24.732921",
     "status": "completed"
    },
    "tags": []
   },
   "outputs": [
    {
     "data": {
      "image/png": "[encoded data removed]",
      "text/plain": [
       "<Figure size 432x288 with 1 Axes>"
      ]
     },
     "metadata": {
      "needs_background": "light"
     },
     "output_type": "display_data"
    }
   ],
   "source": [
    "df['LogFare'].hist();"
   ]
  },
  {
   "cell_type": "markdown",
   "id": "fb40209d",
   "metadata": {
    "hidden": true,
    "papermill": {
     "duration": 0.152942,
     "end_time": "2024-02-15T03:33:25.412031",
     "exception": false,
     "start_time": "2024-02-15T03:33:25.259089",
     "status": "completed"
    },
    "tags": []
   },
   "source": [
    "It looks from the `describe()` output like `Pclass` contains just 3 values, which we can confirm by looking at the [Data Dictionary](https://www.kaggle.com/competitions/titanic/data) (which you should always study carefully for any project!) -- "
   ]
  },
  {
   "cell_type": "code",
   "execution_count": 12,
   "id": "2204e72a",
   "metadata": {
    "execution": {
     "iopub.execute_input": "2024-02-15T03:33:25.699087Z",
     "iopub.status.busy": "2024-02-15T03:33:25.698495Z",
     "iopub.status.idle": "2024-02-15T03:33:25.704483Z",
     "shell.execute_reply": "2024-02-15T03:33:25.703781Z"
    },
    "hidden": true,
    "papermill": {
     "duration": 0.148511,
     "end_time": "2024-02-15T03:33:25.706402",
     "exception": false,
     "start_time": "2024-02-15T03:33:25.557891",
     "status": "completed"
    },
    "tags": []
   },
   "outputs": [
    {
     "data": {
      "text/plain": [
       "[1, 2, 3]"
      ]
     },
     "execution_count": 12,
     "metadata": {},
     "output_type": "execute_result"
    }
   ],
   "source": [
    "pclasses = sorted(df.Pclass.unique())\n",
    "pclasses"
   ]
  },
  {
   "cell_type": "markdown",
   "id": "b0602492",
   "metadata": {
    "hidden": true,
    "papermill": {
     "duration": 0.141098,
     "end_time": "2024-02-15T03:33:25.985864",
     "exception": false,
     "start_time": "2024-02-15T03:33:25.844766",
     "status": "completed"
    },
    "tags": []
   },
   "source": [
    "Here's how we get a quick summary of all the non-numeric columns in the dataset:"
   ]
  },
  {
   "cell_type": "code",
   "execution_count": 13,
   "id": "0a9ebdbe",
   "metadata": {
    "execution": {
     "iopub.execute_input": "2024-02-15T03:33:26.261745Z",
     "iopub.status.busy": "2024-02-15T03:33:26.261464Z",
     "iopub.status.idle": "2024-02-15T03:33:26.282912Z",
     "shell.execute_reply": "2024-02-15T03:33:26.282093Z"
    },
    "hidden": true,
    "papermill": {
     "duration": 0.161857,
     "end_time": "2024-02-15T03:33:26.285009",
     "exception": false,
     "start_time": "2024-02-15T03:33:26.123152",
     "status": "completed"
    },
    "tags": []
   },
   "outputs": [
    {
     "data": {
      "text/html": [
       "<div>\n",
       "<style scoped>\n",
       "    .dataframe tbody tr th:only-of-type {\n",
       "        vertical-align: middle;\n",
       "    }\n",
       "\n",
       "    .dataframe tbody tr th {\n",
       "        vertical-align: top;\n",
       "    }\n",
       "\n",
       "    .dataframe thead th {\n",
       "        text-align: right;\n",
       "    }\n",
       "</style>\n",
       "<table border=\"1\" class=\"dataframe\">\n",
       "  <thead>\n",
       "    <tr style=\"text-align: right;\">\n",
       "      <th></th>\n",
       "      <th>Name</th>\n",
       "      <th>Sex</th>\n",
       "      <th>Ticket</th>\n",
       "      <th>Cabin</th>\n",
       "      <th>Embarked</th>\n",
       "    </tr>\n",
       "  </thead>\n",
       "  <tbody>\n",
       "    <tr>\n",
       "      <th>count</th>\n",
       "      <td>891</td>\n",
       "      <td>891</td>\n",
       "      <td>891</td>\n",
       "      <td>891</td>\n",
       "      <td>891</td>\n",
       "    </tr>\n",
       "    <tr>\n",
       "      <th>unique</th>\n",
       "      <td>891</td>\n",
       "      <td>2</td>\n",
       "      <td>681</td>\n",
       "      <td>147</td>\n",
       "      <td>3</td>\n",
       "    </tr>\n",
       "    <tr>\n",
       "      <th>top</th>\n",
       "      <td>Braund, Mr. Owen Harris</td>\n",
       "      <td>male</td>\n",
       "      <td>347082</td>\n",
       "      <td>B96 B98</td>\n",
       "      <td>S</td>\n",
       "    </tr>\n",
       "    <tr>\n",
       "      <th>freq</th>\n",
       "      <td>1</td>\n",
       "      <td>577</td>\n",
       "      <td>7</td>\n",
       "      <td>691</td>\n",
       "      <td>646</td>\n",
       "    </tr>\n",
       "  </tbody>\n",
       "</table>\n",
       "</div>"
      ],
      "text/plain": [
       "                           Name   Sex  Ticket    Cabin Embarked\n",
       "count                       891   891     891      891      891\n",
       "unique                      891     2     681      147        3\n",
       "top     Braund, Mr. Owen Harris  male  347082  B96 B98        S\n",
       "freq                          1   577       7      691      646"
      ]
     },
     "execution_count": 13,
     "metadata": {},
     "output_type": "execute_result"
    }
   ],
   "source": [
    "df.describe(include=[object])"
   ]
  },
  {
   "cell_type": "markdown",
   "id": "93bb4056",
   "metadata": {
    "hidden": true,
    "papermill": {
     "duration": 0.13832,
     "end_time": "2024-02-15T03:33:26.565381",
     "exception": false,
     "start_time": "2024-02-15T03:33:26.427061",
     "status": "completed"
    },
    "tags": []
   },
   "source": [
    "Clearly we can't multiply strings like `male` or `S` by coefficients, so we need to replace those with numbers.\n",
    "\n",
    "We do that by creating new columns containing *dummy variables*. A dummy variable is a column that contains a `1` where a particular column contains a particular value, or a `0` otherwise. For instance, we could create a dummy variable for `Sex='male'`, which would be a new column containing `1` for rows where `Sex` is `'male'`, and 0 for rows where it isn't.\n",
    "\n",
    "Pandas can create these automatically using `get_dummies`, which also remove the original columns. We'll create dummy variables for `Pclass`, even although it's numeric, since the numbers `1`, `2`, and `3` correspond to first, second, and third class cabins - not to counts or measures that make sense to multiply by. We'll also create dummies for `Sex` and `Embarked` since we'll want to use those as predictors in our model. On the other hand, `Cabin`, `Name`, and `Ticket` have too many unique values for it to make sense creating dummy variables for them."
   ]
  },
  {
   "cell_type": "code",
   "execution_count": 14,
   "id": "28e1eb6c",
   "metadata": {
    "execution": {
     "iopub.execute_input": "2024-02-15T03:33:26.850712Z",
     "iopub.status.busy": "2024-02-15T03:33:26.849958Z",
     "iopub.status.idle": "2024-02-15T03:33:26.863213Z",
     "shell.execute_reply": "2024-02-15T03:33:26.862418Z"
    },
    "hidden": true,
    "papermill": {
     "duration": 0.158017,
     "end_time": "2024-02-15T03:33:26.865393",
     "exception": false,
     "start_time": "2024-02-15T03:33:26.707376",
     "status": "completed"
    },
    "tags": []
   },
   "outputs": [
    {
     "data": {
      "text/plain": [
       "Index(['PassengerId', 'Survived', 'Name', 'Age', 'SibSp', 'Parch', 'Ticket', 'Fare', 'Cabin', 'LogFare', 'Sex_female', 'Sex_male',\n",
       "       'Pclass_1', 'Pclass_2', 'Pclass_3', 'Embarked_C', 'Embarked_Q', 'Embarked_S'],\n",
       "      dtype='object')"
      ]
     },
     "execution_count": 14,
     "metadata": {},
     "output_type": "execute_result"
    }
   ],
   "source": [
    "df = pd.get_dummies(df, columns=[\"Sex\",\"Pclass\",\"Embarked\"])\n",
    "df.columns"
   ]
  },
  {
   "cell_type": "markdown",
   "id": "d431aab6",
   "metadata": {
    "hidden": true,
    "papermill": {
     "duration": 0.13893,
     "end_time": "2024-02-15T03:33:27.157484",
     "exception": false,
     "start_time": "2024-02-15T03:33:27.018554",
     "status": "completed"
    },
    "tags": []
   },
   "source": [
    "We can see that 5 columns have been added to the end -- one for each of the possible values of each of the three columns we requested, and that those three requested columns have been removed.\n",
    "\n",
    "Here's what the first few rows of those newly added columns look like:"
   ]
  },
  {
   "cell_type": "code",
   "execution_count": 15,
   "id": "8e905f99",
   "metadata": {
    "execution": {
     "iopub.execute_input": "2024-02-15T03:33:27.451947Z",
     "iopub.status.busy": "2024-02-15T03:33:27.451652Z",
     "iopub.status.idle": "2024-02-15T03:33:27.464169Z",
     "shell.execute_reply": "2024-02-15T03:33:27.463454Z"
    },
    "hidden": true,
    "papermill": {
     "duration": 0.166326,
     "end_time": "2024-02-15T03:33:27.466136",
     "exception": false,
     "start_time": "2024-02-15T03:33:27.299810",
     "status": "completed"
    },
    "tags": []
   },
   "outputs": [
    {
     "data": {
      "text/html": [
       "<div>\n",
       "<style scoped>\n",
       "    .dataframe tbody tr th:only-of-type {\n",
       "        vertical-align: middle;\n",
       "    }\n",
       "\n",
       "    .dataframe tbody tr th {\n",
       "        vertical-align: top;\n",
       "    }\n",
       "\n",
       "    .dataframe thead th {\n",
       "        text-align: right;\n",
       "    }\n",
       "</style>\n",
       "<table border=\"1\" class=\"dataframe\">\n",
       "  <thead>\n",
       "    <tr style=\"text-align: right;\">\n",
       "      <th></th>\n",
       "      <th>Sex_male</th>\n",
       "      <th>Sex_female</th>\n",
       "      <th>Pclass_1</th>\n",
       "      <th>Pclass_2</th>\n",
       "      <th>Pclass_3</th>\n",
       "      <th>Embarked_C</th>\n",
       "      <th>Embarked_Q</th>\n",
       "      <th>Embarked_S</th>\n",
       "    </tr>\n",
       "  </thead>\n",
       "  <tbody>\n",
       "    <tr>\n",
       "      <th>0</th>\n",
       "      <td>1</td>\n",
       "      <td>0</td>\n",
       "      <td>0</td>\n",
       "      <td>0</td>\n",
       "      <td>1</td>\n",
       "      <td>0</td>\n",
       "      <td>0</td>\n",
       "      <td>1</td>\n",
       "    </tr>\n",
       "    <tr>\n",
       "      <th>1</th>\n",
       "      <td>0</td>\n",
       "      <td>1</td>\n",
       "      <td>1</td>\n",
       "      <td>0</td>\n",
       "      <td>0</td>\n",
       "      <td>1</td>\n",
       "      <td>0</td>\n",
       "      <td>0</td>\n",
       "    </tr>\n",
       "    <tr>\n",
       "      <th>2</th>\n",
       "      <td>0</td>\n",
       "      <td>1</td>\n",
       "      <td>0</td>\n",
       "      <td>0</td>\n",
       "      <td>1</td>\n",
       "      <td>0</td>\n",
       "      <td>0</td>\n",
       "      <td>1</td>\n",
       "    </tr>\n",
       "    <tr>\n",
       "      <th>3</th>\n",
       "      <td>0</td>\n",
       "      <td>1</td>\n",
       "      <td>1</td>\n",
       "      <td>0</td>\n",
       "      <td>0</td>\n",
       "      <td>0</td>\n",
       "      <td>0</td>\n",
       "      <td>1</td>\n",
       "    </tr>\n",
       "    <tr>\n",
       "      <th>4</th>\n",
       "      <td>1</td>\n",
       "      <td>0</td>\n",
       "      <td>0</td>\n",
       "      <td>0</td>\n",
       "      <td>1</td>\n",
       "      <td>0</td>\n",
       "      <td>0</td>\n",
       "      <td>1</td>\n",
       "    </tr>\n",
       "  </tbody>\n",
       "</table>\n",
       "</div>"
      ],
      "text/plain": [
       "   Sex_male  Sex_female  Pclass_1  Pclass_2  Pclass_3  Embarked_C  Embarked_Q  Embarked_S\n",
       "0         1           0         0         0         1           0           0           1\n",
       "1         0           1         1         0         0           1           0           0\n",
       "2         0           1         0         0         1           0           0           1\n",
       "3         0           1         1         0         0           0           0           1\n",
       "4         1           0         0         0         1           0           0           1"
      ]
     },
     "execution_count": 15,
     "metadata": {},
     "output_type": "execute_result"
    }
   ],
   "source": [
    "added_cols = ['Sex_male', 'Sex_female', 'Pclass_1', 'Pclass_2', 'Pclass_3', 'Embarked_C', 'Embarked_Q', 'Embarked_S']\n",
    "df[added_cols].head()"
   ]
  },
  {
   "cell_type": "markdown",
   "id": "a903d6a9",
   "metadata": {
    "hidden": true,
    "papermill": {
     "duration": 0.143955,
     "end_time": "2024-02-15T03:33:27.756120",
     "exception": false,
     "start_time": "2024-02-15T03:33:27.612165",
     "status": "completed"
    },
    "tags": []
   },
   "source": [
    "Now we can create our independent (predictors) and dependent (target) variables. They both need to be PyTorch tensors. Our dependent variable is `Survived`:"
   ]
  },
  {
   "cell_type": "code",
   "execution_count": 16,
   "id": "cbd98055",
   "metadata": {
    "execution": {
     "iopub.execute_input": "2024-02-15T03:33:28.040744Z",
     "iopub.status.busy": "2024-02-15T03:33:28.040484Z",
     "iopub.status.idle": "2024-02-15T03:33:28.057727Z",
     "shell.execute_reply": "2024-02-15T03:33:28.057088Z"
    },
    "hidden": true,
    "papermill": {
     "duration": 0.163414,
     "end_time": "2024-02-15T03:33:28.059733",
     "exception": false,
     "start_time": "2024-02-15T03:33:27.896319",
     "status": "completed"
    },
    "tags": []
   },
   "outputs": [],
   "source": [
    "from torch import tensor\n",
    "\n",
    "t_dep = tensor(df.Survived)"
   ]
  },
  {
   "cell_type": "markdown",
   "id": "9e8acfb3",
   "metadata": {
    "hidden": true,
    "papermill": {
     "duration": 0.144079,
     "end_time": "2024-02-15T03:33:28.347439",
     "exception": false,
     "start_time": "2024-02-15T03:33:28.203360",
     "status": "completed"
    },
    "tags": []
   },
   "source": [
    "Our independent variables are all the continuous variables of interest plus all the dummy variables we just created:"
   ]
  },
  {
   "cell_type": "code",
   "execution_count": 17,
   "id": "8c45e362",
   "metadata": {
    "execution": {
     "iopub.execute_input": "2024-02-15T03:33:28.629530Z",
     "iopub.status.busy": "2024-02-15T03:33:28.629251Z",
     "iopub.status.idle": "2024-02-15T03:33:28.692972Z",
     "shell.execute_reply": "2024-02-15T03:33:28.692185Z"
    },
    "hidden": true,
    "papermill": {
     "duration": 0.206518,
     "end_time": "2024-02-15T03:33:28.694992",
     "exception": false,
     "start_time": "2024-02-15T03:33:28.488474",
     "status": "completed"
    },
    "tags": []
   },
   "outputs": [
    {
     "data": {
      "text/plain": [
       "tensor([[22.0000,  1.0000,  0.0000,  2.1102,  1.0000,  0.0000,  0.0000,  0.0000,  1.0000,  0.0000,  0.0000,  1.0000],\n",
       "        [38.0000,  1.0000,  0.0000,  4.2806,  0.0000,  1.0000,  1.0000,  0.0000,  0.0000,  1.0000,  0.0000,  0.0000],\n",
       "        [26.0000,  0.0000,  0.0000,  2.1889,  0.0000,  1.0000,  0.0000,  0.0000,  1.0000,  0.0000,  0.0000,  1.0000],\n",
       "        [35.0000,  1.0000,  0.0000,  3.9908,  0.0000,  1.0000,  1.0000,  0.0000,  0.0000,  0.0000,  0.0000,  1.0000],\n",
       "        [35.0000,  0.0000,  0.0000,  2.2028,  1.0000,  0.0000,  0.0000,  0.0000,  1.0000,  0.0000,  0.0000,  1.0000],\n",
       "        [24.0000,  0.0000,  0.0000,  2.2469,  1.0000,  0.0000,  0.0000,  0.0000,  1.0000,  0.0000,  1.0000,  0.0000],\n",
       "        [54.0000,  0.0000,  0.0000,  3.9677,  1.0000,  0.0000,  1.0000,  0.0000,  0.0000,  0.0000,  0.0000,  1.0000],\n",
       "        ...,\n",
       "        [25.0000,  0.0000,  0.0000,  2.0857,  1.0000,  0.0000,  0.0000,  0.0000,  1.0000,  0.0000,  0.0000,  1.0000],\n",
       "        [39.0000,  0.0000,  5.0000,  3.4054,  0.0000,  1.0000,  0.0000,  0.0000,  1.0000,  0.0000,  1.0000,  0.0000],\n",
       "        [27.0000,  0.0000,  0.0000,  2.6391,  1.0000,  0.0000,  0.0000,  1.0000,  0.0000,  0.0000,  0.0000,  1.0000],\n",
       "        [19.0000,  0.0000,  0.0000,  3.4340,  0.0000,  1.0000,  1.0000,  0.0000,  0.0000,  0.0000,  0.0000,  1.0000],\n",
       "        [24.0000,  1.0000,  2.0000,  3.1966,  0.0000,  1.0000,  0.0000,  0.0000,  1.0000,  0.0000,  0.0000,  1.0000],\n",
       "        [26.0000,  0.0000,  0.0000,  3.4340,  1.0000,  0.0000,  1.0000,  0.0000,  0.0000,  1.0000,  0.0000,  0.0000],\n",
       "        [32.0000,  0.0000,  0.0000,  2.1691,  1.0000,  0.0000,  0.0000,  0.0000,  1.0000,  0.0000,  1.0000,  0.0000]])"
      ]
     },
     "execution_count": 17,
     "metadata": {},
     "output_type": "execute_result"
    }
   ],
   "source": [
    "indep_cols = ['Age', 'SibSp', 'Parch', 'LogFare'] + added_cols\n",
    "\n",
    "t_indep = tensor(df[indep_cols].values, dtype=torch.float)\n",
    "t_indep"
   ]
  },
  {
   "cell_type": "markdown",
   "id": "cf4cde08",
   "metadata": {
    "hidden": true,
    "papermill": {
     "duration": 0.140279,
     "end_time": "2024-02-15T03:33:28.976629",
     "exception": false,
     "start_time": "2024-02-15T03:33:28.836350",
     "status": "completed"
    },
    "tags": []
   },
   "source": [
    "Here's the number of rows and columns we have for our independent variables:"
   ]
  },
  {
   "cell_type": "code",
   "execution_count": 18,
   "id": "fbe47dbd",
   "metadata": {
    "execution": {
     "iopub.execute_input": "2024-02-15T03:33:29.263483Z",
     "iopub.status.busy": "2024-02-15T03:33:29.262762Z",
     "iopub.status.idle": "2024-02-15T03:33:29.268128Z",
     "shell.execute_reply": "2024-02-15T03:33:29.267382Z"
    },
    "hidden": true,
    "papermill": {
     "duration": 0.149531,
     "end_time": "2024-02-15T03:33:29.269958",
     "exception": false,
     "start_time": "2024-02-15T03:33:29.120427",
     "status": "completed"
    },
    "tags": []
   },
   "outputs": [
    {
     "data": {
      "text/plain": [
       "torch.Size([891, 12])"
      ]
     },
     "execution_count": 18,
     "metadata": {},
     "output_type": "execute_result"
    }
   ],
   "source": [
    "t_indep.shape"
   ]
  },
  {
   "cell_type": "markdown",
   "id": "66bc3186",
   "metadata": {
    "papermill": {
     "duration": 0.140566,
     "end_time": "2024-02-15T03:33:29.550609",
     "exception": false,
     "start_time": "2024-02-15T03:33:29.410043",
     "status": "completed"
    },
    "tags": []
   },
   "source": [
    "## Setting up a linear model"
   ]
  },
  {
   "cell_type": "markdown",
   "id": "cc5ffc84",
   "metadata": {
    "papermill": {
     "duration": 0.147381,
     "end_time": "2024-02-15T03:33:29.843149",
     "exception": false,
     "start_time": "2024-02-15T03:33:29.695768",
     "status": "completed"
    },
    "tags": []
   },
   "source": [
    "Now that we've got a matrix of independent variables and a dependent variable vector, we can work on calculating our predictions and our loss. In this section, we're going to manually do a single step of calculating predictions and loss for every row of our data.\n",
    "\n",
    "Our first model will be a simple linear model. We'll need a coefficient for each column in `t_indep`. We'll pick random numbers in the range `(-0.5,0.5)`, and set our manual seed so that my explanations in the prose in this notebook will be consistent with what you see when you run it."
   ]
  },
  {
   "cell_type": "code",
   "execution_count": 19,
   "id": "2de64ca2",
   "metadata": {
    "execution": {
     "iopub.execute_input": "2024-02-15T03:33:30.127034Z",
     "iopub.status.busy": "2024-02-15T03:33:30.126338Z",
     "iopub.status.idle": "2024-02-15T03:33:30.141484Z",
     "shell.execute_reply": "2024-02-15T03:33:30.140709Z"
    },
    "papermill": {
     "duration": 0.15882,
     "end_time": "2024-02-15T03:33:30.143480",
     "exception": false,
     "start_time": "2024-02-15T03:33:29.984660",
     "status": "completed"
    },
    "tags": []
   },
   "outputs": [
    {
     "data": {
      "text/plain": [
       "tensor([-0.4629,  0.1386,  0.2409, -0.2262, -0.2632, -0.3147,  0.4876,  0.3136,  0.2799, -0.4392,  0.2103,  0.3625])"
      ]
     },
     "execution_count": 19,
     "metadata": {},
     "output_type": "execute_result"
    }
   ],
   "source": [
    "torch.manual_seed(442)\n",
    "\n",
    "n_coeff = t_indep.shape[1]\n",
    "coeffs = torch.rand(n_coeff)-0.5\n",
    "coeffs"
   ]
  },
  {
   "cell_type": "markdown",
   "id": "afe63150",
   "metadata": {
    "papermill": {
     "duration": 0.14539,
     "end_time": "2024-02-15T03:33:30.435344",
     "exception": false,
     "start_time": "2024-02-15T03:33:30.289954",
     "status": "completed"
    },
    "tags": []
   },
   "source": [
    "Our predictions will be calculated by multiplying each row by the coefficients, and adding them up. One interesting point here is that we don't need a separate constant term (also known as a \"bias\" or \"intercept\" term), or a column of all `1`s to give the same effect has having a constant term. That's because our dummy variables already cover the entire dataset -- e.g. there's a column for \"male\" and a column for \"female\", and everyone in the dataset is in exactly one of these; therefore, we don't need a separate intercept term to cover rows that aren't otherwise part of a column.\n",
    "\n",
    "Here's what the multiplication looks like:"
   ]
  },
  {
   "cell_type": "code",
   "execution_count": 20,
   "id": "be48ee1c",
   "metadata": {
    "execution": {
     "iopub.execute_input": "2024-02-15T03:33:30.724371Z",
     "iopub.status.busy": "2024-02-15T03:33:30.723636Z",
     "iopub.status.idle": "2024-02-15T03:33:30.730829Z",
     "shell.execute_reply": "2024-02-15T03:33:30.730024Z"
    },
    "papermill": {
     "duration": 0.153431,
     "end_time": "2024-02-15T03:33:30.732721",
     "exception": false,
     "start_time": "2024-02-15T03:33:30.579290",
     "status": "completed"
    },
    "tags": []
   },
   "outputs": [
    {
     "data": {
      "text/plain": [
       "tensor([[-10.1838,   0.1386,   0.0000,  -0.4772,  -0.2632,  -0.0000,   0.0000,   0.0000,   0.2799,  -0.0000,   0.0000,   0.3625],\n",
       "        [-17.5902,   0.1386,   0.0000,  -0.9681,  -0.0000,  -0.3147,   0.4876,   0.0000,   0.0000,  -0.4392,   0.0000,   0.0000],\n",
       "        [-12.0354,   0.0000,   0.0000,  -0.4950,  -0.0000,  -0.3147,   0.0000,   0.0000,   0.2799,  -0.0000,   0.0000,   0.3625],\n",
       "        [-16.2015,   0.1386,   0.0000,  -0.9025,  -0.0000,  -0.3147,   0.4876,   0.0000,   0.0000,  -0.0000,   0.0000,   0.3625],\n",
       "        [-16.2015,   0.0000,   0.0000,  -0.4982,  -0.2632,  -0.0000,   0.0000,   0.0000,   0.2799,  -0.0000,   0.0000,   0.3625],\n",
       "        [-11.1096,   0.0000,   0.0000,  -0.5081,  -0.2632,  -0.0000,   0.0000,   0.0000,   0.2799,  -0.0000,   0.2103,   0.0000],\n",
       "        [-24.9966,   0.0000,   0.0000,  -0.8973,  -0.2632,  -0.0000,   0.4876,   0.0000,   0.0000,  -0.0000,   0.0000,   0.3625],\n",
       "        ...,\n",
       "        [-11.5725,   0.0000,   0.0000,  -0.4717,  -0.2632,  -0.0000,   0.0000,   0.0000,   0.2799,  -0.0000,   0.0000,   0.3625],\n",
       "        [-18.0531,   0.0000,   1.2045,  -0.7701,  -0.0000,  -0.3147,   0.0000,   0.0000,   0.2799,  -0.0000,   0.2103,   0.0000],\n",
       "        [-12.4983,   0.0000,   0.0000,  -0.5968,  -0.2632,  -0.0000,   0.0000,   0.3136,   0.0000,  -0.0000,   0.0000,   0.3625],\n",
       "        [ -8.7951,   0.0000,   0.0000,  -0.7766,  -0.0000,  -0.3147,   0.4876,   0.0000,   0.0000,  -0.0000,   0.0000,   0.3625],\n",
       "        [-11.1096,   0.1386,   0.4818,  -0.7229,  -0.0000,  -0.3147,   0.0000,   0.0000,   0.2799,  -0.0000,   0.0000,   0.3625],\n",
       "        [-12.0354,   0.0000,   0.0000,  -0.7766,  -0.2632,  -0.0000,   0.4876,   0.0000,   0.0000,  -0.4392,   0.0000,   0.0000],\n",
       "        [-14.8128,   0.0000,   0.0000,  -0.4905,  -0.2632,  -0.0000,   0.0000,   0.0000,   0.2799,  -0.0000,   0.2103,   0.0000]])"
      ]
     },
     "execution_count": 20,
     "metadata": {},
     "output_type": "execute_result"
    }
   ],
   "source": [
    "t_indep*coeffs"
   ]
  },
  {
   "cell_type": "markdown",
   "id": "feef9f4e",
   "metadata": {
    "papermill": {
     "duration": 0.142989,
     "end_time": "2024-02-15T03:33:31.019113",
     "exception": false,
     "start_time": "2024-02-15T03:33:30.876124",
     "status": "completed"
    },
    "tags": []
   },
   "source": [
    "We can see we've got a problem here. The sums of each row will be dominated by the first column, which is `Age`, since that's bigger on average than all the others.\n",
    "\n",
    "Let's make all the columns contain numbers from `0` to `1`, by dividing each column by its `max()`:"
   ]
  },
  {
   "cell_type": "code",
   "execution_count": 21,
   "id": "5ecb9c14",
   "metadata": {
    "execution": {
     "iopub.execute_input": "2024-02-15T03:33:31.308438Z",
     "iopub.status.busy": "2024-02-15T03:33:31.307695Z",
     "iopub.status.idle": "2024-02-15T03:33:31.314210Z",
     "shell.execute_reply": "2024-02-15T03:33:31.313570Z"
    },
    "papermill": {
     "duration": 0.154322,
     "end_time": "2024-02-15T03:33:31.316067",
     "exception": false,
     "start_time": "2024-02-15T03:33:31.161745",
     "status": "completed"
    },
    "tags": []
   },
   "outputs": [],
   "source": [
    "vals,indices = t_indep.max(dim=0)\n",
    "t_indep = t_indep / vals"
   ]
  },
  {
   "cell_type": "markdown",
   "id": "6c85805e",
   "metadata": {
    "papermill": {
     "duration": 0.140535,
     "end_time": "2024-02-15T03:33:31.600100",
     "exception": false,
     "start_time": "2024-02-15T03:33:31.459565",
     "status": "completed"
    },
    "tags": []
   },
   "source": [
    "As we see, that removes the problem of one column dominating all the others:"
   ]
  },
  {
   "cell_type": "code",
   "execution_count": 22,
   "id": "7ead509e",
   "metadata": {
    "execution": {
     "iopub.execute_input": "2024-02-15T03:33:31.885390Z",
     "iopub.status.busy": "2024-02-15T03:33:31.884627Z",
     "iopub.status.idle": "2024-02-15T03:33:31.891470Z",
     "shell.execute_reply": "2024-02-15T03:33:31.890655Z"
    },
    "papermill": {
     "duration": 0.151627,
     "end_time": "2024-02-15T03:33:31.893358",
     "exception": false,
     "start_time": "2024-02-15T03:33:31.741731",
     "status": "completed"
    },
    "tags": []
   },
   "outputs": [
    {
     "data": {
      "text/plain": [
       "tensor([[-0.1273,  0.0173,  0.0000, -0.0765, -0.2632, -0.0000,  0.0000,  0.0000,  0.2799, -0.0000,  0.0000,  0.3625],\n",
       "        [-0.2199,  0.0173,  0.0000, -0.1551, -0.0000, -0.3147,  0.4876,  0.0000,  0.0000, -0.4392,  0.0000,  0.0000],\n",
       "        [-0.1504,  0.0000,  0.0000, -0.0793, -0.0000, -0.3147,  0.0000,  0.0000,  0.2799, -0.0000,  0.0000,  0.3625],\n",
       "        [-0.2025,  0.0173,  0.0000, -0.1446, -0.0000, -0.3147,  0.4876,  0.0000,  0.0000, -0.0000,  0.0000,  0.3625],\n",
       "        [-0.2025,  0.0000,  0.0000, -0.0798, -0.2632, -0.0000,  0.0000,  0.0000,  0.2799, -0.0000,  0.0000,  0.3625],\n",
       "        [-0.1389,  0.0000,  0.0000, -0.0814, -0.2632, -0.0000,  0.0000,  0.0000,  0.2799, -0.0000,  0.2103,  0.0000],\n",
       "        [-0.3125,  0.0000,  0.0000, -0.1438, -0.2632, -0.0000,  0.4876,  0.0000,  0.0000, -0.0000,  0.0000,  0.3625],\n",
       "        ...,\n",
       "        [-0.1447,  0.0000,  0.0000, -0.0756, -0.2632, -0.0000,  0.0000,  0.0000,  0.2799, -0.0000,  0.0000,  0.3625],\n",
       "        [-0.2257,  0.0000,  0.2008, -0.1234, -0.0000, -0.3147,  0.0000,  0.0000,  0.2799, -0.0000,  0.2103,  0.0000],\n",
       "        [-0.1562,  0.0000,  0.0000, -0.0956, -0.2632, -0.0000,  0.0000,  0.3136,  0.0000, -0.0000,  0.0000,  0.3625],\n",
       "        [-0.1099,  0.0000,  0.0000, -0.1244, -0.0000, -0.3147,  0.4876,  0.0000,  0.0000, -0.0000,  0.0000,  0.3625],\n",
       "        [-0.1389,  0.0173,  0.0803, -0.1158, -0.0000, -0.3147,  0.0000,  0.0000,  0.2799, -0.0000,  0.0000,  0.3625],\n",
       "        [-0.1504,  0.0000,  0.0000, -0.1244, -0.2632, -0.0000,  0.4876,  0.0000,  0.0000, -0.4392,  0.0000,  0.0000],\n",
       "        [-0.1852,  0.0000,  0.0000, -0.0786, -0.2632, -0.0000,  0.0000,  0.0000,  0.2799, -0.0000,  0.2103,  0.0000]])"
      ]
     },
     "execution_count": 22,
     "metadata": {},
     "output_type": "execute_result"
    }
   ],
   "source": [
    "t_indep*coeffs"
   ]
  },
  {
   "cell_type": "markdown",
   "id": "30a306f6",
   "metadata": {
    "papermill": {
     "duration": 0.139349,
     "end_time": "2024-02-15T03:33:32.173330",
     "exception": false,
     "start_time": "2024-02-15T03:33:32.033981",
     "status": "completed"
    },
    "tags": []
   },
   "source": [
    "One thing you hopefully noticed is how amazingly cool this line of code is:\n",
    "\n",
    "    t_indep = t_indep / vals\n",
    "\n",
    "That is dividing a matrix by a vector -- what on earth does that mean?!? The trick here is that we're taking advantage of a technique in numpy and PyTorch (and many other languages, going all the way back to APL) called [broadcasting](https://numpy.org/doc/stable/user/basics.broadcasting.html). In short, this acts as if there's a separate copy of the vector for every row of the matrix, so it divides each row of the matrix by the vector. In practice, it doesn't actually make any copies, and does the whole thing in a highly optimized way, taking full advantage of modern CPUs (or, indeed, GPUs, if we're using them). Broadcasting is one of the most important techniques for making your code concise, maintainable, and fast, so it's well worth studying and practicing.\n",
    "\n",
    "We can now create predictions from our linear model, by adding up the rows of the product:"
   ]
  },
  {
   "cell_type": "code",
   "execution_count": 23,
   "id": "d85abf3b",
   "metadata": {
    "execution": {
     "iopub.execute_input": "2024-02-15T03:33:32.462978Z",
     "iopub.status.busy": "2024-02-15T03:33:32.462670Z",
     "iopub.status.idle": "2024-02-15T03:33:32.469686Z",
     "shell.execute_reply": "2024-02-15T03:33:32.469128Z"
    },
    "papermill": {
     "duration": 0.156614,
     "end_time": "2024-02-15T03:33:32.471593",
     "exception": false,
     "start_time": "2024-02-15T03:33:32.314979",
     "status": "completed"
    },
    "tags": []
   },
   "outputs": [],
   "source": [
    "preds = (t_indep*coeffs).sum(axis=1)"
   ]
  },
  {
   "cell_type": "markdown",
   "id": "ca04e2b4",
   "metadata": {
    "papermill": {
     "duration": 0.143483,
     "end_time": "2024-02-15T03:33:32.759113",
     "exception": false,
     "start_time": "2024-02-15T03:33:32.615630",
     "status": "completed"
    },
    "tags": []
   },
   "source": [
    "Let's take a look at the first few:"
   ]
  },
  {
   "cell_type": "code",
   "execution_count": 24,
   "id": "be787237",
   "metadata": {
    "execution": {
     "iopub.execute_input": "2024-02-15T03:33:33.045986Z",
     "iopub.status.busy": "2024-02-15T03:33:33.045734Z",
     "iopub.status.idle": "2024-02-15T03:33:33.053294Z",
     "shell.execute_reply": "2024-02-15T03:33:33.052565Z"
    },
    "papermill": {
     "duration": 0.153718,
     "end_time": "2024-02-15T03:33:33.055115",
     "exception": false,
     "start_time": "2024-02-15T03:33:32.901397",
     "status": "completed"
    },
    "tags": []
   },
   "outputs": [
    {
     "data": {
      "text/plain": [
       "tensor([ 0.1927, -0.6239,  0.0979,  0.2056,  0.0968,  0.0066,  0.1306,  0.3476,  0.1613, -0.6285])"
      ]
     },
     "execution_count": 24,
     "metadata": {},
     "output_type": "execute_result"
    }
   ],
   "source": [
    "preds[:10]"
   ]
  },
  {
   "cell_type": "markdown",
   "id": "9d8e468d",
   "metadata": {
    "papermill": {
     "duration": 0.143849,
     "end_time": "2024-02-15T03:33:33.341857",
     "exception": false,
     "start_time": "2024-02-15T03:33:33.198008",
     "status": "completed"
    },
    "tags": []
   },
   "source": [
    "Of course, these predictions aren't going to be any use, since our coefficients are random -- they're just a starting point for our gradient descent process.\n",
    "\n",
    "To do gradient descent, we need a loss function. Taking the average error of the rows (i.e. the absolute value of the difference between the prediction and the dependent) is generally a reasonable approach:"
   ]
  },
  {
   "cell_type": "code",
   "execution_count": 25,
   "id": "947c6ea2",
   "metadata": {
    "execution": {
     "iopub.execute_input": "2024-02-15T03:33:33.640886Z",
     "iopub.status.busy": "2024-02-15T03:33:33.640127Z",
     "iopub.status.idle": "2024-02-15T03:33:33.651647Z",
     "shell.execute_reply": "2024-02-15T03:33:33.650883Z"
    },
    "papermill": {
     "duration": 0.164667,
     "end_time": "2024-02-15T03:33:33.653590",
     "exception": false,
     "start_time": "2024-02-15T03:33:33.488923",
     "status": "completed"
    },
    "tags": []
   },
   "outputs": [
    {
     "data": {
      "text/plain": [
       "tensor(0.5382)"
      ]
     },
     "execution_count": 25,
     "metadata": {},
     "output_type": "execute_result"
    }
   ],
   "source": [
    "loss = torch.abs(preds-t_dep).mean()\n",
    "loss"
   ]
  },
  {
   "cell_type": "markdown",
   "id": "26e2fcd4",
   "metadata": {
    "papermill": {
     "duration": 0.143671,
     "end_time": "2024-02-15T03:33:33.958466",
     "exception": false,
     "start_time": "2024-02-15T03:33:33.814795",
     "status": "completed"
    },
    "tags": []
   },
   "source": [
    "Now that we've tested out a way of calculating predictions, and loss, let's pop them into functions to make life easier:"
   ]
  },
  {
   "cell_type": "code",
   "execution_count": 26,
   "id": "6e5bf885",
   "metadata": {
    "execution": {
     "iopub.execute_input": "2024-02-15T03:33:34.258436Z",
     "iopub.status.busy": "2024-02-15T03:33:34.258091Z",
     "iopub.status.idle": "2024-02-15T03:33:34.263867Z",
     "shell.execute_reply": "2024-02-15T03:33:34.262963Z"
    },
    "papermill": {
     "duration": 0.157554,
     "end_time": "2024-02-15T03:33:34.266270",
     "exception": false,
     "start_time": "2024-02-15T03:33:34.108716",
     "status": "completed"
    },
    "tags": []
   },
   "outputs": [],
   "source": [
    "def calc_preds(coeffs, indeps): return (indeps*coeffs).sum(axis=1)\n",
    "def calc_loss(coeffs, indeps, deps): return torch.abs(calc_preds(coeffs, indeps)-deps).mean()"
   ]
  },
  {
   "cell_type": "markdown",
   "id": "f9d5551c",
   "metadata": {
    "papermill": {
     "duration": 0.144018,
     "end_time": "2024-02-15T03:33:34.558882",
     "exception": false,
     "start_time": "2024-02-15T03:33:34.414864",
     "status": "completed"
    },
    "tags": []
   },
   "source": [
    "## Doing a gradient descent step"
   ]
  },
  {
   "cell_type": "markdown",
   "id": "cb2e8a58",
   "metadata": {
    "papermill": {
     "duration": 0.144601,
     "end_time": "2024-02-15T03:33:34.844727",
     "exception": false,
     "start_time": "2024-02-15T03:33:34.700126",
     "status": "completed"
    },
    "tags": []
   },
   "source": [
    "In this section, we're going to do a single \"epoch\" of gradient descent manually. The only thing we're going to automate is calculating gradients, because let's face it that's pretty tedious and entirely pointless to do by hand! To get PyTorch to calculate gradients, we'll need to call `requires_grad_()` on our `coeffs` (if you're not sure why, review the previous notebook, [How does a neural net really work?](https://www.kaggle.com/code/jhoward/how-does-a-neural-net-really-work), before continuing):"
   ]
  },
  {
   "cell_type": "code",
   "execution_count": 27,
   "id": "bfc3bf1b",
   "metadata": {
    "execution": {
     "iopub.execute_input": "2024-02-15T03:33:35.138099Z",
     "iopub.status.busy": "2024-02-15T03:33:35.137807Z",
     "iopub.status.idle": "2024-02-15T03:33:35.144123Z",
     "shell.execute_reply": "2024-02-15T03:33:35.143409Z"
    },
    "papermill": {
     "duration": 0.155972,
     "end_time": "2024-02-15T03:33:35.146070",
     "exception": false,
     "start_time": "2024-02-15T03:33:34.990098",
     "status": "completed"
    },
    "tags": []
   },
   "outputs": [
    {
     "data": {
      "text/plain": [
       "tensor([-0.4629,  0.1386,  0.2409, -0.2262, -0.2632, -0.3147,  0.4876,  0.3136,  0.2799, -0.4392,  0.2103,  0.3625], requires_grad=True)"
      ]
     },
     "execution_count": 27,
     "metadata": {},
     "output_type": "execute_result"
    }
   ],
   "source": [
    "coeffs.requires_grad_()"
   ]
  },
  {
   "cell_type": "markdown",
   "id": "7688592e",
   "metadata": {
    "papermill": {
     "duration": 0.144865,
     "end_time": "2024-02-15T03:33:35.433907",
     "exception": false,
     "start_time": "2024-02-15T03:33:35.289042",
     "status": "completed"
    },
    "tags": []
   },
   "source": [
    "Now when we calculate our loss, PyTorch will keep track of all the steps, so we'll be able to get the gradients afterwards:"
   ]
  },
  {
   "cell_type": "code",
   "execution_count": 28,
   "id": "399b7f8c",
   "metadata": {
    "execution": {
     "iopub.execute_input": "2024-02-15T03:33:35.725614Z",
     "iopub.status.busy": "2024-02-15T03:33:35.724961Z",
     "iopub.status.idle": "2024-02-15T03:33:35.732883Z",
     "shell.execute_reply": "2024-02-15T03:33:35.732093Z"
    },
    "papermill": {
     "duration": 0.156792,
     "end_time": "2024-02-15T03:33:35.734824",
     "exception": false,
     "start_time": "2024-02-15T03:33:35.578032",
     "status": "completed"
    },
    "tags": []
   },
   "outputs": [
    {
     "data": {
      "text/plain": [
       "tensor(0.5382, grad_fn=<MeanBackward0>)"
      ]
     },
     "execution_count": 28,
     "metadata": {},
     "output_type": "execute_result"
    }
   ],
   "source": [
    "loss = calc_loss(coeffs, t_indep, t_dep)\n",
    "loss"
   ]
  },
  {
   "cell_type": "markdown",
   "id": "381600a1",
   "metadata": {
    "papermill": {
     "duration": 0.142897,
     "end_time": "2024-02-15T03:33:36.021558",
     "exception": false,
     "start_time": "2024-02-15T03:33:35.878661",
     "status": "completed"
    },
    "tags": []
   },
   "source": [
    "Use `backward()` to ask PyTorch to calculate gradients now:"
   ]
  },
  {
   "cell_type": "code",
   "execution_count": 29,
   "id": "3777acf7",
   "metadata": {
    "execution": {
     "iopub.execute_input": "2024-02-15T03:33:36.307317Z",
     "iopub.status.busy": "2024-02-15T03:33:36.307014Z",
     "iopub.status.idle": "2024-02-15T03:33:36.368682Z",
     "shell.execute_reply": "2024-02-15T03:33:36.368001Z"
    },
    "papermill": {
     "duration": 0.206845,
     "end_time": "2024-02-15T03:33:36.370894",
     "exception": false,
     "start_time": "2024-02-15T03:33:36.164049",
     "status": "completed"
    },
    "tags": []
   },
   "outputs": [],
   "source": [
    "loss.backward()"
   ]
  },
  {
   "cell_type": "markdown",
   "id": "d52f09de",
   "metadata": {
    "papermill": {
     "duration": 0.142447,
     "end_time": "2024-02-15T03:33:36.655647",
     "exception": false,
     "start_time": "2024-02-15T03:33:36.513200",
     "status": "completed"
    },
    "tags": []
   },
   "source": [
    "Let's see what they look like:"
   ]
  },
  {
   "cell_type": "code",
   "execution_count": 30,
   "id": "aee783e9",
   "metadata": {
    "execution": {
     "iopub.execute_input": "2024-02-15T03:33:36.941865Z",
     "iopub.status.busy": "2024-02-15T03:33:36.941580Z",
     "iopub.status.idle": "2024-02-15T03:33:36.947768Z",
     "shell.execute_reply": "2024-02-15T03:33:36.947055Z"
    },
    "papermill": {
     "duration": 0.151119,
     "end_time": "2024-02-15T03:33:36.949679",
     "exception": false,
     "start_time": "2024-02-15T03:33:36.798560",
     "status": "completed"
    },
    "tags": []
   },
   "outputs": [
    {
     "data": {
      "text/plain": [
       "tensor([-0.0106,  0.0129, -0.0041, -0.0484,  0.2099, -0.2132, -0.1212, -0.0247,  0.1425, -0.1886, -0.0191,  0.2043])"
      ]
     },
     "execution_count": 30,
     "metadata": {},
     "output_type": "execute_result"
    }
   ],
   "source": [
    "coeffs.grad"
   ]
  },
  {
   "cell_type": "markdown",
   "id": "431f13ca",
   "metadata": {
    "papermill": {
     "duration": 0.148283,
     "end_time": "2024-02-15T03:33:37.244412",
     "exception": false,
     "start_time": "2024-02-15T03:33:37.096129",
     "status": "completed"
    },
    "tags": []
   },
   "source": [
    "Note that each time we call `backward`, the gradients are actually *added* to whatever is in the `.grad` attribute. Let's try running the above steps again:"
   ]
  },
  {
   "cell_type": "code",
   "execution_count": 31,
   "id": "5087347b",
   "metadata": {
    "execution": {
     "iopub.execute_input": "2024-02-15T03:33:37.533874Z",
     "iopub.status.busy": "2024-02-15T03:33:37.533349Z",
     "iopub.status.idle": "2024-02-15T03:33:37.542201Z",
     "shell.execute_reply": "2024-02-15T03:33:37.541518Z"
    },
    "papermill": {
     "duration": 0.154517,
     "end_time": "2024-02-15T03:33:37.544022",
     "exception": false,
     "start_time": "2024-02-15T03:33:37.389505",
     "status": "completed"
    },
    "tags": []
   },
   "outputs": [
    {
     "data": {
      "text/plain": [
       "tensor([-0.0212,  0.0258, -0.0082, -0.0969,  0.4198, -0.4265, -0.2424, -0.0494,  0.2851, -0.3771, -0.0382,  0.4085])"
      ]
     },
     "execution_count": 31,
     "metadata": {},
     "output_type": "execute_result"
    }
   ],
   "source": [
    "loss = calc_loss(coeffs, t_indep, t_dep)\n",
    "loss.backward()\n",
    "coeffs.grad"
   ]
  },
  {
   "cell_type": "markdown",
   "id": "0fb5a00b",
   "metadata": {
    "papermill": {
     "duration": 0.146343,
     "end_time": "2024-02-15T03:33:37.834683",
     "exception": false,
     "start_time": "2024-02-15T03:33:37.688340",
     "status": "completed"
    },
    "tags": []
   },
   "source": [
    "As you see, our `.grad` values are have doubled. That's because it added the gradients a second time. For this reason, after we use the gradients to do a gradient descent step, we need to set them back to zero.\n",
    "\n",
    "We can now do one gradient descent step, and check that our loss decreases:"
   ]
  },
  {
   "cell_type": "code",
   "execution_count": 32,
   "id": "42f93df0",
   "metadata": {
    "execution": {
     "iopub.execute_input": "2024-02-15T03:33:38.127323Z",
     "iopub.status.busy": "2024-02-15T03:33:38.127022Z",
     "iopub.status.idle": "2024-02-15T03:33:38.142736Z",
     "shell.execute_reply": "2024-02-15T03:33:38.141762Z"
    },
    "papermill": {
     "duration": 0.164609,
     "end_time": "2024-02-15T03:33:38.144705",
     "exception": false,
     "start_time": "2024-02-15T03:33:37.980096",
     "status": "completed"
    },
    "tags": []
   },
   "outputs": [
    {
     "name": "stdout",
     "output_type": "stream",
     "text": [
      "tensor(0.4945)\n"
     ]
    }
   ],
   "source": [
    "loss = calc_loss(coeffs, t_indep, t_dep)\n",
    "loss.backward()\n",
    "with torch.no_grad():\n",
    "    coeffs.sub_(coeffs.grad * 0.1)\n",
    "    coeffs.grad.zero_()\n",
    "    print(calc_loss(coeffs, t_indep, t_dep))"
   ]
  },
  {
   "cell_type": "markdown",
   "id": "55e06f77",
   "metadata": {
    "papermill": {
     "duration": 0.147431,
     "end_time": "2024-02-15T03:33:38.439741",
     "exception": false,
     "start_time": "2024-02-15T03:33:38.292310",
     "status": "completed"
    },
    "tags": []
   },
   "source": [
    "Note that `a.sub_(b)` subtracts `b` from `a` in-place. In PyTorch, any method that ends in `_` changes its object in-place. Similarly, `a.zero_()` sets all elements of a tensor to zero."
   ]
  },
  {
   "cell_type": "markdown",
   "id": "7441c0ae",
   "metadata": {
    "papermill": {
     "duration": 0.147006,
     "end_time": "2024-02-15T03:33:38.734027",
     "exception": false,
     "start_time": "2024-02-15T03:33:38.587021",
     "status": "completed"
    },
    "tags": []
   },
   "source": [
    "## Training the linear model"
   ]
  },
  {
   "cell_type": "markdown",
   "id": "6cd792f9",
   "metadata": {
    "papermill": {
     "duration": 0.146435,
     "end_time": "2024-02-15T03:33:39.027492",
     "exception": false,
     "start_time": "2024-02-15T03:33:38.881057",
     "status": "completed"
    },
    "tags": []
   },
   "source": [
    "Before we begin training our model, we'll need to ensure that we hold out a validation set for calculating our metrics (for details on this, see \"[Getting started with NLP for absolute beginners](https://www.kaggle.com/code/jhoward/getting-started-with-nlp-for-absolute-beginners#Test-and-validation-sets)\".\n",
    "\n",
    "There's lots of different ways we can do this. In the next notebook we'll be comparing our approach here to what the fastai library does, so we'll want to ensure we split the data in the same way. So let's use `RandomSplitter` to get indices that will split our data into training and validation sets:"
   ]
  },
  {
   "cell_type": "code",
   "execution_count": 33,
   "id": "6a0f6adf",
   "metadata": {
    "execution": {
     "iopub.execute_input": "2024-02-15T03:33:39.325251Z",
     "iopub.status.busy": "2024-02-15T03:33:39.324928Z",
     "iopub.status.idle": "2024-02-15T03:33:40.483420Z",
     "shell.execute_reply": "2024-02-15T03:33:40.482559Z"
    },
    "papermill": {
     "duration": 1.310562,
     "end_time": "2024-02-15T03:33:40.486351",
     "exception": false,
     "start_time": "2024-02-15T03:33:39.175789",
     "status": "completed"
    },
    "tags": []
   },
   "outputs": [],
   "source": [
    "from fastai.data.transforms import RandomSplitter\n",
    "trn_split,val_split=RandomSplitter(seed=42)(df)"
   ]
  },
  {
   "cell_type": "markdown",
   "id": "43f97ab9",
   "metadata": {
    "papermill": {
     "duration": 0.151127,
     "end_time": "2024-02-15T03:33:40.796827",
     "exception": false,
     "start_time": "2024-02-15T03:33:40.645700",
     "status": "completed"
    },
    "tags": []
   },
   "source": [
    "Now we can apply those indicies to our independent and dependent variables:"
   ]
  },
  {
   "cell_type": "code",
   "execution_count": 34,
   "id": "59306f81",
   "metadata": {
    "execution": {
     "iopub.execute_input": "2024-02-15T03:33:41.100842Z",
     "iopub.status.busy": "2024-02-15T03:33:41.100506Z",
     "iopub.status.idle": "2024-02-15T03:33:41.113948Z",
     "shell.execute_reply": "2024-02-15T03:33:41.113201Z"
    },
    "papermill": {
     "duration": 0.168716,
     "end_time": "2024-02-15T03:33:41.116163",
     "exception": false,
     "start_time": "2024-02-15T03:33:40.947447",
     "status": "completed"
    },
    "tags": []
   },
   "outputs": [
    {
     "data": {
      "text/plain": [
       "(713, 178)"
      ]
     },
     "execution_count": 34,
     "metadata": {},
     "output_type": "execute_result"
    }
   ],
   "source": [
    "trn_indep,val_indep = t_indep[trn_split],t_indep[val_split]\n",
    "trn_dep,val_dep = t_dep[trn_split],t_dep[val_split]\n",
    "len(trn_indep),len(val_indep)"
   ]
  },
  {
   "cell_type": "markdown",
   "id": "b6d27204",
   "metadata": {
    "papermill": {
     "duration": 0.14501,
     "end_time": "2024-02-15T03:33:41.408348",
     "exception": false,
     "start_time": "2024-02-15T03:33:41.263338",
     "status": "completed"
    },
    "tags": []
   },
   "source": [
    "We'll create functions for the three things we did manually above: updating `coeffs`, doing one full gradient descent step, and initilising `coeffs` to random numbers:"
   ]
  },
  {
   "cell_type": "code",
   "execution_count": 35,
   "id": "a82ca856",
   "metadata": {
    "execution": {
     "iopub.execute_input": "2024-02-15T03:33:41.700079Z",
     "iopub.status.busy": "2024-02-15T03:33:41.699796Z",
     "iopub.status.idle": "2024-02-15T03:33:41.704146Z",
     "shell.execute_reply": "2024-02-15T03:33:41.703378Z"
    },
    "papermill": {
     "duration": 0.152093,
     "end_time": "2024-02-15T03:33:41.706155",
     "exception": false,
     "start_time": "2024-02-15T03:33:41.554062",
     "status": "completed"
    },
    "tags": []
   },
   "outputs": [],
   "source": [
    "def update_coeffs(coeffs, lr):\n",
    "    coeffs.sub_(coeffs.grad * lr)\n",
    "    coeffs.grad.zero_()"
   ]
  },
  {
   "cell_type": "code",
   "execution_count": 36,
   "id": "4c6fb080",
   "metadata": {
    "execution": {
     "iopub.execute_input": "2024-02-15T03:33:42.004909Z",
     "iopub.status.busy": "2024-02-15T03:33:42.004264Z",
     "iopub.status.idle": "2024-02-15T03:33:42.009402Z",
     "shell.execute_reply": "2024-02-15T03:33:42.008618Z"
    },
    "papermill": {
     "duration": 0.155532,
     "end_time": "2024-02-15T03:33:42.011372",
     "exception": false,
     "start_time": "2024-02-15T03:33:41.855840",
     "status": "completed"
    },
    "tags": []
   },
   "outputs": [],
   "source": [
    "def one_epoch(coeffs, lr):\n",
    "    loss = calc_loss(coeffs, trn_indep, trn_dep)\n",
    "    loss.backward()\n",
    "    with torch.no_grad(): update_coeffs(coeffs, lr)\n",
    "    print(f\"{loss:.3f}\", end=\"; \")"
   ]
  },
  {
   "cell_type": "code",
   "execution_count": 37,
   "id": "55237428",
   "metadata": {
    "execution": {
     "iopub.execute_input": "2024-02-15T03:33:42.302848Z",
     "iopub.status.busy": "2024-02-15T03:33:42.302024Z",
     "iopub.status.idle": "2024-02-15T03:33:42.306543Z",
     "shell.execute_reply": "2024-02-15T03:33:42.305846Z"
    },
    "papermill": {
     "duration": 0.151752,
     "end_time": "2024-02-15T03:33:42.308509",
     "exception": false,
     "start_time": "2024-02-15T03:33:42.156757",
     "status": "completed"
    },
    "tags": []
   },
   "outputs": [],
   "source": [
    "def init_coeffs(): return (torch.rand(n_coeff)-0.5).requires_grad_()"
   ]
  },
  {
   "cell_type": "markdown",
   "id": "42044134",
   "metadata": {
    "papermill": {
     "duration": 0.148749,
     "end_time": "2024-02-15T03:33:42.600330",
     "exception": false,
     "start_time": "2024-02-15T03:33:42.451581",
     "status": "completed"
    },
    "tags": []
   },
   "source": [
    "We can now use these functions to train our model:"
   ]
  },
  {
   "cell_type": "code",
   "execution_count": 38,
   "id": "be6c49c5",
   "metadata": {
    "execution": {
     "iopub.execute_input": "2024-02-15T03:33:42.891661Z",
     "iopub.status.busy": "2024-02-15T03:33:42.891372Z",
     "iopub.status.idle": "2024-02-15T03:33:42.896322Z",
     "shell.execute_reply": "2024-02-15T03:33:42.895583Z"
    },
    "papermill": {
     "duration": 0.151924,
     "end_time": "2024-02-15T03:33:42.898312",
     "exception": false,
     "start_time": "2024-02-15T03:33:42.746388",
     "status": "completed"
    },
    "tags": []
   },
   "outputs": [],
   "source": [
    "def train_model(epochs=30, lr=0.01):\n",
    "    torch.manual_seed(442)\n",
    "    coeffs = init_coeffs()\n",
    "    for i in range(epochs): one_epoch(coeffs, lr=lr)\n",
    "    return coeffs"
   ]
  },
  {
   "cell_type": "markdown",
   "id": "8b967ef5",
   "metadata": {
    "papermill": {
     "duration": 0.14445,
     "end_time": "2024-02-15T03:33:43.189751",
     "exception": false,
     "start_time": "2024-02-15T03:33:43.045301",
     "status": "completed"
    },
    "tags": []
   },
   "source": [
    "Let's try it. Our loss will print at the end of every step, so we hope we'll see it going down:"
   ]
  },
  {
   "cell_type": "code",
   "execution_count": 39,
   "id": "ad9847d1",
   "metadata": {
    "execution": {
     "iopub.execute_input": "2024-02-15T03:33:43.482922Z",
     "iopub.status.busy": "2024-02-15T03:33:43.482615Z",
     "iopub.status.idle": "2024-02-15T03:33:43.494590Z",
     "shell.execute_reply": "2024-02-15T03:33:43.493703Z"
    },
    "papermill": {
     "duration": 0.160446,
     "end_time": "2024-02-15T03:33:43.496530",
     "exception": false,
     "start_time": "2024-02-15T03:33:43.336084",
     "status": "completed"
    },
    "tags": []
   },
   "outputs": [
    {
     "name": "stdout",
     "output_type": "stream",
     "text": [
      "0.536; 0.502; 0.477; 0.454; 0.431; 0.409; 0.388; 0.367; 0.349; 0.336; 0.330; 0.326; 0.329; 0.304; 0.314; 0.296; 0.300; 0.289; "
     ]
    }
   ],
   "source": [
    "coeffs = train_model(18, lr=0.2)"
   ]
  },
  {
   "cell_type": "markdown",
   "id": "09cddfff",
   "metadata": {
    "papermill": {
     "duration": 0.1655,
     "end_time": "2024-02-15T03:33:43.812480",
     "exception": false,
     "start_time": "2024-02-15T03:33:43.646980",
     "status": "completed"
    },
    "tags": []
   },
   "source": [
    "It does!\n",
    "\n",
    "Let's take a look at the coefficients for each column:"
   ]
  },
  {
   "cell_type": "code",
   "execution_count": 40,
   "id": "5bef5736",
   "metadata": {
    "execution": {
     "iopub.execute_input": "2024-02-15T03:33:44.113713Z",
     "iopub.status.busy": "2024-02-15T03:33:44.113030Z",
     "iopub.status.idle": "2024-02-15T03:33:44.122046Z",
     "shell.execute_reply": "2024-02-15T03:33:44.121312Z"
    },
    "papermill": {
     "duration": 0.164108,
     "end_time": "2024-02-15T03:33:44.124192",
     "exception": false,
     "start_time": "2024-02-15T03:33:43.960084",
     "status": "completed"
    },
    "tags": []
   },
   "outputs": [
    {
     "data": {
      "text/plain": [
       "{'Age': tensor(-0.2694),\n",
       " 'SibSp': tensor(0.0901),\n",
       " 'Parch': tensor(0.2359),\n",
       " 'LogFare': tensor(0.0280),\n",
       " 'Sex_male': tensor(-0.3990),\n",
       " 'Sex_female': tensor(0.2345),\n",
       " 'Pclass_1': tensor(0.7232),\n",
       " 'Pclass_2': tensor(0.4112),\n",
       " 'Pclass_3': tensor(0.3601),\n",
       " 'Embarked_C': tensor(0.0955),\n",
       " 'Embarked_Q': tensor(0.2395),\n",
       " 'Embarked_S': tensor(0.2122)}"
      ]
     },
     "execution_count": 40,
     "metadata": {},
     "output_type": "execute_result"
    }
   ],
   "source": [
    "def show_coeffs(): return dict(zip(indep_cols, coeffs.requires_grad_(False)))\n",
    "show_coeffs()"
   ]
  },
  {
   "cell_type": "markdown",
   "id": "e85cc762",
   "metadata": {
    "papermill": {
     "duration": 0.150556,
     "end_time": "2024-02-15T03:33:44.427630",
     "exception": false,
     "start_time": "2024-02-15T03:33:44.277074",
     "status": "completed"
    },
    "tags": []
   },
   "source": [
    "## Measuring accuracy"
   ]
  },
  {
   "cell_type": "markdown",
   "id": "0de2e415",
   "metadata": {
    "papermill": {
     "duration": 0.151393,
     "end_time": "2024-02-15T03:33:44.727902",
     "exception": false,
     "start_time": "2024-02-15T03:33:44.576509",
     "status": "completed"
    },
    "tags": []
   },
   "source": [
    "The Kaggle competition is not, however, scored by absolute error (which is our loss function). It's scored by *accuracy* -- the proportion of rows where we correctly predict survival. Let's see how accurate we were on the validation set. First, calculate the predictions:"
   ]
  },
  {
   "cell_type": "code",
   "execution_count": 41,
   "id": "a896f137",
   "metadata": {
    "execution": {
     "iopub.execute_input": "2024-02-15T03:33:45.030618Z",
     "iopub.status.busy": "2024-02-15T03:33:45.030345Z",
     "iopub.status.idle": "2024-02-15T03:33:45.034599Z",
     "shell.execute_reply": "2024-02-15T03:33:45.033916Z"
    },
    "papermill": {
     "duration": 0.158356,
     "end_time": "2024-02-15T03:33:45.036326",
     "exception": false,
     "start_time": "2024-02-15T03:33:44.877970",
     "status": "completed"
    },
    "tags": []
   },
   "outputs": [],
   "source": [
    "preds = calc_preds(coeffs, val_indep)"
   ]
  },
  {
   "cell_type": "markdown",
   "id": "e23734b9",
   "metadata": {
    "papermill": {
     "duration": 0.210944,
     "end_time": "2024-02-15T03:33:45.397810",
     "exception": false,
     "start_time": "2024-02-15T03:33:45.186866",
     "status": "completed"
    },
    "tags": []
   },
   "source": [
    "We'll assume that any passenger with a score of over `0.5` is predicted to survive. So that means we're correct for each row where `preds>0.5` is the same as the dependent variable:"
   ]
  },
  {
   "cell_type": "code",
   "execution_count": 42,
   "id": "5ad52d39",
   "metadata": {
    "execution": {
     "iopub.execute_input": "2024-02-15T03:33:45.690707Z",
     "iopub.status.busy": "2024-02-15T03:33:45.690424Z",
     "iopub.status.idle": "2024-02-15T03:33:45.696706Z",
     "shell.execute_reply": "2024-02-15T03:33:45.696008Z"
    },
    "papermill": {
     "duration": 0.1553,
     "end_time": "2024-02-15T03:33:45.698567",
     "exception": false,
     "start_time": "2024-02-15T03:33:45.543267",
     "status": "completed"
    },
    "tags": []
   },
   "outputs": [
    {
     "data": {
      "text/plain": [
       "tensor([ True,  True,  True,  True,  True,  True,  True,  True,  True,  True, False, False, False,  True,  True, False])"
      ]
     },
     "execution_count": 42,
     "metadata": {},
     "output_type": "execute_result"
    }
   ],
   "source": [
    "results = val_dep.bool()==(preds>0.5)\n",
    "results[:16]"
   ]
  },
  {
   "cell_type": "markdown",
   "id": "c3b08959",
   "metadata": {
    "papermill": {
     "duration": 0.146051,
     "end_time": "2024-02-15T03:33:45.993723",
     "exception": false,
     "start_time": "2024-02-15T03:33:45.847672",
     "status": "completed"
    },
    "tags": []
   },
   "source": [
    "Let's see what our average accuracy is:"
   ]
  },
  {
   "cell_type": "code",
   "execution_count": 43,
   "id": "83815ec5",
   "metadata": {
    "execution": {
     "iopub.execute_input": "2024-02-15T03:33:46.286896Z",
     "iopub.status.busy": "2024-02-15T03:33:46.286591Z",
     "iopub.status.idle": "2024-02-15T03:33:46.292797Z",
     "shell.execute_reply": "2024-02-15T03:33:46.292031Z"
    },
    "papermill": {
     "duration": 0.155482,
     "end_time": "2024-02-15T03:33:46.294612",
     "exception": false,
     "start_time": "2024-02-15T03:33:46.139130",
     "status": "completed"
    },
    "tags": []
   },
   "outputs": [
    {
     "data": {
      "text/plain": [
       "tensor(0.7865)"
      ]
     },
     "execution_count": 43,
     "metadata": {},
     "output_type": "execute_result"
    }
   ],
   "source": [
    "results.float().mean()"
   ]
  },
  {
   "cell_type": "markdown",
   "id": "90da9f09",
   "metadata": {
    "papermill": {
     "duration": 0.146671,
     "end_time": "2024-02-15T03:33:46.587576",
     "exception": false,
     "start_time": "2024-02-15T03:33:46.440905",
     "status": "completed"
    },
    "tags": []
   },
   "source": [
    "That's not a bad start at all! We'll create a function so we can calcuate the accuracy easy for other models we train:"
   ]
  },
  {
   "cell_type": "code",
   "execution_count": 44,
   "id": "f6fdd5bc",
   "metadata": {
    "execution": {
     "iopub.execute_input": "2024-02-15T03:33:46.885899Z",
     "iopub.status.busy": "2024-02-15T03:33:46.885008Z",
     "iopub.status.idle": "2024-02-15T03:33:46.893023Z",
     "shell.execute_reply": "2024-02-15T03:33:46.892064Z"
    },
    "papermill": {
     "duration": 0.160097,
     "end_time": "2024-02-15T03:33:46.895059",
     "exception": false,
     "start_time": "2024-02-15T03:33:46.734962",
     "status": "completed"
    },
    "tags": []
   },
   "outputs": [
    {
     "data": {
      "text/plain": [
       "tensor(0.7865)"
      ]
     },
     "execution_count": 44,
     "metadata": {},
     "output_type": "execute_result"
    }
   ],
   "source": [
    "def acc(coeffs): return (val_dep.bool()==(calc_preds(coeffs, val_indep)>0.5)).float().mean()\n",
    "acc(coeffs)"
   ]
  },
  {
   "cell_type": "markdown",
   "id": "98a01b4f",
   "metadata": {
    "papermill": {
     "duration": 0.146302,
     "end_time": "2024-02-15T03:33:47.192105",
     "exception": false,
     "start_time": "2024-02-15T03:33:47.045803",
     "status": "completed"
    },
    "tags": []
   },
   "source": [
    "## Using sigmoid"
   ]
  },
  {
   "cell_type": "markdown",
   "id": "af9b876d",
   "metadata": {
    "papermill": {
     "duration": 0.150165,
     "end_time": "2024-02-15T03:33:47.489387",
     "exception": false,
     "start_time": "2024-02-15T03:33:47.339222",
     "status": "completed"
    },
    "tags": []
   },
   "source": [
    "Looking at our predictions, there's one obvious problem -- some of our predictions of the probability of survival are `>1`, and some are `<0`:"
   ]
  },
  {
   "cell_type": "code",
   "execution_count": 45,
   "id": "ba2a10b3",
   "metadata": {
    "execution": {
     "iopub.execute_input": "2024-02-15T03:33:47.790893Z",
     "iopub.status.busy": "2024-02-15T03:33:47.790575Z",
     "iopub.status.idle": "2024-02-15T03:33:47.796896Z",
     "shell.execute_reply": "2024-02-15T03:33:47.796175Z"
    },
    "papermill": {
     "duration": 0.160649,
     "end_time": "2024-02-15T03:33:47.798650",
     "exception": false,
     "start_time": "2024-02-15T03:33:47.638001",
     "status": "completed"
    },
    "tags": []
   },
   "outputs": [
    {
     "data": {
      "text/plain": [
       "tensor([ 0.8160,  0.1295, -0.0148,  0.1831,  0.1520,  0.1350,  0.7279,  0.7754,  0.3222,  0.6740,  0.0753,  0.0389,  0.2216,  0.7631,\n",
       "         0.0678,  0.3997,  0.3324,  0.8278,  0.1078,  0.7126,  0.1023,  0.3627,  0.9937,  0.8050,  0.1153,  0.1455,  0.8652,  0.3425])"
      ]
     },
     "execution_count": 45,
     "metadata": {},
     "output_type": "execute_result"
    }
   ],
   "source": [
    "preds[:28]"
   ]
  },
  {
   "cell_type": "markdown",
   "id": "d1102459",
   "metadata": {
    "papermill": {
     "duration": 0.152255,
     "end_time": "2024-02-15T03:33:48.097761",
     "exception": false,
     "start_time": "2024-02-15T03:33:47.945506",
     "status": "completed"
    },
    "tags": []
   },
   "source": [
    "To fix this, we should pass every prediction through the *sigmoid function*, which has a minimum at zero and maximum at one, and is defined as follows:"
   ]
  },
  {
   "cell_type": "code",
   "execution_count": 46,
   "id": "e707849a",
   "metadata": {
    "execution": {
     "iopub.execute_input": "2024-02-15T03:33:48.398083Z",
     "iopub.status.busy": "2024-02-15T03:33:48.397748Z",
     "iopub.status.idle": "2024-02-15T03:33:49.469130Z",
     "shell.execute_reply": "2024-02-15T03:33:49.468378Z"
    },
    "papermill": {
     "duration": 1.224964,
     "end_time": "2024-02-15T03:33:49.471165",
     "exception": false,
     "start_time": "2024-02-15T03:33:48.246201",
     "status": "completed"
    },
    "tags": []
   },
   "outputs": [
    {
     "data": {
      "image/png": "[encoded data removed]",
      "text/plain": [
       "<Figure size 432x288 with 1 Axes>"
      ]
     },
     "metadata": {
      "needs_background": "light"
     },
     "output_type": "display_data"
    }
   ],
   "source": [
    "import sympy\n",
    "sympy.plot(\"1/(1+exp(-x))\", xlim=(-5,5));"
   ]
  },
  {
   "cell_type": "markdown",
   "id": "210bbc13",
   "metadata": {
    "papermill": {
     "duration": 0.152165,
     "end_time": "2024-02-15T03:33:49.776607",
     "exception": false,
     "start_time": "2024-02-15T03:33:49.624442",
     "status": "completed"
    },
    "tags": []
   },
   "source": [
    "PyTorch already defines that function for us, so we can modify `calc_preds` to use it:"
   ]
  },
  {
   "cell_type": "code",
   "execution_count": 47,
   "id": "7f9feb19",
   "metadata": {
    "execution": {
     "iopub.execute_input": "2024-02-15T03:33:50.098442Z",
     "iopub.status.busy": "2024-02-15T03:33:50.097740Z",
     "iopub.status.idle": "2024-02-15T03:33:50.102547Z",
     "shell.execute_reply": "2024-02-15T03:33:50.101775Z"
    },
    "papermill": {
     "duration": 0.172728,
     "end_time": "2024-02-15T03:33:50.104792",
     "exception": false,
     "start_time": "2024-02-15T03:33:49.932064",
     "status": "completed"
    },
    "tags": []
   },
   "outputs": [],
   "source": [
    "def calc_preds(coeffs, indeps): return torch.sigmoid((indeps*coeffs).sum(axis=1))"
   ]
  },
  {
   "cell_type": "markdown",
   "id": "c43eacc0",
   "metadata": {
    "papermill": {
     "duration": 0.148629,
     "end_time": "2024-02-15T03:33:50.406517",
     "exception": false,
     "start_time": "2024-02-15T03:33:50.257888",
     "status": "completed"
    },
    "tags": []
   },
   "source": [
    "Let's train a new model now, using this updated function to calculate predictions:"
   ]
  },
  {
   "cell_type": "code",
   "execution_count": 48,
   "id": "400ad0c6",
   "metadata": {
    "execution": {
     "iopub.execute_input": "2024-02-15T03:33:50.706648Z",
     "iopub.status.busy": "2024-02-15T03:33:50.705864Z",
     "iopub.status.idle": "2024-02-15T03:33:50.726076Z",
     "shell.execute_reply": "2024-02-15T03:33:50.725119Z"
    },
    "papermill": {
     "duration": 0.173035,
     "end_time": "2024-02-15T03:33:50.728188",
     "exception": false,
     "start_time": "2024-02-15T03:33:50.555153",
     "status": "completed"
    },
    "tags": []
   },
   "outputs": [
    {
     "name": "stdout",
     "output_type": "stream",
     "text": [
      "0.510; 0.327; 0.294; 0.207; 0.201; 0.199; 0.198; 0.197; 0.196; 0.196; 0.196; 0.195; 0.195; 0.195; 0.195; 0.195; 0.195; 0.195; 0.194; 0.194; 0.194; 0.194; 0.194; 0.194; 0.194; 0.194; 0.194; 0.194; 0.194; 0.194; "
     ]
    }
   ],
   "source": [
    "coeffs = train_model(lr=100)"
   ]
  },
  {
   "cell_type": "markdown",
   "id": "0bb6bbfb",
   "metadata": {
    "papermill": {
     "duration": 0.150438,
     "end_time": "2024-02-15T03:33:51.030372",
     "exception": false,
     "start_time": "2024-02-15T03:33:50.879934",
     "status": "completed"
    },
    "tags": []
   },
   "source": [
    "The loss has improved by a lot. Let's check the accuracy:"
   ]
  },
  {
   "cell_type": "code",
   "execution_count": 49,
   "id": "c25b9cdf",
   "metadata": {
    "execution": {
     "iopub.execute_input": "2024-02-15T03:33:51.327330Z",
     "iopub.status.busy": "2024-02-15T03:33:51.327023Z",
     "iopub.status.idle": "2024-02-15T03:33:51.333399Z",
     "shell.execute_reply": "2024-02-15T03:33:51.332606Z"
    },
    "papermill": {
     "duration": 0.157471,
     "end_time": "2024-02-15T03:33:51.335364",
     "exception": false,
     "start_time": "2024-02-15T03:33:51.177893",
     "status": "completed"
    },
    "tags": []
   },
   "outputs": [
    {
     "data": {
      "text/plain": [
       "tensor(0.8258)"
      ]
     },
     "execution_count": 49,
     "metadata": {},
     "output_type": "execute_result"
    }
   ],
   "source": [
    "acc(coeffs)"
   ]
  },
  {
   "cell_type": "markdown",
   "id": "b98d439b",
   "metadata": {
    "papermill": {
     "duration": 0.148177,
     "end_time": "2024-02-15T03:33:51.633960",
     "exception": false,
     "start_time": "2024-02-15T03:33:51.485783",
     "status": "completed"
    },
    "tags": []
   },
   "source": [
    "That's improved too! Here's the coefficients of our trained model:"
   ]
  },
  {
   "cell_type": "code",
   "execution_count": 50,
   "id": "6a1871f4",
   "metadata": {
    "execution": {
     "iopub.execute_input": "2024-02-15T03:33:51.933271Z",
     "iopub.status.busy": "2024-02-15T03:33:51.932953Z",
     "iopub.status.idle": "2024-02-15T03:33:51.942982Z",
     "shell.execute_reply": "2024-02-15T03:33:51.942181Z"
    },
    "papermill": {
     "duration": 0.160686,
     "end_time": "2024-02-15T03:33:51.945396",
     "exception": false,
     "start_time": "2024-02-15T03:33:51.784710",
     "status": "completed"
    },
    "tags": []
   },
   "outputs": [
    {
     "data": {
      "text/plain": [
       "{'Age': tensor(-1.5061),\n",
       " 'SibSp': tensor(-1.1575),\n",
       " 'Parch': tensor(-0.4267),\n",
       " 'LogFare': tensor(0.2543),\n",
       " 'Sex_male': tensor(-10.3320),\n",
       " 'Sex_female': tensor(8.4185),\n",
       " 'Pclass_1': tensor(3.8389),\n",
       " 'Pclass_2': tensor(2.1398),\n",
       " 'Pclass_3': tensor(-6.2331),\n",
       " 'Embarked_C': tensor(1.4771),\n",
       " 'Embarked_Q': tensor(2.1168),\n",
       " 'Embarked_S': tensor(-4.7958)}"
      ]
     },
     "execution_count": 50,
     "metadata": {},
     "output_type": "execute_result"
    }
   ],
   "source": [
    "show_coeffs()"
   ]
  },
  {
   "cell_type": "markdown",
   "id": "91c3423d",
   "metadata": {
    "papermill": {
     "duration": 0.149753,
     "end_time": "2024-02-15T03:33:52.245362",
     "exception": false,
     "start_time": "2024-02-15T03:33:52.095609",
     "status": "completed"
    },
    "tags": []
   },
   "source": [
    "These coefficients seem reasonable -- in general, older people and males were less likely to survive, and first class passengers were more likely to survive."
   ]
  },
  {
   "cell_type": "markdown",
   "id": "26941907",
   "metadata": {
    "papermill": {
     "duration": 0.151895,
     "end_time": "2024-02-15T03:33:52.547589",
     "exception": false,
     "start_time": "2024-02-15T03:33:52.395694",
     "status": "completed"
    },
    "tags": []
   },
   "source": [
    "## Submitting to Kaggle"
   ]
  },
  {
   "cell_type": "markdown",
   "id": "3c22e9e9",
   "metadata": {
    "papermill": {
     "duration": 0.150469,
     "end_time": "2024-02-15T03:33:52.849015",
     "exception": false,
     "start_time": "2024-02-15T03:33:52.698546",
     "status": "completed"
    },
    "tags": []
   },
   "source": [
    "Now that we've got a trained model, we can prepare a submission to Kaggle. To do that, first we need to read the test set:"
   ]
  },
  {
   "cell_type": "code",
   "execution_count": 51,
   "id": "c7749352",
   "metadata": {
    "execution": {
     "iopub.execute_input": "2024-02-15T03:33:53.152313Z",
     "iopub.status.busy": "2024-02-15T03:33:53.151518Z",
     "iopub.status.idle": "2024-02-15T03:33:53.164059Z",
     "shell.execute_reply": "2024-02-15T03:33:53.163160Z"
    },
    "papermill": {
     "duration": 0.166094,
     "end_time": "2024-02-15T03:33:53.166268",
     "exception": false,
     "start_time": "2024-02-15T03:33:53.000174",
     "status": "completed"
    },
    "tags": []
   },
   "outputs": [],
   "source": [
    "tst_df = pd.read_csv(path/'test.csv')"
   ]
  },
  {
   "cell_type": "markdown",
   "id": "f82db2c4",
   "metadata": {
    "papermill": {
     "duration": 0.154198,
     "end_time": "2024-02-15T03:33:53.473557",
     "exception": false,
     "start_time": "2024-02-15T03:33:53.319359",
     "status": "completed"
    },
    "tags": []
   },
   "source": [
    "In this case, it turns out that the test set is missing `Fare` for one passenger. We'll just fill it with `0` to avoid problems:"
   ]
  },
  {
   "cell_type": "code",
   "execution_count": 52,
   "id": "75d20320",
   "metadata": {
    "execution": {
     "iopub.execute_input": "2024-02-15T03:33:53.801850Z",
     "iopub.status.busy": "2024-02-15T03:33:53.801543Z",
     "iopub.status.idle": "2024-02-15T03:33:53.806641Z",
     "shell.execute_reply": "2024-02-15T03:33:53.805879Z"
    },
    "papermill": {
     "duration": 0.180317,
     "end_time": "2024-02-15T03:33:53.808861",
     "exception": false,
     "start_time": "2024-02-15T03:33:53.628544",
     "status": "completed"
    },
    "tags": []
   },
   "outputs": [],
   "source": [
    "tst_df['Fare'] = tst_df.Fare.fillna(0)"
   ]
  },
  {
   "cell_type": "markdown",
   "id": "ede704e2",
   "metadata": {
    "papermill": {
     "duration": 0.151741,
     "end_time": "2024-02-15T03:33:54.128415",
     "exception": false,
     "start_time": "2024-02-15T03:33:53.976674",
     "status": "completed"
    },
    "tags": []
   },
   "source": [
    "Now we can just copy the same steps we did to our training set and do the same exact things on our test set to preprocess the data:"
   ]
  },
  {
   "cell_type": "code",
   "execution_count": 53,
   "id": "ae3a29d7",
   "metadata": {
    "execution": {
     "iopub.execute_input": "2024-02-15T03:33:54.433327Z",
     "iopub.status.busy": "2024-02-15T03:33:54.433015Z",
     "iopub.status.idle": "2024-02-15T03:33:54.452086Z",
     "shell.execute_reply": "2024-02-15T03:33:54.451425Z"
    },
    "papermill": {
     "duration": 0.174749,
     "end_time": "2024-02-15T03:33:54.454326",
     "exception": false,
     "start_time": "2024-02-15T03:33:54.279577",
     "status": "completed"
    },
    "tags": []
   },
   "outputs": [],
   "source": [
    "tst_df.fillna(modes, inplace=True)\n",
    "tst_df['LogFare'] = np.log(tst_df['Fare']+1)\n",
    "tst_df = pd.get_dummies(tst_df, columns=[\"Sex\",\"Pclass\",\"Embarked\"])\n",
    "\n",
    "tst_indep = tensor(tst_df[indep_cols].values, dtype=torch.float)\n",
    "tst_indep = tst_indep / vals"
   ]
  },
  {
   "cell_type": "markdown",
   "id": "e258bfab",
   "metadata": {
    "papermill": {
     "duration": 0.153618,
     "end_time": "2024-02-15T03:33:54.772844",
     "exception": false,
     "start_time": "2024-02-15T03:33:54.619226",
     "status": "completed"
    },
    "tags": []
   },
   "source": [
    "Let's calculate our predictions of which passengers survived in the test set:"
   ]
  },
  {
   "cell_type": "code",
   "execution_count": 54,
   "id": "a1c807ea",
   "metadata": {
    "execution": {
     "iopub.execute_input": "2024-02-15T03:33:55.076095Z",
     "iopub.status.busy": "2024-02-15T03:33:55.075542Z",
     "iopub.status.idle": "2024-02-15T03:33:55.080796Z",
     "shell.execute_reply": "2024-02-15T03:33:55.080156Z"
    },
    "papermill": {
     "duration": 0.158737,
     "end_time": "2024-02-15T03:33:55.082551",
     "exception": false,
     "start_time": "2024-02-15T03:33:54.923814",
     "status": "completed"
    },
    "tags": []
   },
   "outputs": [],
   "source": [
    "tst_df['Survived'] = (calc_preds(tst_indep, coeffs)>0.5).int()"
   ]
  },
  {
   "cell_type": "markdown",
   "id": "3b9b5cb4",
   "metadata": {
    "papermill": {
     "duration": 0.15056,
     "end_time": "2024-02-15T03:33:55.382168",
     "exception": false,
     "start_time": "2024-02-15T03:33:55.231608",
     "status": "completed"
    },
    "tags": []
   },
   "source": [
    "The sample submission on the Kaggle competition site shows that we're expected to upload a CSV with just `PassengerId` and `Survived`, so let's create that and save it:"
   ]
  },
  {
   "cell_type": "code",
   "execution_count": 55,
   "id": "2f095cc7",
   "metadata": {
    "execution": {
     "iopub.execute_input": "2024-02-15T03:33:55.684690Z",
     "iopub.status.busy": "2024-02-15T03:33:55.684429Z",
     "iopub.status.idle": "2024-02-15T03:33:55.693839Z",
     "shell.execute_reply": "2024-02-15T03:33:55.693191Z"
    },
    "papermill": {
     "duration": 0.160507,
     "end_time": "2024-02-15T03:33:55.695678",
     "exception": false,
     "start_time": "2024-02-15T03:33:55.535171",
     "status": "completed"
    },
    "tags": []
   },
   "outputs": [],
   "source": [
    "sub_df = tst_df[['PassengerId','Survived']]\n",
    "sub_df.to_csv('sub.csv', index=False)"
   ]
  },
  {
   "cell_type": "markdown",
   "id": "3f793c44",
   "metadata": {
    "papermill": {
     "duration": 0.148808,
     "end_time": "2024-02-15T03:33:55.995870",
     "exception": false,
     "start_time": "2024-02-15T03:33:55.847062",
     "status": "completed"
    },
    "tags": []
   },
   "source": [
    "We can check the first few rows of the file to make sure it looks reasonable:"
   ]
  },
  {
   "cell_type": "code",
   "execution_count": 56,
   "id": "5b952ba6",
   "metadata": {
    "execution": {
     "iopub.execute_input": "2024-02-15T03:33:56.318701Z",
     "iopub.status.busy": "2024-02-15T03:33:56.317990Z",
     "iopub.status.idle": "2024-02-15T03:33:57.326080Z",
     "shell.execute_reply": "2024-02-15T03:33:57.325309Z"
    },
    "papermill": {
     "duration": 1.179966,
     "end_time": "2024-02-15T03:33:57.328534",
     "exception": false,
     "start_time": "2024-02-15T03:33:56.148568",
     "status": "completed"
    },
    "tags": []
   },
   "outputs": [
    {
     "name": "stdout",
     "output_type": "stream",
     "text": [
      "PassengerId,Survived\r\n",
      "892,0\r\n",
      "893,0\r\n",
      "894,0\r\n",
      "895,0\r\n",
      "896,0\r\n",
      "897,0\r\n",
      "898,1\r\n",
      "899,0\r\n",
      "900,1\r\n"
     ]
    }
   ],
   "source": [
    "!head sub.csv"
   ]
  },
  {
   "cell_type": "markdown",
   "id": "44271c25",
   "metadata": {
    "papermill": {
     "duration": 0.155686,
     "end_time": "2024-02-15T03:33:57.642365",
     "exception": false,
     "start_time": "2024-02-15T03:33:57.486679",
     "status": "completed"
    },
    "tags": []
   },
   "source": [
    "When you click \"save version\" in Kaggle, and wait for the notebook to run, you'll see that `sub.csv` appears in the \"Data\" tab. Clicking on that file will show a *Submit* button, which allows you to submit to the competition."
   ]
  },
  {
   "cell_type": "markdown",
   "id": "e73c0645",
   "metadata": {
    "papermill": {
     "duration": 0.153874,
     "end_time": "2024-02-15T03:33:57.949916",
     "exception": false,
     "start_time": "2024-02-15T03:33:57.796042",
     "status": "completed"
    },
    "tags": []
   },
   "source": [
    "## Using matrix product"
   ]
  },
  {
   "cell_type": "markdown",
   "id": "73b7aefd",
   "metadata": {
    "papermill": {
     "duration": 0.155666,
     "end_time": "2024-02-15T03:33:58.263540",
     "exception": false,
     "start_time": "2024-02-15T03:33:58.107874",
     "status": "completed"
    },
    "tags": []
   },
   "source": [
    "We can make things quite a bit neater...\n",
    "\n",
    "Take a look at the inner-most calculation we're doing to get the predictions:"
   ]
  },
  {
   "cell_type": "code",
   "execution_count": 57,
   "id": "99abdf95",
   "metadata": {
    "execution": {
     "iopub.execute_input": "2024-02-15T03:33:58.571112Z",
     "iopub.status.busy": "2024-02-15T03:33:58.570807Z",
     "iopub.status.idle": "2024-02-15T03:33:58.580620Z",
     "shell.execute_reply": "2024-02-15T03:33:58.579816Z"
    },
    "papermill": {
     "duration": 0.165744,
     "end_time": "2024-02-15T03:33:58.582544",
     "exception": false,
     "start_time": "2024-02-15T03:33:58.416800",
     "status": "completed"
    },
    "tags": []
   },
   "outputs": [
    {
     "data": {
      "text/plain": [
       "tensor([ 12.3288, -14.8119, -15.4540, -13.1513, -13.3512, -13.6469,   3.6248,   5.3429, -22.0878,   3.1233, -21.8742, -15.6421, -21.5504,\n",
       "          3.9393, -21.9190, -12.0010, -12.3775,   5.3550, -13.5880,  -3.1015, -21.7237, -12.2081,  12.9767,   4.7427, -21.6525, -14.9135,\n",
       "         -2.7433, -12.3210, -21.5886,   3.9387,   5.3890,  -3.6196, -21.6296, -21.8454,  12.2159,  -3.2275, -12.0289,  13.4560, -21.7230,\n",
       "         -3.1366, -13.2462, -21.7230, -13.6831,  13.3092, -21.6477,  -3.5868, -21.6854, -21.8316, -14.8158,  -2.9386,  -5.3103, -22.2384,\n",
       "        -22.1097, -21.7466, -13.3780, -13.4909, -14.8119, -22.0690, -21.6666, -21.7818,  -5.4439, -21.7407, -12.6551, -21.6671,   4.9238,\n",
       "        -11.5777, -13.3323, -21.9638, -15.3030,   5.0243, -21.7614,   3.1820, -13.4721, -21.7170, -11.6066, -21.5737, -21.7230, -11.9652,\n",
       "        -13.2382, -13.7599, -13.2170,  13.1347, -21.7049, -21.7268,   4.9207,  -7.3198,  -5.3081,   7.1065,  11.4948, -13.3135, -21.8723,\n",
       "        -21.7230,  13.3603, -15.5670,   3.4105,  -7.2857, -13.7197,   3.6909,   3.9763, -14.7227, -21.8268,   3.9387, -21.8743, -21.8367,\n",
       "        -11.8518, -13.6712, -21.8299,   4.9440,  -5.4471, -21.9666,   5.1333,  -3.2187, -11.6008,  13.7920, -21.7230,  12.6369,  -3.7268,\n",
       "        -14.8119, -22.0637,  12.9468, -22.1610,  -6.1827, -14.8119,  -3.2838, -15.4540, -11.6950,  -2.9926,  -3.0110, -21.5664, -13.8268,\n",
       "          7.3426, -21.8418,   5.0744,   5.2582,  13.3415, -21.6289, -13.9898, -21.8112,  -7.3316,   5.2296, -13.4453,  12.7891, -22.1235,\n",
       "        -14.9625,  -3.4339,   6.3089, -21.9839,   3.1968,   7.2400,   2.8558,  -3.1187,   3.7965,   5.4667, -15.1101, -15.0597, -22.9391,\n",
       "        -21.7230,  -3.0346, -13.5206, -21.7011,  13.4425,  -7.2690, -21.8335, -12.0582,  13.0489,   6.7993,   5.2160,   5.0794, -12.6957,\n",
       "        -12.1838,  -3.0873, -21.6070,   7.0744, -21.7170, -22.1001,   6.8159, -11.6002, -21.6310])"
      ]
     },
     "execution_count": 57,
     "metadata": {},
     "output_type": "execute_result"
    }
   ],
   "source": [
    "(val_indep*coeffs).sum(axis=1)"
   ]
  },
  {
   "cell_type": "markdown",
   "id": "8c8c81a6",
   "metadata": {
    "papermill": {
     "duration": 0.151322,
     "end_time": "2024-02-15T03:33:58.884077",
     "exception": false,
     "start_time": "2024-02-15T03:33:58.732755",
     "status": "completed"
    },
    "tags": []
   },
   "source": [
    "Multiplying elements together and then adding across rows is identical to doing a matrix-vector product! Python uses the `@` operator to indicate matrix products, and is supported by PyTorch tensors. Therefore, we can replicate the above calculate more simply like so:"
   ]
  },
  {
   "cell_type": "code",
   "execution_count": 58,
   "id": "a53d056a",
   "metadata": {
    "execution": {
     "iopub.execute_input": "2024-02-15T03:33:59.191825Z",
     "iopub.status.busy": "2024-02-15T03:33:59.191514Z",
     "iopub.status.idle": "2024-02-15T03:33:59.235715Z",
     "shell.execute_reply": "2024-02-15T03:33:59.234893Z"
    },
    "papermill": {
     "duration": 0.201269,
     "end_time": "2024-02-15T03:33:59.237759",
     "exception": false,
     "start_time": "2024-02-15T03:33:59.036490",
     "status": "completed"
    },
    "tags": []
   },
   "outputs": [
    {
     "data": {
      "text/plain": [
       "tensor([ 12.3288, -14.8119, -15.4540, -13.1513, -13.3511, -13.6468,   3.6248,   5.3429, -22.0878,   3.1233, -21.8742, -15.6421, -21.5504,\n",
       "          3.9393, -21.9190, -12.0010, -12.3775,   5.3550, -13.5880,  -3.1015, -21.7237, -12.2081,  12.9767,   4.7427, -21.6525, -14.9135,\n",
       "         -2.7433, -12.3210, -21.5886,   3.9387,   5.3890,  -3.6196, -21.6296, -21.8454,  12.2159,  -3.2275, -12.0289,  13.4560, -21.7230,\n",
       "         -3.1366, -13.2462, -21.7230, -13.6831,  13.3092, -21.6477,  -3.5868, -21.6854, -21.8316, -14.8158,  -2.9386,  -5.3103, -22.2384,\n",
       "        -22.1097, -21.7466, -13.3780, -13.4909, -14.8119, -22.0690, -21.6666, -21.7818,  -5.4439, -21.7407, -12.6551, -21.6671,   4.9238,\n",
       "        -11.5777, -13.3323, -21.9638, -15.3030,   5.0243, -21.7614,   3.1820, -13.4721, -21.7170, -11.6066, -21.5737, -21.7230, -11.9652,\n",
       "        -13.2382, -13.7599, -13.2170,  13.1347, -21.7049, -21.7268,   4.9207,  -7.3198,  -5.3081,   7.1065,  11.4948, -13.3135, -21.8723,\n",
       "        -21.7230,  13.3603, -15.5670,   3.4105,  -7.2857, -13.7197,   3.6909,   3.9763, -14.7227, -21.8268,   3.9387, -21.8743, -21.8367,\n",
       "        -11.8518, -13.6712, -21.8299,   4.9440,  -5.4471, -21.9666,   5.1333,  -3.2187, -11.6008,  13.7920, -21.7230,  12.6369,  -3.7268,\n",
       "        -14.8119, -22.0637,  12.9468, -22.1610,  -6.1827, -14.8119,  -3.2838, -15.4540, -11.6950,  -2.9926,  -3.0110, -21.5664, -13.8268,\n",
       "          7.3426, -21.8418,   5.0744,   5.2582,  13.3415, -21.6289, -13.9898, -21.8112,  -7.3316,   5.2296, -13.4453,  12.7891, -22.1235,\n",
       "        -14.9625,  -3.4339,   6.3089, -21.9839,   3.1968,   7.2400,   2.8558,  -3.1187,   3.7965,   5.4667, -15.1101, -15.0597, -22.9391,\n",
       "        -21.7230,  -3.0346, -13.5206, -21.7011,  13.4425,  -7.2690, -21.8335, -12.0582,  13.0489,   6.7993,   5.2160,   5.0794, -12.6957,\n",
       "        -12.1838,  -3.0873, -21.6070,   7.0744, -21.7170, -22.1001,   6.8159, -11.6002, -21.6310])"
      ]
     },
     "execution_count": 58,
     "metadata": {},
     "output_type": "execute_result"
    }
   ],
   "source": [
    "val_indep@coeffs"
   ]
  },
  {
   "cell_type": "markdown",
   "id": "18763d79",
   "metadata": {
    "papermill": {
     "duration": 0.156629,
     "end_time": "2024-02-15T03:33:59.551144",
     "exception": false,
     "start_time": "2024-02-15T03:33:59.394515",
     "status": "completed"
    },
    "tags": []
   },
   "source": [
    "It also turns out that this is much faster, because matrix products in PyTorch are very highly optimised.\n",
    "\n",
    "Let's use this to replace how `calc_preds` works:"
   ]
  },
  {
   "cell_type": "code",
   "execution_count": 59,
   "id": "4e227bd1",
   "metadata": {
    "execution": {
     "iopub.execute_input": "2024-02-15T03:33:59.862516Z",
     "iopub.status.busy": "2024-02-15T03:33:59.861856Z",
     "iopub.status.idle": "2024-02-15T03:33:59.866187Z",
     "shell.execute_reply": "2024-02-15T03:33:59.865479Z"
    },
    "papermill": {
     "duration": 0.164298,
     "end_time": "2024-02-15T03:33:59.868117",
     "exception": false,
     "start_time": "2024-02-15T03:33:59.703819",
     "status": "completed"
    },
    "tags": []
   },
   "outputs": [],
   "source": [
    "def calc_preds(coeffs, indeps): return torch.sigmoid(indeps@coeffs)"
   ]
  },
  {
   "cell_type": "markdown",
   "id": "e21a23d4",
   "metadata": {
    "papermill": {
     "duration": 0.151684,
     "end_time": "2024-02-15T03:34:00.172170",
     "exception": false,
     "start_time": "2024-02-15T03:34:00.020486",
     "status": "completed"
    },
    "tags": []
   },
   "source": [
    "In order to do matrix-matrix products (which we'll need in the next section), we need to turn `coeffs` into a column vector (i.e. a matrix with a single column), which we can do by passing a second argument `1` to `torch.rand()`, indicating that we want our coefficients to have one column:"
   ]
  },
  {
   "cell_type": "code",
   "execution_count": 60,
   "id": "985f8a54",
   "metadata": {
    "execution": {
     "iopub.execute_input": "2024-02-15T03:34:00.480748Z",
     "iopub.status.busy": "2024-02-15T03:34:00.479870Z",
     "iopub.status.idle": "2024-02-15T03:34:00.484864Z",
     "shell.execute_reply": "2024-02-15T03:34:00.484118Z"
    },
    "papermill": {
     "duration": 0.160977,
     "end_time": "2024-02-15T03:34:00.486752",
     "exception": false,
     "start_time": "2024-02-15T03:34:00.325775",
     "status": "completed"
    },
    "tags": []
   },
   "outputs": [],
   "source": [
    "def init_coeffs(): return (torch.rand(n_coeff, 1)*0.1).requires_grad_()"
   ]
  },
  {
   "cell_type": "markdown",
   "id": "b6ade6d2",
   "metadata": {
    "papermill": {
     "duration": 0.151024,
     "end_time": "2024-02-15T03:34:00.790144",
     "exception": false,
     "start_time": "2024-02-15T03:34:00.639120",
     "status": "completed"
    },
    "tags": []
   },
   "source": [
    "We'll also need to turn our dependent variable into a column vector, which we can do by indexing the column dimension with the special value `None`, which tells PyTorch to add a new dimension in this position:"
   ]
  },
  {
   "cell_type": "code",
   "execution_count": 61,
   "id": "855d9621",
   "metadata": {
    "execution": {
     "iopub.execute_input": "2024-02-15T03:34:01.097829Z",
     "iopub.status.busy": "2024-02-15T03:34:01.097021Z",
     "iopub.status.idle": "2024-02-15T03:34:01.101435Z",
     "shell.execute_reply": "2024-02-15T03:34:01.100664Z"
    },
    "papermill": {
     "duration": 0.160492,
     "end_time": "2024-02-15T03:34:01.103367",
     "exception": false,
     "start_time": "2024-02-15T03:34:00.942875",
     "status": "completed"
    },
    "tags": []
   },
   "outputs": [],
   "source": [
    "trn_dep = trn_dep[:,None]\n",
    "val_dep = val_dep[:,None]"
   ]
  },
  {
   "cell_type": "markdown",
   "id": "80362d70",
   "metadata": {
    "papermill": {
     "duration": 0.159368,
     "end_time": "2024-02-15T03:34:01.417033",
     "exception": false,
     "start_time": "2024-02-15T03:34:01.257665",
     "status": "completed"
    },
    "tags": []
   },
   "source": [
    "We can now train our model as before and confirm we get identical outputs...:"
   ]
  },
  {
   "cell_type": "code",
   "execution_count": 62,
   "id": "d5700c54",
   "metadata": {
    "execution": {
     "iopub.execute_input": "2024-02-15T03:34:01.727353Z",
     "iopub.status.busy": "2024-02-15T03:34:01.726757Z",
     "iopub.status.idle": "2024-02-15T03:34:01.747803Z",
     "shell.execute_reply": "2024-02-15T03:34:01.746933Z"
    },
    "papermill": {
     "duration": 0.175186,
     "end_time": "2024-02-15T03:34:01.749963",
     "exception": false,
     "start_time": "2024-02-15T03:34:01.574777",
     "status": "completed"
    },
    "tags": []
   },
   "outputs": [
    {
     "name": "stdout",
     "output_type": "stream",
     "text": [
      "0.512; 0.323; 0.290; 0.205; 0.200; 0.198; 0.197; 0.197; 0.196; 0.196; 0.196; 0.195; 0.195; 0.195; 0.195; 0.195; 0.195; 0.194; 0.194; 0.194; 0.194; 0.194; 0.194; 0.194; 0.194; 0.194; 0.194; 0.194; 0.194; 0.194; "
     ]
    }
   ],
   "source": [
    "coeffs = train_model(lr=100)"
   ]
  },
  {
   "cell_type": "markdown",
   "id": "7e4c876b",
   "metadata": {
    "papermill": {
     "duration": 0.155786,
     "end_time": "2024-02-15T03:34:02.071586",
     "exception": false,
     "start_time": "2024-02-15T03:34:01.915800",
     "status": "completed"
    },
    "tags": []
   },
   "source": [
    "...and identical accuracy:"
   ]
  },
  {
   "cell_type": "code",
   "execution_count": 63,
   "id": "f6069423",
   "metadata": {
    "execution": {
     "iopub.execute_input": "2024-02-15T03:34:02.407440Z",
     "iopub.status.busy": "2024-02-15T03:34:02.407116Z",
     "iopub.status.idle": "2024-02-15T03:34:02.414263Z",
     "shell.execute_reply": "2024-02-15T03:34:02.413367Z"
    },
    "papermill": {
     "duration": 0.186346,
     "end_time": "2024-02-15T03:34:02.416403",
     "exception": false,
     "start_time": "2024-02-15T03:34:02.230057",
     "status": "completed"
    },
    "tags": []
   },
   "outputs": [
    {
     "data": {
      "text/plain": [
       "tensor(0.8258)"
      ]
     },
     "execution_count": 63,
     "metadata": {},
     "output_type": "execute_result"
    }
   ],
   "source": [
    "acc(coeffs)"
   ]
  },
  {
   "cell_type": "markdown",
   "id": "c776af11",
   "metadata": {
    "papermill": {
     "duration": 0.152236,
     "end_time": "2024-02-15T03:34:02.729072",
     "exception": false,
     "start_time": "2024-02-15T03:34:02.576836",
     "status": "completed"
    },
    "tags": []
   },
   "source": [
    "## A neural network"
   ]
  },
  {
   "cell_type": "markdown",
   "id": "f4605ec3",
   "metadata": {
    "papermill": {
     "duration": 0.156722,
     "end_time": "2024-02-15T03:34:03.043698",
     "exception": false,
     "start_time": "2024-02-15T03:34:02.886976",
     "status": "completed"
    },
    "tags": []
   },
   "source": [
    "We've now got what we need to implement our neural network.\n",
    "\n",
    "First, we'll need to create coefficients for each of our layers. Our first set of coefficients will take our `n_coeff` inputs, and create `n_hidden` outputs. We can choose whatever `n_hidden` we like -- a higher number gives our network more flexibility, but makes it slower and harder to train. So we need a matrix of size `n_coeff` by `n_hidden`. We'll divide these coefficients by `n_hidden` so that when we sum them up in the next layer we'll end up with similar magnitude numbers to what we started with.\n",
    "\n",
    "Then our second layer will need to take the `n_hidden` inputs and create a single output, so that means we need a `n_hidden` by `1` matrix there. The second layer will also need a constant term added."
   ]
  },
  {
   "cell_type": "code",
   "execution_count": 64,
   "id": "407bc31a",
   "metadata": {
    "execution": {
     "iopub.execute_input": "2024-02-15T03:34:03.355458Z",
     "iopub.status.busy": "2024-02-15T03:34:03.355177Z",
     "iopub.status.idle": "2024-02-15T03:34:03.360563Z",
     "shell.execute_reply": "2024-02-15T03:34:03.359783Z"
    },
    "papermill": {
     "duration": 0.161683,
     "end_time": "2024-02-15T03:34:03.362480",
     "exception": false,
     "start_time": "2024-02-15T03:34:03.200797",
     "status": "completed"
    },
    "tags": []
   },
   "outputs": [],
   "source": [
    "def init_coeffs(n_hidden=20):\n",
    "    layer1 = (torch.rand(n_coeff, n_hidden)-0.5)/n_hidden\n",
    "    layer2 = torch.rand(n_hidden, 1)-0.3\n",
    "    const = torch.rand(1)[0]\n",
    "    return layer1.requires_grad_(),layer2.requires_grad_(),const.requires_grad_()"
   ]
  },
  {
   "cell_type": "markdown",
   "id": "ae35c501",
   "metadata": {
    "papermill": {
     "duration": 0.165624,
     "end_time": "2024-02-15T03:34:03.680838",
     "exception": false,
     "start_time": "2024-02-15T03:34:03.515214",
     "status": "completed"
    },
    "tags": []
   },
   "source": [
    "Now we have our coefficients, we can create our neural net. The key steps are the two matrix products, `indeps@l1` and `res@l2` (where `res` is the output of the first layer). The first layer output is passed to `F.relu` (that's our non-linearity), and the second is passed to `torch.sigmoid` as before."
   ]
  },
  {
   "cell_type": "code",
   "execution_count": 65,
   "id": "726552e8",
   "metadata": {
    "execution": {
     "iopub.execute_input": "2024-02-15T03:34:04.012040Z",
     "iopub.status.busy": "2024-02-15T03:34:04.011230Z",
     "iopub.status.idle": "2024-02-15T03:34:04.016560Z",
     "shell.execute_reply": "2024-02-15T03:34:04.015751Z"
    },
    "papermill": {
     "duration": 0.163787,
     "end_time": "2024-02-15T03:34:04.018465",
     "exception": false,
     "start_time": "2024-02-15T03:34:03.854678",
     "status": "completed"
    },
    "tags": []
   },
   "outputs": [],
   "source": [
    "import torch.nn.functional as F\n",
    "\n",
    "def calc_preds(coeffs, indeps):\n",
    "    l1,l2,const = coeffs\n",
    "    res = F.relu(indeps@l1)\n",
    "    res = res@l2 + const\n",
    "    return torch.sigmoid(res)"
   ]
  },
  {
   "cell_type": "markdown",
   "id": "a51004c4",
   "metadata": {
    "papermill": {
     "duration": 0.152471,
     "end_time": "2024-02-15T03:34:04.326876",
     "exception": false,
     "start_time": "2024-02-15T03:34:04.174405",
     "status": "completed"
    },
    "tags": []
   },
   "source": [
    "Finally, now that we have more than one set of coefficients, we need to add a loop to update each one:"
   ]
  },
  {
   "cell_type": "code",
   "execution_count": 66,
   "id": "67988f13",
   "metadata": {
    "execution": {
     "iopub.execute_input": "2024-02-15T03:34:04.638777Z",
     "iopub.status.busy": "2024-02-15T03:34:04.637946Z",
     "iopub.status.idle": "2024-02-15T03:34:04.642598Z",
     "shell.execute_reply": "2024-02-15T03:34:04.641843Z"
    },
    "papermill": {
     "duration": 0.16363,
     "end_time": "2024-02-15T03:34:04.644729",
     "exception": false,
     "start_time": "2024-02-15T03:34:04.481099",
     "status": "completed"
    },
    "tags": []
   },
   "outputs": [],
   "source": [
    "def update_coeffs(coeffs, lr):\n",
    "    for layer in coeffs:\n",
    "        layer.sub_(layer.grad * lr)\n",
    "        layer.grad.zero_()"
   ]
  },
  {
   "cell_type": "markdown",
   "id": "6fc8b810",
   "metadata": {
    "papermill": {
     "duration": 0.157627,
     "end_time": "2024-02-15T03:34:04.957696",
     "exception": false,
     "start_time": "2024-02-15T03:34:04.800069",
     "status": "completed"
    },
    "tags": []
   },
   "source": [
    "That's it -- we're now ready to train our model!"
   ]
  },
  {
   "cell_type": "code",
   "execution_count": 67,
   "id": "74dc3ba6",
   "metadata": {
    "execution": {
     "iopub.execute_input": "2024-02-15T03:34:05.263938Z",
     "iopub.status.busy": "2024-02-15T03:34:05.263647Z",
     "iopub.status.idle": "2024-02-15T03:34:05.313679Z",
     "shell.execute_reply": "2024-02-15T03:34:05.312904Z"
    },
    "papermill": {
     "duration": 0.205532,
     "end_time": "2024-02-15T03:34:05.316030",
     "exception": false,
     "start_time": "2024-02-15T03:34:05.110498",
     "status": "completed"
    },
    "tags": []
   },
   "outputs": [
    {
     "name": "stdout",
     "output_type": "stream",
     "text": [
      "0.543; 0.532; 0.520; 0.505; 0.487; 0.466; 0.439; 0.407; 0.373; 0.343; 0.319; 0.301; 0.286; 0.274; 0.264; 0.256; 0.250; 0.245; 0.240; 0.237; 0.234; 0.231; 0.229; 0.227; 0.226; 0.224; 0.223; 0.222; 0.221; 0.220; "
     ]
    }
   ],
   "source": [
    "coeffs = train_model(lr=1.4)"
   ]
  },
  {
   "cell_type": "code",
   "execution_count": 68,
   "id": "66ed7887",
   "metadata": {
    "execution": {
     "iopub.execute_input": "2024-02-15T03:34:05.639387Z",
     "iopub.status.busy": "2024-02-15T03:34:05.639073Z",
     "iopub.status.idle": "2024-02-15T03:34:05.663759Z",
     "shell.execute_reply": "2024-02-15T03:34:05.662853Z"
    },
    "papermill": {
     "duration": 0.183321,
     "end_time": "2024-02-15T03:34:05.665717",
     "exception": false,
     "start_time": "2024-02-15T03:34:05.482396",
     "status": "completed"
    },
    "tags": []
   },
   "outputs": [
    {
     "name": "stdout",
     "output_type": "stream",
     "text": [
      "0.543; 0.400; 0.260; 0.390; 0.221; 0.211; 0.197; 0.195; 0.193; 0.193; 0.193; 0.193; 0.193; 0.193; 0.193; 0.193; 0.193; 0.192; 0.192; 0.192; 0.192; 0.192; 0.192; 0.192; 0.192; 0.192; 0.192; 0.192; 0.192; 0.192; "
     ]
    }
   ],
   "source": [
    "coeffs = train_model(lr=20)"
   ]
  },
  {
   "cell_type": "markdown",
   "id": "7fca56f6",
   "metadata": {
    "papermill": {
     "duration": 0.154654,
     "end_time": "2024-02-15T03:34:05.972359",
     "exception": false,
     "start_time": "2024-02-15T03:34:05.817705",
     "status": "completed"
    },
    "tags": []
   },
   "source": [
    "It's looking good -- our loss is lower than before. Let's see if that translates to a better result on the validation set:"
   ]
  },
  {
   "cell_type": "code",
   "execution_count": 69,
   "id": "3c924031",
   "metadata": {
    "execution": {
     "iopub.execute_input": "2024-02-15T03:34:06.286208Z",
     "iopub.status.busy": "2024-02-15T03:34:06.285927Z",
     "iopub.status.idle": "2024-02-15T03:34:06.292925Z",
     "shell.execute_reply": "2024-02-15T03:34:06.292180Z"
    },
    "papermill": {
     "duration": 0.169122,
     "end_time": "2024-02-15T03:34:06.294961",
     "exception": false,
     "start_time": "2024-02-15T03:34:06.125839",
     "status": "completed"
    },
    "tags": []
   },
   "outputs": [
    {
     "data": {
      "text/plain": [
       "tensor(0.8258)"
      ]
     },
     "execution_count": 69,
     "metadata": {},
     "output_type": "execute_result"
    }
   ],
   "source": [
    "acc(coeffs)"
   ]
  },
  {
   "cell_type": "markdown",
   "id": "73c527f1",
   "metadata": {
    "papermill": {
     "duration": 0.154063,
     "end_time": "2024-02-15T03:34:06.604198",
     "exception": false,
     "start_time": "2024-02-15T03:34:06.450135",
     "status": "completed"
    },
    "tags": []
   },
   "source": [
    "In this case our neural net isn't showing better results than the linear model. That's not surprising; this dataset is very small and very simple, and isn't the kind of thing we'd expect to see neural networks excel at. Furthermore, our validation set is too small to reliably see much accuracy difference. But the key thing is that we now know exactly what a real neural net looks like!"
   ]
  },
  {
   "cell_type": "markdown",
   "id": "07b4b645",
   "metadata": {
    "papermill": {
     "duration": 0.157049,
     "end_time": "2024-02-15T03:34:06.916917",
     "exception": false,
     "start_time": "2024-02-15T03:34:06.759868",
     "status": "completed"
    },
    "tags": []
   },
   "source": [
    "## Deep learning"
   ]
  },
  {
   "cell_type": "markdown",
   "id": "29a2968e",
   "metadata": {
    "papermill": {
     "duration": 0.155477,
     "end_time": "2024-02-15T03:34:07.228417",
     "exception": false,
     "start_time": "2024-02-15T03:34:07.072940",
     "status": "completed"
    },
    "tags": []
   },
   "source": [
    "The neural net in the previous section only uses one hidden layer, so it doesn't count as \"deep\" learning. But we can use the exact same technique to make our neural net deep, by adding more matrix multiplications.\n",
    "\n",
    "First, we'll need to create additional coefficients for each layer:"
   ]
  },
  {
   "cell_type": "code",
   "execution_count": null,
   "id": "847b8aa4",
   "metadata": {
    "papermill": {
     "duration": 0.153208,
     "end_time": "2024-02-15T03:34:07.538642",
     "exception": false,
     "start_time": "2024-02-15T03:34:07.385434",
     "status": "completed"
    },
    "tags": []
   },
   "outputs": [],
   "source": []
  },
  {
   "cell_type": "code",
   "execution_count": null,
   "id": "45dd7a7b",
   "metadata": {
    "papermill": {
     "duration": 0.156435,
     "end_time": "2024-02-15T03:34:07.850151",
     "exception": false,
     "start_time": "2024-02-15T03:34:07.693716",
     "status": "completed"
    },
    "tags": []
   },
   "outputs": [],
   "source": []
  },
  {
   "cell_type": "code",
   "execution_count": 70,
   "id": "a71ef436",
   "metadata": {
    "execution": {
     "iopub.execute_input": "2024-02-15T03:34:08.165302Z",
     "iopub.status.busy": "2024-02-15T03:34:08.164584Z",
     "iopub.status.idle": "2024-02-15T03:34:08.171404Z",
     "shell.execute_reply": "2024-02-15T03:34:08.170672Z"
    },
    "papermill": {
     "duration": 0.165388,
     "end_time": "2024-02-15T03:34:08.173361",
     "exception": false,
     "start_time": "2024-02-15T03:34:08.007973",
     "status": "completed"
    },
    "tags": []
   },
   "outputs": [],
   "source": [
    "def init_coeffs():\n",
    "    hiddens = [10, 10]  # <-- set this to the size of each hidden layer you want\n",
    "    sizes = [n_coeff] + hiddens + [1]\n",
    "    n = len(sizes)\n",
    "    layers = [(torch.rand(sizes[i], sizes[i+1])-0.3)/sizes[i+1]*4 for i in range(n-1)]\n",
    "    consts = [(torch.rand(1)[0]-0.5)*0.1 for i in range(n-1)]\n",
    "    for l in layers+consts: l.requires_grad_()\n",
    "    return layers,consts"
   ]
  },
  {
   "cell_type": "markdown",
   "id": "de960744",
   "metadata": {
    "papermill": {
     "duration": 0.154727,
     "end_time": "2024-02-15T03:34:08.481204",
     "exception": false,
     "start_time": "2024-02-15T03:34:08.326477",
     "status": "completed"
    },
    "tags": []
   },
   "source": [
    "You'll notice here that there's a lot of messy constants to get the random numbers in just the right ranges. When you train the model in a moment, you'll see that the tiniest changes to these initialisations can cause our model to fail to train at all! This is a key reason that deep learning failed to make much progress in the early days -- it's very finicky to get a good starting point for our coefficients. Nowadays, we have ways to deal with that, which we'll learn about in other notebooks.\n",
    "\n",
    "Our deep learning `calc_preds` looks much the same as before, but now we loop through each layer, instead of listing them separately:"
   ]
  },
  {
   "cell_type": "code",
   "execution_count": 71,
   "id": "7f29257a",
   "metadata": {
    "execution": {
     "iopub.execute_input": "2024-02-15T03:34:08.794086Z",
     "iopub.status.busy": "2024-02-15T03:34:08.793783Z",
     "iopub.status.idle": "2024-02-15T03:34:08.799612Z",
     "shell.execute_reply": "2024-02-15T03:34:08.798893Z"
    },
    "papermill": {
     "duration": 0.163702,
     "end_time": "2024-02-15T03:34:08.801581",
     "exception": false,
     "start_time": "2024-02-15T03:34:08.637879",
     "status": "completed"
    },
    "tags": []
   },
   "outputs": [],
   "source": [
    "import torch.nn.functional as F\n",
    "\n",
    "def calc_preds(coeffs, indeps):\n",
    "    layers,consts = coeffs\n",
    "    n = len(layers)\n",
    "    res = indeps\n",
    "    for i,l in enumerate(layers):\n",
    "        res = res@l + consts[i]\n",
    "        if i!=n-1: res = F.relu(res)\n",
    "    return torch.sigmoid(res)"
   ]
  },
  {
   "cell_type": "markdown",
   "id": "e3d961a2",
   "metadata": {
    "papermill": {
     "duration": 0.154778,
     "end_time": "2024-02-15T03:34:09.114388",
     "exception": false,
     "start_time": "2024-02-15T03:34:08.959610",
     "status": "completed"
    },
    "tags": []
   },
   "source": [
    "We also need a minor update to `update_coeffs` since we've got `layers` and `consts` separated now:"
   ]
  },
  {
   "cell_type": "code",
   "execution_count": 72,
   "id": "6ea37c34",
   "metadata": {
    "execution": {
     "iopub.execute_input": "2024-02-15T03:34:09.422645Z",
     "iopub.status.busy": "2024-02-15T03:34:09.422379Z",
     "iopub.status.idle": "2024-02-15T03:34:09.426957Z",
     "shell.execute_reply": "2024-02-15T03:34:09.426308Z"
    },
    "papermill": {
     "duration": 0.160662,
     "end_time": "2024-02-15T03:34:09.428863",
     "exception": false,
     "start_time": "2024-02-15T03:34:09.268201",
     "status": "completed"
    },
    "tags": []
   },
   "outputs": [],
   "source": [
    "def update_coeffs(coeffs, lr):\n",
    "    layers,consts = coeffs\n",
    "    for layer in layers+consts:\n",
    "        layer.sub_(layer.grad * lr)\n",
    "        layer.grad.zero_()"
   ]
  },
  {
   "cell_type": "markdown",
   "id": "a11e635e",
   "metadata": {
    "papermill": {
     "duration": 0.152541,
     "end_time": "2024-02-15T03:34:09.734313",
     "exception": false,
     "start_time": "2024-02-15T03:34:09.581772",
     "status": "completed"
    },
    "tags": []
   },
   "source": [
    "Let's train our model..."
   ]
  },
  {
   "cell_type": "code",
   "execution_count": 73,
   "id": "3ace1e45",
   "metadata": {
    "execution": {
     "iopub.execute_input": "2024-02-15T03:34:10.046441Z",
     "iopub.status.busy": "2024-02-15T03:34:10.046139Z",
     "iopub.status.idle": "2024-02-15T03:34:10.076798Z",
     "shell.execute_reply": "2024-02-15T03:34:10.075977Z"
    },
    "papermill": {
     "duration": 0.189342,
     "end_time": "2024-02-15T03:34:10.079024",
     "exception": false,
     "start_time": "2024-02-15T03:34:09.889682",
     "status": "completed"
    },
    "tags": []
   },
   "outputs": [
    {
     "name": "stdout",
     "output_type": "stream",
     "text": [
      "0.521; 0.483; 0.427; 0.379; 0.379; 0.379; 0.379; 0.378; 0.378; 0.378; 0.378; 0.378; 0.378; 0.378; 0.378; 0.378; 0.377; 0.376; 0.371; 0.333; 0.239; 0.224; 0.208; 0.204; 0.203; 0.203; 0.207; 0.197; 0.196; 0.195; "
     ]
    }
   ],
   "source": [
    "coeffs = train_model(lr=4)"
   ]
  },
  {
   "cell_type": "markdown",
   "id": "18d23e19",
   "metadata": {
    "papermill": {
     "duration": 0.152561,
     "end_time": "2024-02-15T03:34:10.386787",
     "exception": false,
     "start_time": "2024-02-15T03:34:10.234226",
     "status": "completed"
    },
    "tags": []
   },
   "source": [
    "...and check its accuracy:"
   ]
  },
  {
   "cell_type": "code",
   "execution_count": 74,
   "id": "e8b9e1df",
   "metadata": {
    "execution": {
     "iopub.execute_input": "2024-02-15T03:34:10.695874Z",
     "iopub.status.busy": "2024-02-15T03:34:10.695568Z",
     "iopub.status.idle": "2024-02-15T03:34:10.702093Z",
     "shell.execute_reply": "2024-02-15T03:34:10.701435Z"
    },
    "papermill": {
     "duration": 0.163628,
     "end_time": "2024-02-15T03:34:10.704159",
     "exception": false,
     "start_time": "2024-02-15T03:34:10.540531",
     "status": "completed"
    },
    "tags": []
   },
   "outputs": [
    {
     "data": {
      "text/plain": [
       "tensor(0.8258)"
      ]
     },
     "execution_count": 74,
     "metadata": {},
     "output_type": "execute_result"
    }
   ],
   "source": [
    "acc(coeffs)"
   ]
  },
  {
   "cell_type": "markdown",
   "id": "632db403",
   "metadata": {
    "papermill": {
     "duration": 0.15324,
     "end_time": "2024-02-15T03:34:11.011702",
     "exception": false,
     "start_time": "2024-02-15T03:34:10.858462",
     "status": "completed"
    },
    "tags": []
   },
   "source": [
    "## Final thoughts"
   ]
  },
  {
   "cell_type": "markdown",
   "id": "29732f4c",
   "metadata": {
    "papermill": {
     "duration": 0.172687,
     "end_time": "2024-02-15T03:34:11.351716",
     "exception": false,
     "start_time": "2024-02-15T03:34:11.179029",
     "status": "completed"
    },
    "tags": []
   },
   "source": [
    "It's actually pretty cool that we've managed to create a real deep learning model from scratch and trained it to get over 80% accuracy on this task, all in the course of a single notebook!\n",
    "\n",
    "The \"real\" deep learning models that are used in research and industry look very similar to this, and in fact if you look inside the source code of any deep learning model you'll recognise the basic steps are the same.\n",
    "\n",
    "The biggest differences in practical models to what we have above are:\n",
    "\n",
    "- How initialisation and normalisation is done to ensure the model trains correctly every time\n",
    "- Regularization (to avoid over-fitting)\n",
    "- Modifying the neural net itself to take advantage of knowledge of the problem domain\n",
    "- Doing gradient descent steps on smaller batches, rather than the whole dataset.\n",
    "\n",
    "I'll be adding notebooks about all these later, and will add links here once they're ready.\n",
    "\n",
    "If you found this notebook useful, please remember to click the little up-arrow at the top to upvote it, since I like to know when people have found my work useful, and it helps others find it too. (BTW, be sure you're looking at my [original notebook here](https://www.kaggle.com/code/jhoward/linear-model-and-neural-net-from-scratch) when you do that, and are not on your own copy of it, otherwise your upvote won't get counted!) And if you have any questions or comments, please pop them below -- I read every comment I receive!"
   ]
  },
  {
   "cell_type": "code",
   "execution_count": null,
   "id": "fc16ffb7",
   "metadata": {
    "papermill": {
     "duration": 0.185024,
     "end_time": "2024-02-15T03:34:11.711303",
     "exception": false,
     "start_time": "2024-02-15T03:34:11.526279",
     "status": "completed"
    },
    "tags": []
   },
   "outputs": [],
   "source": []
  }
 ],
 "metadata": {
  "kaggle": {
   "accelerator": "none",
   "dataSources": [
    {
     "databundleVersionId": 26502,
     "sourceId": 3136,
     "sourceType": "competition"
    }
   ],
   "dockerImageVersionId": 30184,
   "isGpuEnabled": false,
   "isInternetEnabled": true,
   "language": "python",
   "sourceType": "notebook"
  },
  "kernelspec": {
   "display_name": "Python 3",
   "language": "python",
   "name": "python3"
  },
  "language_info": {
   "codemirror_mode": {
    "name": "ipython",
    "version": 3
   },
   "file_extension": ".py",
   "mimetype": "text/x-python",
   "name": "python",
   "nbconvert_exporter": "python",
   "pygments_lexer": "ipython3",
   "version": "3.7.12"
  },
  "papermill": {
   "default_parameters": {},
   "duration": 66.633251,
   "end_time": "2024-02-15T03:34:13.201862",
   "environment_variables": {},
   "exception": null,
   "input_path": "__notebook__.ipynb",
   "output_path": "__notebook__.ipynb",
   "parameters": {},
   "start_time": "2024-02-15T03:33:06.568611",
   "version": "2.3.4"
  }
 },
 "nbformat": 4,
 "nbformat_minor": 5
}
