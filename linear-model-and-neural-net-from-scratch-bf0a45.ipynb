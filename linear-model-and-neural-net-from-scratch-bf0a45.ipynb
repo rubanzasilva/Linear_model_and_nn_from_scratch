{
 "cells": [
  {
   "cell_type": "markdown",
   "id": "be4d0eee",
   "metadata": {
    "papermill": {
     "duration": 0.174624,
     "end_time": "2024-02-15T03:25:27.607330",
     "exception": false,
     "start_time": "2024-02-15T03:25:27.432706",
     "status": "completed"
    },
    "tags": []
   },
   "source": [
    "## Introduction"
   ]
  },
  {
   "cell_type": "markdown",
   "id": "612e2f4a",
   "metadata": {
    "papermill": {
     "duration": 0.168214,
     "end_time": "2024-02-15T03:25:27.944173",
     "exception": false,
     "start_time": "2024-02-15T03:25:27.775959",
     "status": "completed"
    },
    "tags": []
   },
   "source": [
    "In this notebook we're going to build and train a deep learning model \"from scratch\" -- by which I mean that we're not going to use any pre-built architecture, or optimizers, or data loading frameworks, etc.\n",
    "\n",
    "We'll be assuming you already know the basics of how a neural network works. If you don't, read this notebook first: [How does a neural net really work?\n",
    "](https://www.kaggle.com/code/jhoward/how-does-a-neural-net-really-work). We'll be using Kaggle's [Titanic](https://www.kaggle.com/competitions/titanic/) competition in this notebook, because it's very small and simple, but also has displays many of the tricky real-life issues that we need to handle in most practical projects. (Note, however, that this competition is a small \"learner\" competition on Kaggle, so don't expect to actually see much benefits from using a neural net just yet; that will come once we try our some real competitions!)\n",
    "\n",
    "It's great to be able to run the same notebook on your own machine or Colab, as well as Kaggle. To allow for this, we use this code to download the data as needed when not on Kaggle (see [this notebook](https://www.kaggle.com/code/jhoward/getting-started-with-nlp-for-absolute-beginners/) for details about this technique):"
   ]
  },
  {
   "cell_type": "code",
   "execution_count": 1,
   "id": "93186f38",
   "metadata": {
    "execution": {
     "iopub.execute_input": "2024-02-15T03:25:28.280679Z",
     "iopub.status.busy": "2024-02-15T03:25:28.279860Z",
     "iopub.status.idle": "2024-02-15T03:25:28.297914Z",
     "shell.execute_reply": "2024-02-15T03:25:28.296923Z"
    },
    "papermill": {
     "duration": 0.187579,
     "end_time": "2024-02-15T03:25:28.300697",
     "exception": false,
     "start_time": "2024-02-15T03:25:28.113118",
     "status": "completed"
    },
    "tags": []
   },
   "outputs": [],
   "source": [
    "import os\n",
    "from pathlib import Path\n",
    "\n",
    "iskaggle = os.environ.get('KAGGLE_KERNEL_RUN_TYPE', '')\n",
    "if iskaggle: path = Path('../input/titanic')\n",
    "else:\n",
    "    path = Path('titanic')\n",
    "    if not path.exists():\n",
    "        import zipfile,kaggle\n",
    "        kaggle.api.competition_download_cli(str(path))\n",
    "        zipfile.ZipFile(f'{path}.zip').extractall(path)"
   ]
  },
  {
   "cell_type": "markdown",
   "id": "e954ff53",
   "metadata": {
    "hidden": true,
    "papermill": {
     "duration": 0.162486,
     "end_time": "2024-02-15T03:25:28.629845",
     "exception": false,
     "start_time": "2024-02-15T03:25:28.467359",
     "status": "completed"
    },
    "tags": []
   },
   "source": [
    "Note that the data for Kaggle comps always lives in the `../input` folder. The easiest way to get the path is to click the \"K\" button in the top-right of the Kaggle notebook, click on the folder shown there, and click the copy button.\n",
    "\n",
    "We'll be using *numpy* and *pytorch* for array calculations in this notebook, and *pandas* for working with tabular data, so we'll import them and set them to display using a bit more space than they default to."
   ]
  },
  {
   "cell_type": "code",
   "execution_count": 2,
   "id": "fd5e2ec3",
   "metadata": {
    "execution": {
     "iopub.execute_input": "2024-02-15T03:25:28.971356Z",
     "iopub.status.busy": "2024-02-15T03:25:28.970770Z",
     "iopub.status.idle": "2024-02-15T03:25:30.667776Z",
     "shell.execute_reply": "2024-02-15T03:25:30.666729Z"
    },
    "papermill": {
     "duration": 1.87354,
     "end_time": "2024-02-15T03:25:30.670497",
     "exception": false,
     "start_time": "2024-02-15T03:25:28.796957",
     "status": "completed"
    },
    "tags": []
   },
   "outputs": [],
   "source": [
    "import torch, numpy as np, pandas as pd\n",
    "np.set_printoptions(linewidth=140)\n",
    "torch.set_printoptions(linewidth=140, sci_mode=False, edgeitems=7)\n",
    "pd.set_option('display.width', 140)"
   ]
  },
  {
   "cell_type": "markdown",
   "id": "5408e2e3",
   "metadata": {
    "heading_collapsed": true,
    "papermill": {
     "duration": 0.165026,
     "end_time": "2024-02-15T03:25:31.023963",
     "exception": false,
     "start_time": "2024-02-15T03:25:30.858937",
     "status": "completed"
    },
    "tags": []
   },
   "source": [
    "## Cleaning the data"
   ]
  },
  {
   "cell_type": "markdown",
   "id": "e82e67e1",
   "metadata": {
    "hidden": true,
    "papermill": {
     "duration": 0.167175,
     "end_time": "2024-02-15T03:25:31.356957",
     "exception": false,
     "start_time": "2024-02-15T03:25:31.189782",
     "status": "completed"
    },
    "tags": []
   },
   "source": [
    "This is a *tabular data* competition -- the data is in the form of a table. It's provided as a Comma Separated Values (CSV) file. We can open it using the *pandas* library, which will create a `DataFrame`."
   ]
  },
  {
   "cell_type": "code",
   "execution_count": 3,
   "id": "37aed355",
   "metadata": {
    "execution": {
     "iopub.execute_input": "2024-02-15T03:25:31.681603Z",
     "iopub.status.busy": "2024-02-15T03:25:31.681046Z",
     "iopub.status.idle": "2024-02-15T03:25:31.746556Z",
     "shell.execute_reply": "2024-02-15T03:25:31.745507Z"
    },
    "hidden": true,
    "papermill": {
     "duration": 0.232098,
     "end_time": "2024-02-15T03:25:31.750385",
     "exception": false,
     "start_time": "2024-02-15T03:25:31.518287",
     "status": "completed"
    },
    "scrolled": true,
    "tags": []
   },
   "outputs": [
    {
     "data": {
      "text/html": [
       "<div>\n",
       "<style scoped>\n",
       "    .dataframe tbody tr th:only-of-type {\n",
       "        vertical-align: middle;\n",
       "    }\n",
       "\n",
       "    .dataframe tbody tr th {\n",
       "        vertical-align: top;\n",
       "    }\n",
       "\n",
       "    .dataframe thead th {\n",
       "        text-align: right;\n",
       "    }\n",
       "</style>\n",
       "<table border=\"1\" class=\"dataframe\">\n",
       "  <thead>\n",
       "    <tr style=\"text-align: right;\">\n",
       "      <th></th>\n",
       "      <th>PassengerId</th>\n",
       "      <th>Survived</th>\n",
       "      <th>Pclass</th>\n",
       "      <th>Name</th>\n",
       "      <th>Sex</th>\n",
       "      <th>Age</th>\n",
       "      <th>SibSp</th>\n",
       "      <th>Parch</th>\n",
       "      <th>Ticket</th>\n",
       "      <th>Fare</th>\n",
       "      <th>Cabin</th>\n",
       "      <th>Embarked</th>\n",
       "    </tr>\n",
       "  </thead>\n",
       "  <tbody>\n",
       "    <tr>\n",
       "      <th>0</th>\n",
       "      <td>1</td>\n",
       "      <td>0</td>\n",
       "      <td>3</td>\n",
       "      <td>Braund, Mr. Owen Harris</td>\n",
       "      <td>male</td>\n",
       "      <td>22.0</td>\n",
       "      <td>1</td>\n",
       "      <td>0</td>\n",
       "      <td>A/5 21171</td>\n",
       "      <td>7.2500</td>\n",
       "      <td>NaN</td>\n",
       "      <td>S</td>\n",
       "    </tr>\n",
       "    <tr>\n",
       "      <th>1</th>\n",
       "      <td>2</td>\n",
       "      <td>1</td>\n",
       "      <td>1</td>\n",
       "      <td>Cumings, Mrs. John Bradley (Florence Briggs Th...</td>\n",
       "      <td>female</td>\n",
       "      <td>38.0</td>\n",
       "      <td>1</td>\n",
       "      <td>0</td>\n",
       "      <td>PC 17599</td>\n",
       "      <td>71.2833</td>\n",
       "      <td>C85</td>\n",
       "      <td>C</td>\n",
       "    </tr>\n",
       "    <tr>\n",
       "      <th>2</th>\n",
       "      <td>3</td>\n",
       "      <td>1</td>\n",
       "      <td>3</td>\n",
       "      <td>Heikkinen, Miss. Laina</td>\n",
       "      <td>female</td>\n",
       "      <td>26.0</td>\n",
       "      <td>0</td>\n",
       "      <td>0</td>\n",
       "      <td>STON/O2. 3101282</td>\n",
       "      <td>7.9250</td>\n",
       "      <td>NaN</td>\n",
       "      <td>S</td>\n",
       "    </tr>\n",
       "    <tr>\n",
       "      <th>3</th>\n",
       "      <td>4</td>\n",
       "      <td>1</td>\n",
       "      <td>1</td>\n",
       "      <td>Futrelle, Mrs. Jacques Heath (Lily May Peel)</td>\n",
       "      <td>female</td>\n",
       "      <td>35.0</td>\n",
       "      <td>1</td>\n",
       "      <td>0</td>\n",
       "      <td>113803</td>\n",
       "      <td>53.1000</td>\n",
       "      <td>C123</td>\n",
       "      <td>S</td>\n",
       "    </tr>\n",
       "    <tr>\n",
       "      <th>4</th>\n",
       "      <td>5</td>\n",
       "      <td>0</td>\n",
       "      <td>3</td>\n",
       "      <td>Allen, Mr. William Henry</td>\n",
       "      <td>male</td>\n",
       "      <td>35.0</td>\n",
       "      <td>0</td>\n",
       "      <td>0</td>\n",
       "      <td>373450</td>\n",
       "      <td>8.0500</td>\n",
       "      <td>NaN</td>\n",
       "      <td>S</td>\n",
       "    </tr>\n",
       "    <tr>\n",
       "      <th>...</th>\n",
       "      <td>...</td>\n",
       "      <td>...</td>\n",
       "      <td>...</td>\n",
       "      <td>...</td>\n",
       "      <td>...</td>\n",
       "      <td>...</td>\n",
       "      <td>...</td>\n",
       "      <td>...</td>\n",
       "      <td>...</td>\n",
       "      <td>...</td>\n",
       "      <td>...</td>\n",
       "      <td>...</td>\n",
       "    </tr>\n",
       "    <tr>\n",
       "      <th>886</th>\n",
       "      <td>887</td>\n",
       "      <td>0</td>\n",
       "      <td>2</td>\n",
       "      <td>Montvila, Rev. Juozas</td>\n",
       "      <td>male</td>\n",
       "      <td>27.0</td>\n",
       "      <td>0</td>\n",
       "      <td>0</td>\n",
       "      <td>211536</td>\n",
       "      <td>13.0000</td>\n",
       "      <td>NaN</td>\n",
       "      <td>S</td>\n",
       "    </tr>\n",
       "    <tr>\n",
       "      <th>887</th>\n",
       "      <td>888</td>\n",
       "      <td>1</td>\n",
       "      <td>1</td>\n",
       "      <td>Graham, Miss. Margaret Edith</td>\n",
       "      <td>female</td>\n",
       "      <td>19.0</td>\n",
       "      <td>0</td>\n",
       "      <td>0</td>\n",
       "      <td>112053</td>\n",
       "      <td>30.0000</td>\n",
       "      <td>B42</td>\n",
       "      <td>S</td>\n",
       "    </tr>\n",
       "    <tr>\n",
       "      <th>888</th>\n",
       "      <td>889</td>\n",
       "      <td>0</td>\n",
       "      <td>3</td>\n",
       "      <td>Johnston, Miss. Catherine Helen \"Carrie\"</td>\n",
       "      <td>female</td>\n",
       "      <td>NaN</td>\n",
       "      <td>1</td>\n",
       "      <td>2</td>\n",
       "      <td>W./C. 6607</td>\n",
       "      <td>23.4500</td>\n",
       "      <td>NaN</td>\n",
       "      <td>S</td>\n",
       "    </tr>\n",
       "    <tr>\n",
       "      <th>889</th>\n",
       "      <td>890</td>\n",
       "      <td>1</td>\n",
       "      <td>1</td>\n",
       "      <td>Behr, Mr. Karl Howell</td>\n",
       "      <td>male</td>\n",
       "      <td>26.0</td>\n",
       "      <td>0</td>\n",
       "      <td>0</td>\n",
       "      <td>111369</td>\n",
       "      <td>30.0000</td>\n",
       "      <td>C148</td>\n",
       "      <td>C</td>\n",
       "    </tr>\n",
       "    <tr>\n",
       "      <th>890</th>\n",
       "      <td>891</td>\n",
       "      <td>0</td>\n",
       "      <td>3</td>\n",
       "      <td>Dooley, Mr. Patrick</td>\n",
       "      <td>male</td>\n",
       "      <td>32.0</td>\n",
       "      <td>0</td>\n",
       "      <td>0</td>\n",
       "      <td>370376</td>\n",
       "      <td>7.7500</td>\n",
       "      <td>NaN</td>\n",
       "      <td>Q</td>\n",
       "    </tr>\n",
       "  </tbody>\n",
       "</table>\n",
       "<p>891 rows × 12 columns</p>\n",
       "</div>"
      ],
      "text/plain": [
       "     PassengerId  Survived  Pclass                                               Name     Sex   Age  SibSp  Parch            Ticket  \\\n",
       "0              1         0       3                            Braund, Mr. Owen Harris    male  22.0      1      0         A/5 21171   \n",
       "1              2         1       1  Cumings, Mrs. John Bradley (Florence Briggs Th...  female  38.0      1      0          PC 17599   \n",
       "2              3         1       3                             Heikkinen, Miss. Laina  female  26.0      0      0  STON/O2. 3101282   \n",
       "3              4         1       1       Futrelle, Mrs. Jacques Heath (Lily May Peel)  female  35.0      1      0            113803   \n",
       "4              5         0       3                           Allen, Mr. William Henry    male  35.0      0      0            373450   \n",
       "..           ...       ...     ...                                                ...     ...   ...    ...    ...               ...   \n",
       "886          887         0       2                              Montvila, Rev. Juozas    male  27.0      0      0            211536   \n",
       "887          888         1       1                       Graham, Miss. Margaret Edith  female  19.0      0      0            112053   \n",
       "888          889         0       3           Johnston, Miss. Catherine Helen \"Carrie\"  female   NaN      1      2        W./C. 6607   \n",
       "889          890         1       1                              Behr, Mr. Karl Howell    male  26.0      0      0            111369   \n",
       "890          891         0       3                                Dooley, Mr. Patrick    male  32.0      0      0            370376   \n",
       "\n",
       "        Fare Cabin Embarked  \n",
       "0     7.2500   NaN        S  \n",
       "1    71.2833   C85        C  \n",
       "2     7.9250   NaN        S  \n",
       "3    53.1000  C123        S  \n",
       "4     8.0500   NaN        S  \n",
       "..       ...   ...      ...  \n",
       "886  13.0000   NaN        S  \n",
       "887  30.0000   B42        S  \n",
       "888  23.4500   NaN        S  \n",
       "889  30.0000  C148        C  \n",
       "890   7.7500   NaN        Q  \n",
       "\n",
       "[891 rows x 12 columns]"
      ]
     },
     "execution_count": 3,
     "metadata": {},
     "output_type": "execute_result"
    }
   ],
   "source": [
    "df = pd.read_csv(path/'train.csv')\n",
    "df"
   ]
  },
  {
   "cell_type": "markdown",
   "id": "b4930fd8",
   "metadata": {
    "hidden": true,
    "papermill": {
     "duration": 0.166042,
     "end_time": "2024-02-15T03:25:32.085624",
     "exception": false,
     "start_time": "2024-02-15T03:25:31.919582",
     "status": "completed"
    },
    "tags": []
   },
   "source": [
    "As we learned in the *How does a neural net really work* notebook, we going to want to multiply each column by some coefficients. But we can see in the `Cabin` column that there are `NaN` values, which is how Pandas refers to missing values. We can't multiply something by a missing value!\n",
    "\n",
    "Let's check which columns contain `NaN` values. Pandas' `isna()` function returns `True` (which is treated as `1` when used as a number) for `NaN` values, so we can just add them up for each column:"
   ]
  },
  {
   "cell_type": "code",
   "execution_count": 4,
   "id": "0818b002",
   "metadata": {
    "execution": {
     "iopub.execute_input": "2024-02-15T03:25:32.423784Z",
     "iopub.status.busy": "2024-02-15T03:25:32.423453Z",
     "iopub.status.idle": "2024-02-15T03:25:32.436303Z",
     "shell.execute_reply": "2024-02-15T03:25:32.435140Z"
    },
    "hidden": true,
    "papermill": {
     "duration": 0.184294,
     "end_time": "2024-02-15T03:25:32.439251",
     "exception": false,
     "start_time": "2024-02-15T03:25:32.254957",
     "status": "completed"
    },
    "tags": []
   },
   "outputs": [
    {
     "data": {
      "text/plain": [
       "PassengerId      0\n",
       "Survived         0\n",
       "Pclass           0\n",
       "Name             0\n",
       "Sex              0\n",
       "Age            177\n",
       "SibSp            0\n",
       "Parch            0\n",
       "Ticket           0\n",
       "Fare             0\n",
       "Cabin          687\n",
       "Embarked         2\n",
       "dtype: int64"
      ]
     },
     "execution_count": 4,
     "metadata": {},
     "output_type": "execute_result"
    }
   ],
   "source": [
    "df.isna().sum()"
   ]
  },
  {
   "cell_type": "markdown",
   "id": "75bf3ba8",
   "metadata": {
    "hidden": true,
    "papermill": {
     "duration": 0.164183,
     "end_time": "2024-02-15T03:25:32.767699",
     "exception": false,
     "start_time": "2024-02-15T03:25:32.603516",
     "status": "completed"
    },
    "tags": []
   },
   "source": [
    "Notice that by default Pandas sums over columns.\n",
    "\n",
    "We'll need to replace the missing values with something. It doesn't generally matter too much what we choose. We'll use the most common value (the \"*mode*\"). We can use the `mode` function for that. One wrinkle is that it returns more than one row in the case of ties, so we just grab the first row with `iloc[0]`:"
   ]
  },
  {
   "cell_type": "code",
   "execution_count": 5,
   "id": "2e3fa657",
   "metadata": {
    "execution": {
     "iopub.execute_input": "2024-02-15T03:25:33.100803Z",
     "iopub.status.busy": "2024-02-15T03:25:33.099899Z",
     "iopub.status.idle": "2024-02-15T03:25:33.126538Z",
     "shell.execute_reply": "2024-02-15T03:25:33.125627Z"
    },
    "hidden": true,
    "papermill": {
     "duration": 0.200999,
     "end_time": "2024-02-15T03:25:33.129064",
     "exception": false,
     "start_time": "2024-02-15T03:25:32.928065",
     "status": "completed"
    },
    "tags": []
   },
   "outputs": [
    {
     "data": {
      "text/plain": [
       "PassengerId                      1\n",
       "Survived                       0.0\n",
       "Pclass                         3.0\n",
       "Name           Abbing, Mr. Anthony\n",
       "Sex                           male\n",
       "Age                           24.0\n",
       "SibSp                          0.0\n",
       "Parch                          0.0\n",
       "Ticket                        1601\n",
       "Fare                          8.05\n",
       "Cabin                      B96 B98\n",
       "Embarked                         S\n",
       "Name: 0, dtype: object"
      ]
     },
     "execution_count": 5,
     "metadata": {},
     "output_type": "execute_result"
    }
   ],
   "source": [
    "modes = df.mode().iloc[0]\n",
    "modes"
   ]
  },
  {
   "cell_type": "markdown",
   "id": "903dd979",
   "metadata": {
    "hidden": true,
    "papermill": {
     "duration": 0.167062,
     "end_time": "2024-02-15T03:25:33.462264",
     "exception": false,
     "start_time": "2024-02-15T03:25:33.295202",
     "status": "completed"
    },
    "tags": []
   },
   "source": [
    "BTW, it's never a good idea to use functions without understanding them. So be sure to google for anything you're not familiar with. E.g if you want to learn about `iloc` (which is a very important function indeed!) then Google will give you a link to a [great tutorial](https://www.shanelynn.ie/pandas-iloc-loc-select-rows-and-columns-dataframe/).\n",
    "\n",
    "Now that we've got the mode of each column, we can use `fillna` to replace the missing values with the mode of each column. We'll do it \"in place\" -- meaning that we'll change the dataframe itself, rather than returning a new one."
   ]
  },
  {
   "cell_type": "code",
   "execution_count": 6,
   "id": "c27aff10",
   "metadata": {
    "execution": {
     "iopub.execute_input": "2024-02-15T03:25:33.803711Z",
     "iopub.status.busy": "2024-02-15T03:25:33.803093Z",
     "iopub.status.idle": "2024-02-15T03:25:33.817934Z",
     "shell.execute_reply": "2024-02-15T03:25:33.816638Z"
    },
    "hidden": true,
    "papermill": {
     "duration": 0.192378,
     "end_time": "2024-02-15T03:25:33.820722",
     "exception": false,
     "start_time": "2024-02-15T03:25:33.628344",
     "status": "completed"
    },
    "tags": []
   },
   "outputs": [],
   "source": [
    "df.fillna(modes, inplace=True)"
   ]
  },
  {
   "cell_type": "markdown",
   "id": "9c305e0e",
   "metadata": {
    "hidden": true,
    "papermill": {
     "duration": 0.16731,
     "end_time": "2024-02-15T03:25:34.154275",
     "exception": false,
     "start_time": "2024-02-15T03:25:33.986965",
     "status": "completed"
    },
    "tags": []
   },
   "source": [
    "We can now check there's no missing values left:"
   ]
  },
  {
   "cell_type": "code",
   "execution_count": 7,
   "id": "33d0eb98",
   "metadata": {
    "execution": {
     "iopub.execute_input": "2024-02-15T03:25:34.486227Z",
     "iopub.status.busy": "2024-02-15T03:25:34.485887Z",
     "iopub.status.idle": "2024-02-15T03:25:34.496430Z",
     "shell.execute_reply": "2024-02-15T03:25:34.495706Z"
    },
    "hidden": true,
    "papermill": {
     "duration": 0.179017,
     "end_time": "2024-02-15T03:25:34.498822",
     "exception": false,
     "start_time": "2024-02-15T03:25:34.319805",
     "status": "completed"
    },
    "tags": []
   },
   "outputs": [
    {
     "data": {
      "text/plain": [
       "PassengerId    0\n",
       "Survived       0\n",
       "Pclass         0\n",
       "Name           0\n",
       "Sex            0\n",
       "Age            0\n",
       "SibSp          0\n",
       "Parch          0\n",
       "Ticket         0\n",
       "Fare           0\n",
       "Cabin          0\n",
       "Embarked       0\n",
       "dtype: int64"
      ]
     },
     "execution_count": 7,
     "metadata": {},
     "output_type": "execute_result"
    }
   ],
   "source": [
    "df.isna().sum()"
   ]
  },
  {
   "cell_type": "markdown",
   "id": "2a9fd924",
   "metadata": {
    "hidden": true,
    "papermill": {
     "duration": 0.173248,
     "end_time": "2024-02-15T03:25:34.844801",
     "exception": false,
     "start_time": "2024-02-15T03:25:34.671553",
     "status": "completed"
    },
    "tags": []
   },
   "source": [
    "Here's how we get a quick summary of all the numeric columns in the dataset:"
   ]
  },
  {
   "cell_type": "code",
   "execution_count": 8,
   "id": "e8ec33ca",
   "metadata": {
    "execution": {
     "iopub.execute_input": "2024-02-15T03:25:35.187370Z",
     "iopub.status.busy": "2024-02-15T03:25:35.186824Z",
     "iopub.status.idle": "2024-02-15T03:25:35.232140Z",
     "shell.execute_reply": "2024-02-15T03:25:35.230858Z"
    },
    "hidden": true,
    "papermill": {
     "duration": 0.221918,
     "end_time": "2024-02-15T03:25:35.235034",
     "exception": false,
     "start_time": "2024-02-15T03:25:35.013116",
     "status": "completed"
    },
    "tags": []
   },
   "outputs": [
    {
     "data": {
      "text/html": [
       "<div>\n",
       "<style scoped>\n",
       "    .dataframe tbody tr th:only-of-type {\n",
       "        vertical-align: middle;\n",
       "    }\n",
       "\n",
       "    .dataframe tbody tr th {\n",
       "        vertical-align: top;\n",
       "    }\n",
       "\n",
       "    .dataframe thead th {\n",
       "        text-align: right;\n",
       "    }\n",
       "</style>\n",
       "<table border=\"1\" class=\"dataframe\">\n",
       "  <thead>\n",
       "    <tr style=\"text-align: right;\">\n",
       "      <th></th>\n",
       "      <th>PassengerId</th>\n",
       "      <th>Survived</th>\n",
       "      <th>Pclass</th>\n",
       "      <th>Age</th>\n",
       "      <th>SibSp</th>\n",
       "      <th>Parch</th>\n",
       "      <th>Fare</th>\n",
       "    </tr>\n",
       "  </thead>\n",
       "  <tbody>\n",
       "    <tr>\n",
       "      <th>count</th>\n",
       "      <td>891.000000</td>\n",
       "      <td>891.000000</td>\n",
       "      <td>891.000000</td>\n",
       "      <td>891.000000</td>\n",
       "      <td>891.000000</td>\n",
       "      <td>891.000000</td>\n",
       "      <td>891.000000</td>\n",
       "    </tr>\n",
       "    <tr>\n",
       "      <th>mean</th>\n",
       "      <td>446.000000</td>\n",
       "      <td>0.383838</td>\n",
       "      <td>2.308642</td>\n",
       "      <td>28.566970</td>\n",
       "      <td>0.523008</td>\n",
       "      <td>0.381594</td>\n",
       "      <td>32.204208</td>\n",
       "    </tr>\n",
       "    <tr>\n",
       "      <th>std</th>\n",
       "      <td>257.353842</td>\n",
       "      <td>0.486592</td>\n",
       "      <td>0.836071</td>\n",
       "      <td>13.199572</td>\n",
       "      <td>1.102743</td>\n",
       "      <td>0.806057</td>\n",
       "      <td>49.693429</td>\n",
       "    </tr>\n",
       "    <tr>\n",
       "      <th>min</th>\n",
       "      <td>1.000000</td>\n",
       "      <td>0.000000</td>\n",
       "      <td>1.000000</td>\n",
       "      <td>0.420000</td>\n",
       "      <td>0.000000</td>\n",
       "      <td>0.000000</td>\n",
       "      <td>0.000000</td>\n",
       "    </tr>\n",
       "    <tr>\n",
       "      <th>25%</th>\n",
       "      <td>223.500000</td>\n",
       "      <td>0.000000</td>\n",
       "      <td>2.000000</td>\n",
       "      <td>22.000000</td>\n",
       "      <td>0.000000</td>\n",
       "      <td>0.000000</td>\n",
       "      <td>7.910400</td>\n",
       "    </tr>\n",
       "    <tr>\n",
       "      <th>50%</th>\n",
       "      <td>446.000000</td>\n",
       "      <td>0.000000</td>\n",
       "      <td>3.000000</td>\n",
       "      <td>24.000000</td>\n",
       "      <td>0.000000</td>\n",
       "      <td>0.000000</td>\n",
       "      <td>14.454200</td>\n",
       "    </tr>\n",
       "    <tr>\n",
       "      <th>75%</th>\n",
       "      <td>668.500000</td>\n",
       "      <td>1.000000</td>\n",
       "      <td>3.000000</td>\n",
       "      <td>35.000000</td>\n",
       "      <td>1.000000</td>\n",
       "      <td>0.000000</td>\n",
       "      <td>31.000000</td>\n",
       "    </tr>\n",
       "    <tr>\n",
       "      <th>max</th>\n",
       "      <td>891.000000</td>\n",
       "      <td>1.000000</td>\n",
       "      <td>3.000000</td>\n",
       "      <td>80.000000</td>\n",
       "      <td>8.000000</td>\n",
       "      <td>6.000000</td>\n",
       "      <td>512.329200</td>\n",
       "    </tr>\n",
       "  </tbody>\n",
       "</table>\n",
       "</div>"
      ],
      "text/plain": [
       "       PassengerId    Survived      Pclass         Age       SibSp       Parch        Fare\n",
       "count   891.000000  891.000000  891.000000  891.000000  891.000000  891.000000  891.000000\n",
       "mean    446.000000    0.383838    2.308642   28.566970    0.523008    0.381594   32.204208\n",
       "std     257.353842    0.486592    0.836071   13.199572    1.102743    0.806057   49.693429\n",
       "min       1.000000    0.000000    1.000000    0.420000    0.000000    0.000000    0.000000\n",
       "25%     223.500000    0.000000    2.000000   22.000000    0.000000    0.000000    7.910400\n",
       "50%     446.000000    0.000000    3.000000   24.000000    0.000000    0.000000   14.454200\n",
       "75%     668.500000    1.000000    3.000000   35.000000    1.000000    0.000000   31.000000\n",
       "max     891.000000    1.000000    3.000000   80.000000    8.000000    6.000000  512.329200"
      ]
     },
     "execution_count": 8,
     "metadata": {},
     "output_type": "execute_result"
    }
   ],
   "source": [
    "import numpy as np\n",
    "\n",
    "df.describe(include=(np.number))"
   ]
  },
  {
   "cell_type": "markdown",
   "id": "ee5333a9",
   "metadata": {
    "execution": {
     "iopub.execute_input": "2022-05-13T11:02:34.328433Z",
     "iopub.status.busy": "2022-05-13T11:02:34.327999Z",
     "iopub.status.idle": "2022-05-13T11:02:34.336993Z",
     "shell.execute_reply": "2022-05-13T11:02:34.335466Z",
     "shell.execute_reply.started": "2022-05-13T11:02:34.32838Z"
    },
    "hidden": true,
    "papermill": {
     "duration": 0.162298,
     "end_time": "2024-02-15T03:25:35.567777",
     "exception": false,
     "start_time": "2024-02-15T03:25:35.405479",
     "status": "completed"
    },
    "tags": []
   },
   "source": [
    "We can see that `Fare` contains mainly values of around `0` to `30`, but there's a few really big ones. This is very common with fields contain monetary values, and it can cause problems for our model, because once that column is multiplied by a coefficient later, the few rows with really big values will dominate the result.\n",
    "\n",
    "You can see the issue most clearly visually by looking at a histogram, which shows a long tail to the right (and don't forget: if you're not entirely sure what a histogram is, Google \"[histogram tutorial](https://www.google.com/search?q=histogram+tutorial&oq=histogram+tutorial)\" and do a bit of reading before continuing on):"
   ]
  },
  {
   "cell_type": "code",
   "execution_count": 9,
   "id": "73020da7",
   "metadata": {
    "execution": {
     "iopub.execute_input": "2024-02-15T03:25:35.911096Z",
     "iopub.status.busy": "2024-02-15T03:25:35.910806Z",
     "iopub.status.idle": "2024-02-15T03:25:36.230999Z",
     "shell.execute_reply": "2024-02-15T03:25:36.229361Z"
    },
    "hidden": true,
    "papermill": {
     "duration": 0.495647,
     "end_time": "2024-02-15T03:25:36.234599",
     "exception": false,
     "start_time": "2024-02-15T03:25:35.738952",
     "status": "completed"
    },
    "tags": []
   },
   "outputs": [
    {
     "data": {
      "image/png": "[encoded data removed]",
      "text/plain": [
       "<Figure size 432x288 with 1 Axes>"
      ]
     },
     "metadata": {
      "needs_background": "light"
     },
     "output_type": "display_data"
    }
   ],
   "source": [
    "df['Fare'].hist();"
   ]
  },
  {
   "cell_type": "markdown",
   "id": "ccd4ac8b",
   "metadata": {
    "execution": {
     "iopub.execute_input": "2022-05-13T11:02:34.328433Z",
     "iopub.status.busy": "2022-05-13T11:02:34.327999Z",
     "iopub.status.idle": "2022-05-13T11:02:34.336993Z",
     "shell.execute_reply": "2022-05-13T11:02:34.335466Z",
     "shell.execute_reply.started": "2022-05-13T11:02:34.32838Z"
    },
    "hidden": true,
    "papermill": {
     "duration": 0.170566,
     "end_time": "2024-02-15T03:25:36.574317",
     "exception": false,
     "start_time": "2024-02-15T03:25:36.403751",
     "status": "completed"
    },
    "tags": []
   },
   "source": [
    "To fix this, the most common approach is to take the logarithm, which squishes the big numbers and makes the distribution more reasonable. Note, however, that there are zeros in the `Fare` column, and `log(0)` is infinite -- to fix this, we'll simply add `1` to all values first:"
   ]
  },
  {
   "cell_type": "code",
   "execution_count": 10,
   "id": "346a1b39",
   "metadata": {
    "execution": {
     "iopub.execute_input": "2024-02-15T03:25:36.912304Z",
     "iopub.status.busy": "2024-02-15T03:25:36.912009Z",
     "iopub.status.idle": "2024-02-15T03:25:36.919118Z",
     "shell.execute_reply": "2024-02-15T03:25:36.917968Z"
    },
    "hidden": true,
    "papermill": {
     "duration": 0.179043,
     "end_time": "2024-02-15T03:25:36.921625",
     "exception": false,
     "start_time": "2024-02-15T03:25:36.742582",
     "status": "completed"
    },
    "tags": []
   },
   "outputs": [],
   "source": [
    "df['LogFare'] = np.log(df['Fare']+1)"
   ]
  },
  {
   "cell_type": "markdown",
   "id": "39bf78d2",
   "metadata": {
    "hidden": true,
    "papermill": {
     "duration": 0.165,
     "end_time": "2024-02-15T03:25:37.252210",
     "exception": false,
     "start_time": "2024-02-15T03:25:37.087210",
     "status": "completed"
    },
    "tags": []
   },
   "source": [
    "The histogram now shows a more even distribution of values without the long tail:"
   ]
  },
  {
   "cell_type": "code",
   "execution_count": 11,
   "id": "1ffd164c",
   "metadata": {
    "execution": {
     "iopub.execute_input": "2024-02-15T03:25:37.585553Z",
     "iopub.status.busy": "2024-02-15T03:25:37.585246Z",
     "iopub.status.idle": "2024-02-15T03:25:37.856943Z",
     "shell.execute_reply": "2024-02-15T03:25:37.855775Z"
    },
    "hidden": true,
    "papermill": {
     "duration": 0.44243,
     "end_time": "2024-02-15T03:25:37.859695",
     "exception": false,
     "start_time": "2024-02-15T03:25:37.417265",
     "status": "completed"
    },
    "tags": []
   },
   "outputs": [
    {
     "data": {
      "image/png": "[encoded data removed]",
      "text/plain": [
       "<Figure size 432x288 with 1 Axes>"
      ]
     },
     "metadata": {
      "needs_background": "light"
     },
     "output_type": "display_data"
    }
   ],
   "source": [
    "df['LogFare'].hist();"
   ]
  },
  {
   "cell_type": "markdown",
   "id": "322d94ae",
   "metadata": {
    "hidden": true,
    "papermill": {
     "duration": 0.169432,
     "end_time": "2024-02-15T03:25:38.196917",
     "exception": false,
     "start_time": "2024-02-15T03:25:38.027485",
     "status": "completed"
    },
    "tags": []
   },
   "source": [
    "It looks from the `describe()` output like `Pclass` contains just 3 values, which we can confirm by looking at the [Data Dictionary](https://www.kaggle.com/competitions/titanic/data) (which you should always study carefully for any project!) -- "
   ]
  },
  {
   "cell_type": "code",
   "execution_count": 12,
   "id": "1055f1ee",
   "metadata": {
    "execution": {
     "iopub.execute_input": "2024-02-15T03:25:38.534577Z",
     "iopub.status.busy": "2024-02-15T03:25:38.534081Z",
     "iopub.status.idle": "2024-02-15T03:25:38.541781Z",
     "shell.execute_reply": "2024-02-15T03:25:38.540880Z"
    },
    "hidden": true,
    "papermill": {
     "duration": 0.179292,
     "end_time": "2024-02-15T03:25:38.544077",
     "exception": false,
     "start_time": "2024-02-15T03:25:38.364785",
     "status": "completed"
    },
    "tags": []
   },
   "outputs": [
    {
     "data": {
      "text/plain": [
       "[1, 2, 3]"
      ]
     },
     "execution_count": 12,
     "metadata": {},
     "output_type": "execute_result"
    }
   ],
   "source": [
    "pclasses = sorted(df.Pclass.unique())\n",
    "pclasses"
   ]
  },
  {
   "cell_type": "markdown",
   "id": "a1d0da45",
   "metadata": {
    "hidden": true,
    "papermill": {
     "duration": 0.171249,
     "end_time": "2024-02-15T03:25:38.882513",
     "exception": false,
     "start_time": "2024-02-15T03:25:38.711264",
     "status": "completed"
    },
    "tags": []
   },
   "source": [
    "Here's how we get a quick summary of all the non-numeric columns in the dataset:"
   ]
  },
  {
   "cell_type": "code",
   "execution_count": 13,
   "id": "15fa58e6",
   "metadata": {
    "execution": {
     "iopub.execute_input": "2024-02-15T03:25:39.225870Z",
     "iopub.status.busy": "2024-02-15T03:25:39.224976Z",
     "iopub.status.idle": "2024-02-15T03:25:39.250322Z",
     "shell.execute_reply": "2024-02-15T03:25:39.249432Z"
    },
    "hidden": true,
    "papermill": {
     "duration": 0.200267,
     "end_time": "2024-02-15T03:25:39.252737",
     "exception": false,
     "start_time": "2024-02-15T03:25:39.052470",
     "status": "completed"
    },
    "tags": []
   },
   "outputs": [
    {
     "data": {
      "text/html": [
       "<div>\n",
       "<style scoped>\n",
       "    .dataframe tbody tr th:only-of-type {\n",
       "        vertical-align: middle;\n",
       "    }\n",
       "\n",
       "    .dataframe tbody tr th {\n",
       "        vertical-align: top;\n",
       "    }\n",
       "\n",
       "    .dataframe thead th {\n",
       "        text-align: right;\n",
       "    }\n",
       "</style>\n",
       "<table border=\"1\" class=\"dataframe\">\n",
       "  <thead>\n",
       "    <tr style=\"text-align: right;\">\n",
       "      <th></th>\n",
       "      <th>Name</th>\n",
       "      <th>Sex</th>\n",
       "      <th>Ticket</th>\n",
       "      <th>Cabin</th>\n",
       "      <th>Embarked</th>\n",
       "    </tr>\n",
       "  </thead>\n",
       "  <tbody>\n",
       "    <tr>\n",
       "      <th>count</th>\n",
       "      <td>891</td>\n",
       "      <td>891</td>\n",
       "      <td>891</td>\n",
       "      <td>891</td>\n",
       "      <td>891</td>\n",
       "    </tr>\n",
       "    <tr>\n",
       "      <th>unique</th>\n",
       "      <td>891</td>\n",
       "      <td>2</td>\n",
       "      <td>681</td>\n",
       "      <td>147</td>\n",
       "      <td>3</td>\n",
       "    </tr>\n",
       "    <tr>\n",
       "      <th>top</th>\n",
       "      <td>Braund, Mr. Owen Harris</td>\n",
       "      <td>male</td>\n",
       "      <td>347082</td>\n",
       "      <td>B96 B98</td>\n",
       "      <td>S</td>\n",
       "    </tr>\n",
       "    <tr>\n",
       "      <th>freq</th>\n",
       "      <td>1</td>\n",
       "      <td>577</td>\n",
       "      <td>7</td>\n",
       "      <td>691</td>\n",
       "      <td>646</td>\n",
       "    </tr>\n",
       "  </tbody>\n",
       "</table>\n",
       "</div>"
      ],
      "text/plain": [
       "                           Name   Sex  Ticket    Cabin Embarked\n",
       "count                       891   891     891      891      891\n",
       "unique                      891     2     681      147        3\n",
       "top     Braund, Mr. Owen Harris  male  347082  B96 B98        S\n",
       "freq                          1   577       7      691      646"
      ]
     },
     "execution_count": 13,
     "metadata": {},
     "output_type": "execute_result"
    }
   ],
   "source": [
    "df.describe(include=[object])"
   ]
  },
  {
   "cell_type": "markdown",
   "id": "252b3e8a",
   "metadata": {
    "hidden": true,
    "papermill": {
     "duration": 0.169574,
     "end_time": "2024-02-15T03:25:39.588877",
     "exception": false,
     "start_time": "2024-02-15T03:25:39.419303",
     "status": "completed"
    },
    "tags": []
   },
   "source": [
    "Clearly we can't multiply strings like `male` or `S` by coefficients, so we need to replace those with numbers.\n",
    "\n",
    "We do that by creating new columns containing *dummy variables*. A dummy variable is a column that contains a `1` where a particular column contains a particular value, or a `0` otherwise. For instance, we could create a dummy variable for `Sex='male'`, which would be a new column containing `1` for rows where `Sex` is `'male'`, and 0 for rows where it isn't.\n",
    "\n",
    "Pandas can create these automatically using `get_dummies`, which also remove the original columns. We'll create dummy variables for `Pclass`, even although it's numeric, since the numbers `1`, `2`, and `3` correspond to first, second, and third class cabins - not to counts or measures that make sense to multiply by. We'll also create dummies for `Sex` and `Embarked` since we'll want to use those as predictors in our model. On the other hand, `Cabin`, `Name`, and `Ticket` have too many unique values for it to make sense creating dummy variables for them."
   ]
  },
  {
   "cell_type": "code",
   "execution_count": 14,
   "id": "02a724c7",
   "metadata": {
    "execution": {
     "iopub.execute_input": "2024-02-15T03:25:39.933284Z",
     "iopub.status.busy": "2024-02-15T03:25:39.932013Z",
     "iopub.status.idle": "2024-02-15T03:25:39.947856Z",
     "shell.execute_reply": "2024-02-15T03:25:39.946928Z"
    },
    "hidden": true,
    "papermill": {
     "duration": 0.189039,
     "end_time": "2024-02-15T03:25:39.950548",
     "exception": false,
     "start_time": "2024-02-15T03:25:39.761509",
     "status": "completed"
    },
    "tags": []
   },
   "outputs": [
    {
     "data": {
      "text/plain": [
       "Index(['PassengerId', 'Survived', 'Name', 'Age', 'SibSp', 'Parch', 'Ticket', 'Fare', 'Cabin', 'LogFare', 'Sex_female', 'Sex_male',\n",
       "       'Pclass_1', 'Pclass_2', 'Pclass_3', 'Embarked_C', 'Embarked_Q', 'Embarked_S'],\n",
       "      dtype='object')"
      ]
     },
     "execution_count": 14,
     "metadata": {},
     "output_type": "execute_result"
    }
   ],
   "source": [
    "df = pd.get_dummies(df, columns=[\"Sex\",\"Pclass\",\"Embarked\"])\n",
    "df.columns"
   ]
  },
  {
   "cell_type": "markdown",
   "id": "de6e81b6",
   "metadata": {
    "hidden": true,
    "papermill": {
     "duration": 0.174219,
     "end_time": "2024-02-15T03:25:40.292954",
     "exception": false,
     "start_time": "2024-02-15T03:25:40.118735",
     "status": "completed"
    },
    "tags": []
   },
   "source": [
    "We can see that 5 columns have been added to the end -- one for each of the possible values of each of the three columns we requested, and that those three requested columns have been removed.\n",
    "\n",
    "Here's what the first few rows of those newly added columns look like:"
   ]
  },
  {
   "cell_type": "code",
   "execution_count": 15,
   "id": "61d9a638",
   "metadata": {
    "execution": {
     "iopub.execute_input": "2024-02-15T03:25:40.637991Z",
     "iopub.status.busy": "2024-02-15T03:25:40.637674Z",
     "iopub.status.idle": "2024-02-15T03:25:40.654033Z",
     "shell.execute_reply": "2024-02-15T03:25:40.653132Z"
    },
    "hidden": true,
    "papermill": {
     "duration": 0.192352,
     "end_time": "2024-02-15T03:25:40.656352",
     "exception": false,
     "start_time": "2024-02-15T03:25:40.464000",
     "status": "completed"
    },
    "tags": []
   },
   "outputs": [
    {
     "data": {
      "text/html": [
       "<div>\n",
       "<style scoped>\n",
       "    .dataframe tbody tr th:only-of-type {\n",
       "        vertical-align: middle;\n",
       "    }\n",
       "\n",
       "    .dataframe tbody tr th {\n",
       "        vertical-align: top;\n",
       "    }\n",
       "\n",
       "    .dataframe thead th {\n",
       "        text-align: right;\n",
       "    }\n",
       "</style>\n",
       "<table border=\"1\" class=\"dataframe\">\n",
       "  <thead>\n",
       "    <tr style=\"text-align: right;\">\n",
       "      <th></th>\n",
       "      <th>Sex_male</th>\n",
       "      <th>Sex_female</th>\n",
       "      <th>Pclass_1</th>\n",
       "      <th>Pclass_2</th>\n",
       "      <th>Pclass_3</th>\n",
       "      <th>Embarked_C</th>\n",
       "      <th>Embarked_Q</th>\n",
       "      <th>Embarked_S</th>\n",
       "    </tr>\n",
       "  </thead>\n",
       "  <tbody>\n",
       "    <tr>\n",
       "      <th>0</th>\n",
       "      <td>1</td>\n",
       "      <td>0</td>\n",
       "      <td>0</td>\n",
       "      <td>0</td>\n",
       "      <td>1</td>\n",
       "      <td>0</td>\n",
       "      <td>0</td>\n",
       "      <td>1</td>\n",
       "    </tr>\n",
       "    <tr>\n",
       "      <th>1</th>\n",
       "      <td>0</td>\n",
       "      <td>1</td>\n",
       "      <td>1</td>\n",
       "      <td>0</td>\n",
       "      <td>0</td>\n",
       "      <td>1</td>\n",
       "      <td>0</td>\n",
       "      <td>0</td>\n",
       "    </tr>\n",
       "    <tr>\n",
       "      <th>2</th>\n",
       "      <td>0</td>\n",
       "      <td>1</td>\n",
       "      <td>0</td>\n",
       "      <td>0</td>\n",
       "      <td>1</td>\n",
       "      <td>0</td>\n",
       "      <td>0</td>\n",
       "      <td>1</td>\n",
       "    </tr>\n",
       "    <tr>\n",
       "      <th>3</th>\n",
       "      <td>0</td>\n",
       "      <td>1</td>\n",
       "      <td>1</td>\n",
       "      <td>0</td>\n",
       "      <td>0</td>\n",
       "      <td>0</td>\n",
       "      <td>0</td>\n",
       "      <td>1</td>\n",
       "    </tr>\n",
       "    <tr>\n",
       "      <th>4</th>\n",
       "      <td>1</td>\n",
       "      <td>0</td>\n",
       "      <td>0</td>\n",
       "      <td>0</td>\n",
       "      <td>1</td>\n",
       "      <td>0</td>\n",
       "      <td>0</td>\n",
       "      <td>1</td>\n",
       "    </tr>\n",
       "  </tbody>\n",
       "</table>\n",
       "</div>"
      ],
      "text/plain": [
       "   Sex_male  Sex_female  Pclass_1  Pclass_2  Pclass_3  Embarked_C  Embarked_Q  Embarked_S\n",
       "0         1           0         0         0         1           0           0           1\n",
       "1         0           1         1         0         0           1           0           0\n",
       "2         0           1         0         0         1           0           0           1\n",
       "3         0           1         1         0         0           0           0           1\n",
       "4         1           0         0         0         1           0           0           1"
      ]
     },
     "execution_count": 15,
     "metadata": {},
     "output_type": "execute_result"
    }
   ],
   "source": [
    "added_cols = ['Sex_male', 'Sex_female', 'Pclass_1', 'Pclass_2', 'Pclass_3', 'Embarked_C', 'Embarked_Q', 'Embarked_S']\n",
    "df[added_cols].head()"
   ]
  },
  {
   "cell_type": "markdown",
   "id": "550d1fbb",
   "metadata": {
    "hidden": true,
    "papermill": {
     "duration": 0.164566,
     "end_time": "2024-02-15T03:25:41.011594",
     "exception": false,
     "start_time": "2024-02-15T03:25:40.847028",
     "status": "completed"
    },
    "tags": []
   },
   "source": [
    "Now we can create our independent (predictors) and dependent (target) variables. They both need to be PyTorch tensors. Our dependent variable is `Survived`:"
   ]
  },
  {
   "cell_type": "code",
   "execution_count": 16,
   "id": "e7625f34",
   "metadata": {
    "execution": {
     "iopub.execute_input": "2024-02-15T03:25:41.355534Z",
     "iopub.status.busy": "2024-02-15T03:25:41.355215Z",
     "iopub.status.idle": "2024-02-15T03:25:41.372682Z",
     "shell.execute_reply": "2024-02-15T03:25:41.371743Z"
    },
    "hidden": true,
    "papermill": {
     "duration": 0.191268,
     "end_time": "2024-02-15T03:25:41.375381",
     "exception": false,
     "start_time": "2024-02-15T03:25:41.184113",
     "status": "completed"
    },
    "tags": []
   },
   "outputs": [],
   "source": [
    "from torch import tensor\n",
    "\n",
    "t_dep = tensor(df.Survived)"
   ]
  },
  {
   "cell_type": "markdown",
   "id": "26f64180",
   "metadata": {
    "hidden": true,
    "papermill": {
     "duration": 0.165507,
     "end_time": "2024-02-15T03:25:41.708072",
     "exception": false,
     "start_time": "2024-02-15T03:25:41.542565",
     "status": "completed"
    },
    "tags": []
   },
   "source": [
    "Our independent variables are all the continuous variables of interest plus all the dummy variables we just created:"
   ]
  },
  {
   "cell_type": "code",
   "execution_count": 17,
   "id": "0d043f7f",
   "metadata": {
    "execution": {
     "iopub.execute_input": "2024-02-15T03:25:42.058589Z",
     "iopub.status.busy": "2024-02-15T03:25:42.057850Z",
     "iopub.status.idle": "2024-02-15T03:25:42.171503Z",
     "shell.execute_reply": "2024-02-15T03:25:42.170468Z"
    },
    "hidden": true,
    "papermill": {
     "duration": 0.283076,
     "end_time": "2024-02-15T03:25:42.173990",
     "exception": false,
     "start_time": "2024-02-15T03:25:41.890914",
     "status": "completed"
    },
    "tags": []
   },
   "outputs": [
    {
     "data": {
      "text/plain": [
       "tensor([[22.0000,  1.0000,  0.0000,  2.1102,  1.0000,  0.0000,  0.0000,  0.0000,  1.0000,  0.0000,  0.0000,  1.0000],\n",
       "        [38.0000,  1.0000,  0.0000,  4.2806,  0.0000,  1.0000,  1.0000,  0.0000,  0.0000,  1.0000,  0.0000,  0.0000],\n",
       "        [26.0000,  0.0000,  0.0000,  2.1889,  0.0000,  1.0000,  0.0000,  0.0000,  1.0000,  0.0000,  0.0000,  1.0000],\n",
       "        [35.0000,  1.0000,  0.0000,  3.9908,  0.0000,  1.0000,  1.0000,  0.0000,  0.0000,  0.0000,  0.0000,  1.0000],\n",
       "        [35.0000,  0.0000,  0.0000,  2.2028,  1.0000,  0.0000,  0.0000,  0.0000,  1.0000,  0.0000,  0.0000,  1.0000],\n",
       "        [24.0000,  0.0000,  0.0000,  2.2469,  1.0000,  0.0000,  0.0000,  0.0000,  1.0000,  0.0000,  1.0000,  0.0000],\n",
       "        [54.0000,  0.0000,  0.0000,  3.9677,  1.0000,  0.0000,  1.0000,  0.0000,  0.0000,  0.0000,  0.0000,  1.0000],\n",
       "        ...,\n",
       "        [25.0000,  0.0000,  0.0000,  2.0857,  1.0000,  0.0000,  0.0000,  0.0000,  1.0000,  0.0000,  0.0000,  1.0000],\n",
       "        [39.0000,  0.0000,  5.0000,  3.4054,  0.0000,  1.0000,  0.0000,  0.0000,  1.0000,  0.0000,  1.0000,  0.0000],\n",
       "        [27.0000,  0.0000,  0.0000,  2.6391,  1.0000,  0.0000,  0.0000,  1.0000,  0.0000,  0.0000,  0.0000,  1.0000],\n",
       "        [19.0000,  0.0000,  0.0000,  3.4340,  0.0000,  1.0000,  1.0000,  0.0000,  0.0000,  0.0000,  0.0000,  1.0000],\n",
       "        [24.0000,  1.0000,  2.0000,  3.1966,  0.0000,  1.0000,  0.0000,  0.0000,  1.0000,  0.0000,  0.0000,  1.0000],\n",
       "        [26.0000,  0.0000,  0.0000,  3.4340,  1.0000,  0.0000,  1.0000,  0.0000,  0.0000,  1.0000,  0.0000,  0.0000],\n",
       "        [32.0000,  0.0000,  0.0000,  2.1691,  1.0000,  0.0000,  0.0000,  0.0000,  1.0000,  0.0000,  1.0000,  0.0000]])"
      ]
     },
     "execution_count": 17,
     "metadata": {},
     "output_type": "execute_result"
    }
   ],
   "source": [
    "indep_cols = ['Age', 'SibSp', 'Parch', 'LogFare'] + added_cols\n",
    "\n",
    "t_indep = tensor(df[indep_cols].values, dtype=torch.float)\n",
    "t_indep"
   ]
  },
  {
   "cell_type": "markdown",
   "id": "0963c03b",
   "metadata": {
    "hidden": true,
    "papermill": {
     "duration": 0.166757,
     "end_time": "2024-02-15T03:25:42.511794",
     "exception": false,
     "start_time": "2024-02-15T03:25:42.345037",
     "status": "completed"
    },
    "tags": []
   },
   "source": [
    "Here's the number of rows and columns we have for our independent variables:"
   ]
  },
  {
   "cell_type": "code",
   "execution_count": 18,
   "id": "f0955dbe",
   "metadata": {
    "execution": {
     "iopub.execute_input": "2024-02-15T03:25:42.848145Z",
     "iopub.status.busy": "2024-02-15T03:25:42.847808Z",
     "iopub.status.idle": "2024-02-15T03:25:42.854400Z",
     "shell.execute_reply": "2024-02-15T03:25:42.853484Z"
    },
    "hidden": true,
    "papermill": {
     "duration": 0.178297,
     "end_time": "2024-02-15T03:25:42.856960",
     "exception": false,
     "start_time": "2024-02-15T03:25:42.678663",
     "status": "completed"
    },
    "tags": []
   },
   "outputs": [
    {
     "data": {
      "text/plain": [
       "torch.Size([891, 12])"
      ]
     },
     "execution_count": 18,
     "metadata": {},
     "output_type": "execute_result"
    }
   ],
   "source": [
    "t_indep.shape"
   ]
  },
  {
   "cell_type": "markdown",
   "id": "7a5031f8",
   "metadata": {
    "papermill": {
     "duration": 0.171702,
     "end_time": "2024-02-15T03:25:43.201839",
     "exception": false,
     "start_time": "2024-02-15T03:25:43.030137",
     "status": "completed"
    },
    "tags": []
   },
   "source": [
    "## Setting up a linear model"
   ]
  },
  {
   "cell_type": "markdown",
   "id": "b4602fa7",
   "metadata": {
    "papermill": {
     "duration": 0.21166,
     "end_time": "2024-02-15T03:25:43.610702",
     "exception": false,
     "start_time": "2024-02-15T03:25:43.399042",
     "status": "completed"
    },
    "tags": []
   },
   "source": [
    "Now that we've got a matrix of independent variables and a dependent variable vector, we can work on calculating our predictions and our loss. In this section, we're going to manually do a single step of calculating predictions and loss for every row of our data.\n",
    "\n",
    "Our first model will be a simple linear model. We'll need a coefficient for each column in `t_indep`. We'll pick random numbers in the range `(-0.5,0.5)`, and set our manual seed so that my explanations in the prose in this notebook will be consistent with what you see when you run it."
   ]
  },
  {
   "cell_type": "code",
   "execution_count": 19,
   "id": "27065a4c",
   "metadata": {
    "execution": {
     "iopub.execute_input": "2024-02-15T03:25:43.973950Z",
     "iopub.status.busy": "2024-02-15T03:25:43.973161Z",
     "iopub.status.idle": "2024-02-15T03:25:43.995671Z",
     "shell.execute_reply": "2024-02-15T03:25:43.994770Z"
    },
    "papermill": {
     "duration": 0.210914,
     "end_time": "2024-02-15T03:25:43.998799",
     "exception": false,
     "start_time": "2024-02-15T03:25:43.787885",
     "status": "completed"
    },
    "tags": []
   },
   "outputs": [
    {
     "data": {
      "text/plain": [
       "tensor([-0.4629,  0.1386,  0.2409, -0.2262, -0.2632, -0.3147,  0.4876,  0.3136,  0.2799, -0.4392,  0.2103,  0.3625])"
      ]
     },
     "execution_count": 19,
     "metadata": {},
     "output_type": "execute_result"
    }
   ],
   "source": [
    "torch.manual_seed(442)\n",
    "\n",
    "n_coeff = t_indep.shape[1]\n",
    "coeffs = torch.rand(n_coeff)-0.5\n",
    "coeffs"
   ]
  },
  {
   "cell_type": "markdown",
   "id": "5654ce09",
   "metadata": {
    "papermill": {
     "duration": 0.176018,
     "end_time": "2024-02-15T03:25:44.350761",
     "exception": false,
     "start_time": "2024-02-15T03:25:44.174743",
     "status": "completed"
    },
    "tags": []
   },
   "source": [
    "Our predictions will be calculated by multiplying each row by the coefficients, and adding them up. One interesting point here is that we don't need a separate constant term (also known as a \"bias\" or \"intercept\" term), or a column of all `1`s to give the same effect has having a constant term. That's because our dummy variables already cover the entire dataset -- e.g. there's a column for \"male\" and a column for \"female\", and everyone in the dataset is in exactly one of these; therefore, we don't need a separate intercept term to cover rows that aren't otherwise part of a column.\n",
    "\n",
    "Here's what the multiplication looks like:"
   ]
  },
  {
   "cell_type": "code",
   "execution_count": 20,
   "id": "4fa22bff",
   "metadata": {
    "execution": {
     "iopub.execute_input": "2024-02-15T03:25:44.704009Z",
     "iopub.status.busy": "2024-02-15T03:25:44.703145Z",
     "iopub.status.idle": "2024-02-15T03:25:44.711577Z",
     "shell.execute_reply": "2024-02-15T03:25:44.710495Z"
    },
    "papermill": {
     "duration": 0.18447,
     "end_time": "2024-02-15T03:25:44.714523",
     "exception": false,
     "start_time": "2024-02-15T03:25:44.530053",
     "status": "completed"
    },
    "tags": []
   },
   "outputs": [
    {
     "data": {
      "text/plain": [
       "tensor([[-10.1838,   0.1386,   0.0000,  -0.4772,  -0.2632,  -0.0000,   0.0000,   0.0000,   0.2799,  -0.0000,   0.0000,   0.3625],\n",
       "        [-17.5902,   0.1386,   0.0000,  -0.9681,  -0.0000,  -0.3147,   0.4876,   0.0000,   0.0000,  -0.4392,   0.0000,   0.0000],\n",
       "        [-12.0354,   0.0000,   0.0000,  -0.4950,  -0.0000,  -0.3147,   0.0000,   0.0000,   0.2799,  -0.0000,   0.0000,   0.3625],\n",
       "        [-16.2015,   0.1386,   0.0000,  -0.9025,  -0.0000,  -0.3147,   0.4876,   0.0000,   0.0000,  -0.0000,   0.0000,   0.3625],\n",
       "        [-16.2015,   0.0000,   0.0000,  -0.4982,  -0.2632,  -0.0000,   0.0000,   0.0000,   0.2799,  -0.0000,   0.0000,   0.3625],\n",
       "        [-11.1096,   0.0000,   0.0000,  -0.5081,  -0.2632,  -0.0000,   0.0000,   0.0000,   0.2799,  -0.0000,   0.2103,   0.0000],\n",
       "        [-24.9966,   0.0000,   0.0000,  -0.8973,  -0.2632,  -0.0000,   0.4876,   0.0000,   0.0000,  -0.0000,   0.0000,   0.3625],\n",
       "        ...,\n",
       "        [-11.5725,   0.0000,   0.0000,  -0.4717,  -0.2632,  -0.0000,   0.0000,   0.0000,   0.2799,  -0.0000,   0.0000,   0.3625],\n",
       "        [-18.0531,   0.0000,   1.2045,  -0.7701,  -0.0000,  -0.3147,   0.0000,   0.0000,   0.2799,  -0.0000,   0.2103,   0.0000],\n",
       "        [-12.4983,   0.0000,   0.0000,  -0.5968,  -0.2632,  -0.0000,   0.0000,   0.3136,   0.0000,  -0.0000,   0.0000,   0.3625],\n",
       "        [ -8.7951,   0.0000,   0.0000,  -0.7766,  -0.0000,  -0.3147,   0.4876,   0.0000,   0.0000,  -0.0000,   0.0000,   0.3625],\n",
       "        [-11.1096,   0.1386,   0.4818,  -0.7229,  -0.0000,  -0.3147,   0.0000,   0.0000,   0.2799,  -0.0000,   0.0000,   0.3625],\n",
       "        [-12.0354,   0.0000,   0.0000,  -0.7766,  -0.2632,  -0.0000,   0.4876,   0.0000,   0.0000,  -0.4392,   0.0000,   0.0000],\n",
       "        [-14.8128,   0.0000,   0.0000,  -0.4905,  -0.2632,  -0.0000,   0.0000,   0.0000,   0.2799,  -0.0000,   0.2103,   0.0000]])"
      ]
     },
     "execution_count": 20,
     "metadata": {},
     "output_type": "execute_result"
    }
   ],
   "source": [
    "t_indep*coeffs"
   ]
  },
  {
   "cell_type": "markdown",
   "id": "f017d73a",
   "metadata": {
    "papermill": {
     "duration": 0.167279,
     "end_time": "2024-02-15T03:25:45.056646",
     "exception": false,
     "start_time": "2024-02-15T03:25:44.889367",
     "status": "completed"
    },
    "tags": []
   },
   "source": [
    "We can see we've got a problem here. The sums of each row will be dominated by the first column, which is `Age`, since that's bigger on average than all the others.\n",
    "\n",
    "Let's make all the columns contain numbers from `0` to `1`, by dividing each column by its `max()`:"
   ]
  },
  {
   "cell_type": "code",
   "execution_count": 21,
   "id": "76272022",
   "metadata": {
    "execution": {
     "iopub.execute_input": "2024-02-15T03:25:45.404734Z",
     "iopub.status.busy": "2024-02-15T03:25:45.403013Z",
     "iopub.status.idle": "2024-02-15T03:25:45.413737Z",
     "shell.execute_reply": "2024-02-15T03:25:45.412882Z"
    },
    "papermill": {
     "duration": 0.18655,
     "end_time": "2024-02-15T03:25:45.416271",
     "exception": false,
     "start_time": "2024-02-15T03:25:45.229721",
     "status": "completed"
    },
    "tags": []
   },
   "outputs": [],
   "source": [
    "vals,indices = t_indep.max(dim=0)\n",
    "t_indep = t_indep / vals"
   ]
  },
  {
   "cell_type": "markdown",
   "id": "eecdd0c7",
   "metadata": {
    "papermill": {
     "duration": 0.166877,
     "end_time": "2024-02-15T03:25:45.755972",
     "exception": false,
     "start_time": "2024-02-15T03:25:45.589095",
     "status": "completed"
    },
    "tags": []
   },
   "source": [
    "As we see, that removes the problem of one column dominating all the others:"
   ]
  },
  {
   "cell_type": "code",
   "execution_count": 22,
   "id": "9e1de6d6",
   "metadata": {
    "execution": {
     "iopub.execute_input": "2024-02-15T03:25:46.103347Z",
     "iopub.status.busy": "2024-02-15T03:25:46.102512Z",
     "iopub.status.idle": "2024-02-15T03:25:46.111724Z",
     "shell.execute_reply": "2024-02-15T03:25:46.110820Z"
    },
    "papermill": {
     "duration": 0.187802,
     "end_time": "2024-02-15T03:25:46.114190",
     "exception": false,
     "start_time": "2024-02-15T03:25:45.926388",
     "status": "completed"
    },
    "tags": []
   },
   "outputs": [
    {
     "data": {
      "text/plain": [
       "tensor([[-0.1273,  0.0173,  0.0000, -0.0765, -0.2632, -0.0000,  0.0000,  0.0000,  0.2799, -0.0000,  0.0000,  0.3625],\n",
       "        [-0.2199,  0.0173,  0.0000, -0.1551, -0.0000, -0.3147,  0.4876,  0.0000,  0.0000, -0.4392,  0.0000,  0.0000],\n",
       "        [-0.1504,  0.0000,  0.0000, -0.0793, -0.0000, -0.3147,  0.0000,  0.0000,  0.2799, -0.0000,  0.0000,  0.3625],\n",
       "        [-0.2025,  0.0173,  0.0000, -0.1446, -0.0000, -0.3147,  0.4876,  0.0000,  0.0000, -0.0000,  0.0000,  0.3625],\n",
       "        [-0.2025,  0.0000,  0.0000, -0.0798, -0.2632, -0.0000,  0.0000,  0.0000,  0.2799, -0.0000,  0.0000,  0.3625],\n",
       "        [-0.1389,  0.0000,  0.0000, -0.0814, -0.2632, -0.0000,  0.0000,  0.0000,  0.2799, -0.0000,  0.2103,  0.0000],\n",
       "        [-0.3125,  0.0000,  0.0000, -0.1438, -0.2632, -0.0000,  0.4876,  0.0000,  0.0000, -0.0000,  0.0000,  0.3625],\n",
       "        ...,\n",
       "        [-0.1447,  0.0000,  0.0000, -0.0756, -0.2632, -0.0000,  0.0000,  0.0000,  0.2799, -0.0000,  0.0000,  0.3625],\n",
       "        [-0.2257,  0.0000,  0.2008, -0.1234, -0.0000, -0.3147,  0.0000,  0.0000,  0.2799, -0.0000,  0.2103,  0.0000],\n",
       "        [-0.1562,  0.0000,  0.0000, -0.0956, -0.2632, -0.0000,  0.0000,  0.3136,  0.0000, -0.0000,  0.0000,  0.3625],\n",
       "        [-0.1099,  0.0000,  0.0000, -0.1244, -0.0000, -0.3147,  0.4876,  0.0000,  0.0000, -0.0000,  0.0000,  0.3625],\n",
       "        [-0.1389,  0.0173,  0.0803, -0.1158, -0.0000, -0.3147,  0.0000,  0.0000,  0.2799, -0.0000,  0.0000,  0.3625],\n",
       "        [-0.1504,  0.0000,  0.0000, -0.1244, -0.2632, -0.0000,  0.4876,  0.0000,  0.0000, -0.4392,  0.0000,  0.0000],\n",
       "        [-0.1852,  0.0000,  0.0000, -0.0786, -0.2632, -0.0000,  0.0000,  0.0000,  0.2799, -0.0000,  0.2103,  0.0000]])"
      ]
     },
     "execution_count": 22,
     "metadata": {},
     "output_type": "execute_result"
    }
   ],
   "source": [
    "t_indep*coeffs"
   ]
  },
  {
   "cell_type": "markdown",
   "id": "f77a9330",
   "metadata": {
    "papermill": {
     "duration": 0.17245,
     "end_time": "2024-02-15T03:25:46.462825",
     "exception": false,
     "start_time": "2024-02-15T03:25:46.290375",
     "status": "completed"
    },
    "tags": []
   },
   "source": [
    "One thing you hopefully noticed is how amazingly cool this line of code is:\n",
    "\n",
    "    t_indep = t_indep / vals\n",
    "\n",
    "That is dividing a matrix by a vector -- what on earth does that mean?!? The trick here is that we're taking advantage of a technique in numpy and PyTorch (and many other languages, going all the way back to APL) called [broadcasting](https://numpy.org/doc/stable/user/basics.broadcasting.html). In short, this acts as if there's a separate copy of the vector for every row of the matrix, so it divides each row of the matrix by the vector. In practice, it doesn't actually make any copies, and does the whole thing in a highly optimized way, taking full advantage of modern CPUs (or, indeed, GPUs, if we're using them). Broadcasting is one of the most important techniques for making your code concise, maintainable, and fast, so it's well worth studying and practicing.\n",
    "\n",
    "We can now create predictions from our linear model, by adding up the rows of the product:"
   ]
  },
  {
   "cell_type": "code",
   "execution_count": 23,
   "id": "3d4ae7b1",
   "metadata": {
    "execution": {
     "iopub.execute_input": "2024-02-15T03:25:46.820605Z",
     "iopub.status.busy": "2024-02-15T03:25:46.820041Z",
     "iopub.status.idle": "2024-02-15T03:25:46.829300Z",
     "shell.execute_reply": "2024-02-15T03:25:46.828506Z"
    },
    "papermill": {
     "duration": 0.193277,
     "end_time": "2024-02-15T03:25:46.831952",
     "exception": false,
     "start_time": "2024-02-15T03:25:46.638675",
     "status": "completed"
    },
    "tags": []
   },
   "outputs": [],
   "source": [
    "preds = (t_indep*coeffs).sum(axis=1)"
   ]
  },
  {
   "cell_type": "markdown",
   "id": "7ec7acad",
   "metadata": {
    "papermill": {
     "duration": 0.180128,
     "end_time": "2024-02-15T03:25:47.192739",
     "exception": false,
     "start_time": "2024-02-15T03:25:47.012611",
     "status": "completed"
    },
    "tags": []
   },
   "source": [
    "Let's take a look at the first few:"
   ]
  },
  {
   "cell_type": "code",
   "execution_count": 24,
   "id": "6de89bf9",
   "metadata": {
    "execution": {
     "iopub.execute_input": "2024-02-15T03:25:47.544279Z",
     "iopub.status.busy": "2024-02-15T03:25:47.543762Z",
     "iopub.status.idle": "2024-02-15T03:25:47.552283Z",
     "shell.execute_reply": "2024-02-15T03:25:47.551180Z"
    },
    "papermill": {
     "duration": 0.185613,
     "end_time": "2024-02-15T03:25:47.554999",
     "exception": false,
     "start_time": "2024-02-15T03:25:47.369386",
     "status": "completed"
    },
    "tags": []
   },
   "outputs": [
    {
     "data": {
      "text/plain": [
       "tensor([ 0.1927, -0.6239,  0.0979,  0.2056,  0.0968,  0.0066,  0.1306,  0.3476,  0.1613, -0.6285])"
      ]
     },
     "execution_count": 24,
     "metadata": {},
     "output_type": "execute_result"
    }
   ],
   "source": [
    "preds[:10]"
   ]
  },
  {
   "cell_type": "markdown",
   "id": "24acada8",
   "metadata": {
    "papermill": {
     "duration": 0.179008,
     "end_time": "2024-02-15T03:25:47.906066",
     "exception": false,
     "start_time": "2024-02-15T03:25:47.727058",
     "status": "completed"
    },
    "tags": []
   },
   "source": [
    "Of course, these predictions aren't going to be any use, since our coefficients are random -- they're just a starting point for our gradient descent process.\n",
    "\n",
    "To do gradient descent, we need a loss function. Taking the average error of the rows (i.e. the absolute value of the difference between the prediction and the dependent) is generally a reasonable approach:"
   ]
  },
  {
   "cell_type": "code",
   "execution_count": 25,
   "id": "351a32e8",
   "metadata": {
    "execution": {
     "iopub.execute_input": "2024-02-15T03:25:48.262038Z",
     "iopub.status.busy": "2024-02-15T03:25:48.261473Z",
     "iopub.status.idle": "2024-02-15T03:25:48.275163Z",
     "shell.execute_reply": "2024-02-15T03:25:48.273966Z"
    },
    "papermill": {
     "duration": 0.19586,
     "end_time": "2024-02-15T03:25:48.278693",
     "exception": false,
     "start_time": "2024-02-15T03:25:48.082833",
     "status": "completed"
    },
    "tags": []
   },
   "outputs": [
    {
     "data": {
      "text/plain": [
       "tensor(0.5382)"
      ]
     },
     "execution_count": 25,
     "metadata": {},
     "output_type": "execute_result"
    }
   ],
   "source": [
    "loss = torch.abs(preds-t_dep).mean()\n",
    "loss"
   ]
  },
  {
   "cell_type": "markdown",
   "id": "11155523",
   "metadata": {
    "papermill": {
     "duration": 0.180103,
     "end_time": "2024-02-15T03:25:48.630590",
     "exception": false,
     "start_time": "2024-02-15T03:25:48.450487",
     "status": "completed"
    },
    "tags": []
   },
   "source": [
    "Now that we've tested out a way of calculating predictions, and loss, let's pop them into functions to make life easier:"
   ]
  },
  {
   "cell_type": "code",
   "execution_count": 26,
   "id": "edf9febe",
   "metadata": {
    "execution": {
     "iopub.execute_input": "2024-02-15T03:25:48.989896Z",
     "iopub.status.busy": "2024-02-15T03:25:48.989497Z",
     "iopub.status.idle": "2024-02-15T03:25:48.996190Z",
     "shell.execute_reply": "2024-02-15T03:25:48.994905Z"
    },
    "papermill": {
     "duration": 0.189436,
     "end_time": "2024-02-15T03:25:48.999223",
     "exception": false,
     "start_time": "2024-02-15T03:25:48.809787",
     "status": "completed"
    },
    "tags": []
   },
   "outputs": [],
   "source": [
    "def calc_preds(coeffs, indeps): return (indeps*coeffs).sum(axis=1)\n",
    "def calc_loss(coeffs, indeps, deps): return torch.abs(calc_preds(coeffs, indeps)-deps).mean()"
   ]
  },
  {
   "cell_type": "markdown",
   "id": "2be92ee8",
   "metadata": {
    "papermill": {
     "duration": 0.174565,
     "end_time": "2024-02-15T03:25:49.347077",
     "exception": false,
     "start_time": "2024-02-15T03:25:49.172512",
     "status": "completed"
    },
    "tags": []
   },
   "source": [
    "## Doing a gradient descent step"
   ]
  },
  {
   "cell_type": "markdown",
   "id": "f5826b0f",
   "metadata": {
    "papermill": {
     "duration": 0.169057,
     "end_time": "2024-02-15T03:25:49.692239",
     "exception": false,
     "start_time": "2024-02-15T03:25:49.523182",
     "status": "completed"
    },
    "tags": []
   },
   "source": [
    "In this section, we're going to do a single \"epoch\" of gradient descent manually. The only thing we're going to automate is calculating gradients, because let's face it that's pretty tedious and entirely pointless to do by hand! To get PyTorch to calculate gradients, we'll need to call `requires_grad_()` on our `coeffs` (if you're not sure why, review the previous notebook, [How does a neural net really work?](https://www.kaggle.com/code/jhoward/how-does-a-neural-net-really-work), before continuing):"
   ]
  },
  {
   "cell_type": "code",
   "execution_count": 27,
   "id": "42b44748",
   "metadata": {
    "execution": {
     "iopub.execute_input": "2024-02-15T03:25:50.039799Z",
     "iopub.status.busy": "2024-02-15T03:25:50.039206Z",
     "iopub.status.idle": "2024-02-15T03:25:50.048380Z",
     "shell.execute_reply": "2024-02-15T03:25:50.046799Z"
    },
    "papermill": {
     "duration": 0.185563,
     "end_time": "2024-02-15T03:25:50.051863",
     "exception": false,
     "start_time": "2024-02-15T03:25:49.866300",
     "status": "completed"
    },
    "tags": []
   },
   "outputs": [
    {
     "data": {
      "text/plain": [
       "tensor([-0.4629,  0.1386,  0.2409, -0.2262, -0.2632, -0.3147,  0.4876,  0.3136,  0.2799, -0.4392,  0.2103,  0.3625], requires_grad=True)"
      ]
     },
     "execution_count": 27,
     "metadata": {},
     "output_type": "execute_result"
    }
   ],
   "source": [
    "coeffs.requires_grad_()"
   ]
  },
  {
   "cell_type": "markdown",
   "id": "e246d91e",
   "metadata": {
    "papermill": {
     "duration": 0.182276,
     "end_time": "2024-02-15T03:25:50.410607",
     "exception": false,
     "start_time": "2024-02-15T03:25:50.228331",
     "status": "completed"
    },
    "tags": []
   },
   "source": [
    "Now when we calculate our loss, PyTorch will keep track of all the steps, so we'll be able to get the gradients afterwards:"
   ]
  },
  {
   "cell_type": "code",
   "execution_count": 28,
   "id": "232b6a34",
   "metadata": {
    "execution": {
     "iopub.execute_input": "2024-02-15T03:25:50.794256Z",
     "iopub.status.busy": "2024-02-15T03:25:50.793924Z",
     "iopub.status.idle": "2024-02-15T03:25:50.804047Z",
     "shell.execute_reply": "2024-02-15T03:25:50.803089Z"
    },
    "papermill": {
     "duration": 0.218493,
     "end_time": "2024-02-15T03:25:50.807348",
     "exception": false,
     "start_time": "2024-02-15T03:25:50.588855",
     "status": "completed"
    },
    "tags": []
   },
   "outputs": [
    {
     "data": {
      "text/plain": [
       "tensor(0.5382, grad_fn=<MeanBackward0>)"
      ]
     },
     "execution_count": 28,
     "metadata": {},
     "output_type": "execute_result"
    }
   ],
   "source": [
    "loss = calc_loss(coeffs, t_indep, t_dep)\n",
    "loss"
   ]
  },
  {
   "cell_type": "markdown",
   "id": "2abdd16d",
   "metadata": {
    "papermill": {
     "duration": 0.182719,
     "end_time": "2024-02-15T03:25:51.167011",
     "exception": false,
     "start_time": "2024-02-15T03:25:50.984292",
     "status": "completed"
    },
    "tags": []
   },
   "source": [
    "Use `backward()` to ask PyTorch to calculate gradients now:"
   ]
  },
  {
   "cell_type": "code",
   "execution_count": 29,
   "id": "c8292ae1",
   "metadata": {
    "execution": {
     "iopub.execute_input": "2024-02-15T03:25:51.530006Z",
     "iopub.status.busy": "2024-02-15T03:25:51.529713Z",
     "iopub.status.idle": "2024-02-15T03:25:51.545222Z",
     "shell.execute_reply": "2024-02-15T03:25:51.544449Z"
    },
    "papermill": {
     "duration": 0.19997,
     "end_time": "2024-02-15T03:25:51.547752",
     "exception": false,
     "start_time": "2024-02-15T03:25:51.347782",
     "status": "completed"
    },
    "tags": []
   },
   "outputs": [],
   "source": [
    "loss.backward()"
   ]
  },
  {
   "cell_type": "markdown",
   "id": "135af99d",
   "metadata": {
    "papermill": {
     "duration": 0.17568,
     "end_time": "2024-02-15T03:25:51.901921",
     "exception": false,
     "start_time": "2024-02-15T03:25:51.726241",
     "status": "completed"
    },
    "tags": []
   },
   "source": [
    "Let's see what they look like:"
   ]
  },
  {
   "cell_type": "code",
   "execution_count": 30,
   "id": "96572896",
   "metadata": {
    "execution": {
     "iopub.execute_input": "2024-02-15T03:25:52.265513Z",
     "iopub.status.busy": "2024-02-15T03:25:52.264905Z",
     "iopub.status.idle": "2024-02-15T03:25:52.271279Z",
     "shell.execute_reply": "2024-02-15T03:25:52.270599Z"
    },
    "papermill": {
     "duration": 0.190122,
     "end_time": "2024-02-15T03:25:52.274114",
     "exception": false,
     "start_time": "2024-02-15T03:25:52.083992",
     "status": "completed"
    },
    "tags": []
   },
   "outputs": [
    {
     "data": {
      "text/plain": [
       "tensor([-0.0106,  0.0129, -0.0041, -0.0484,  0.2099, -0.2132, -0.1212, -0.0247,  0.1425, -0.1886, -0.0191,  0.2043])"
      ]
     },
     "execution_count": 30,
     "metadata": {},
     "output_type": "execute_result"
    }
   ],
   "source": [
    "coeffs.grad"
   ]
  },
  {
   "cell_type": "markdown",
   "id": "4e055654",
   "metadata": {
    "papermill": {
     "duration": 0.174626,
     "end_time": "2024-02-15T03:25:52.626727",
     "exception": false,
     "start_time": "2024-02-15T03:25:52.452101",
     "status": "completed"
    },
    "tags": []
   },
   "source": [
    "Note that each time we call `backward`, the gradients are actually *added* to whatever is in the `.grad` attribute. Let's try running the above steps again:"
   ]
  },
  {
   "cell_type": "code",
   "execution_count": 31,
   "id": "c814f4be",
   "metadata": {
    "execution": {
     "iopub.execute_input": "2024-02-15T03:25:52.975543Z",
     "iopub.status.busy": "2024-02-15T03:25:52.974926Z",
     "iopub.status.idle": "2024-02-15T03:25:52.985025Z",
     "shell.execute_reply": "2024-02-15T03:25:52.984085Z"
    },
    "papermill": {
     "duration": 0.191229,
     "end_time": "2024-02-15T03:25:52.987625",
     "exception": false,
     "start_time": "2024-02-15T03:25:52.796396",
     "status": "completed"
    },
    "tags": []
   },
   "outputs": [
    {
     "data": {
      "text/plain": [
       "tensor([-0.0212,  0.0258, -0.0082, -0.0969,  0.4198, -0.4265, -0.2424, -0.0494,  0.2851, -0.3771, -0.0382,  0.4085])"
      ]
     },
     "execution_count": 31,
     "metadata": {},
     "output_type": "execute_result"
    }
   ],
   "source": [
    "loss = calc_loss(coeffs, t_indep, t_dep)\n",
    "loss.backward()\n",
    "coeffs.grad"
   ]
  },
  {
   "cell_type": "markdown",
   "id": "2090945b",
   "metadata": {
    "papermill": {
     "duration": 0.18379,
     "end_time": "2024-02-15T03:25:53.358220",
     "exception": false,
     "start_time": "2024-02-15T03:25:53.174430",
     "status": "completed"
    },
    "tags": []
   },
   "source": [
    "As you see, our `.grad` values are have doubled. That's because it added the gradients a second time. For this reason, after we use the gradients to do a gradient descent step, we need to set them back to zero.\n",
    "\n",
    "We can now do one gradient descent step, and check that our loss decreases:"
   ]
  },
  {
   "cell_type": "code",
   "execution_count": 32,
   "id": "c351f61c",
   "metadata": {
    "execution": {
     "iopub.execute_input": "2024-02-15T03:25:53.720153Z",
     "iopub.status.busy": "2024-02-15T03:25:53.719786Z",
     "iopub.status.idle": "2024-02-15T03:25:53.728317Z",
     "shell.execute_reply": "2024-02-15T03:25:53.727569Z"
    },
    "papermill": {
     "duration": 0.190713,
     "end_time": "2024-02-15T03:25:53.731347",
     "exception": false,
     "start_time": "2024-02-15T03:25:53.540634",
     "status": "completed"
    },
    "tags": []
   },
   "outputs": [
    {
     "name": "stdout",
     "output_type": "stream",
     "text": [
      "tensor(0.4945)\n"
     ]
    }
   ],
   "source": [
    "loss = calc_loss(coeffs, t_indep, t_dep)\n",
    "loss.backward()\n",
    "with torch.no_grad():\n",
    "    coeffs.sub_(coeffs.grad * 0.1)\n",
    "    coeffs.grad.zero_()\n",
    "    print(calc_loss(coeffs, t_indep, t_dep))"
   ]
  },
  {
   "cell_type": "markdown",
   "id": "ec018f0d",
   "metadata": {
    "papermill": {
     "duration": 0.181271,
     "end_time": "2024-02-15T03:25:54.095278",
     "exception": false,
     "start_time": "2024-02-15T03:25:53.914007",
     "status": "completed"
    },
    "tags": []
   },
   "source": [
    "Note that `a.sub_(b)` subtracts `b` from `a` in-place. In PyTorch, any method that ends in `_` changes its object in-place. Similarly, `a.zero_()` sets all elements of a tensor to zero."
   ]
  },
  {
   "cell_type": "markdown",
   "id": "c76eb929",
   "metadata": {
    "papermill": {
     "duration": 0.173094,
     "end_time": "2024-02-15T03:25:54.448372",
     "exception": false,
     "start_time": "2024-02-15T03:25:54.275278",
     "status": "completed"
    },
    "tags": []
   },
   "source": [
    "## Training the linear model"
   ]
  },
  {
   "cell_type": "markdown",
   "id": "1e0ababc",
   "metadata": {
    "papermill": {
     "duration": 0.174325,
     "end_time": "2024-02-15T03:25:54.797473",
     "exception": false,
     "start_time": "2024-02-15T03:25:54.623148",
     "status": "completed"
    },
    "tags": []
   },
   "source": [
    "Before we begin training our model, we'll need to ensure that we hold out a validation set for calculating our metrics (for details on this, see \"[Getting started with NLP for absolute beginners](https://www.kaggle.com/code/jhoward/getting-started-with-nlp-for-absolute-beginners#Test-and-validation-sets)\".\n",
    "\n",
    "There's lots of different ways we can do this. In the next notebook we'll be comparing our approach here to what the fastai library does, so we'll want to ensure we split the data in the same way. So let's use `RandomSplitter` to get indices that will split our data into training and validation sets:"
   ]
  },
  {
   "cell_type": "code",
   "execution_count": 33,
   "id": "15bca0e3",
   "metadata": {
    "execution": {
     "iopub.execute_input": "2024-02-15T03:25:55.152012Z",
     "iopub.status.busy": "2024-02-15T03:25:55.151332Z",
     "iopub.status.idle": "2024-02-15T03:25:56.694510Z",
     "shell.execute_reply": "2024-02-15T03:25:56.693720Z"
    },
    "papermill": {
     "duration": 1.721075,
     "end_time": "2024-02-15T03:25:56.697347",
     "exception": false,
     "start_time": "2024-02-15T03:25:54.976272",
     "status": "completed"
    },
    "tags": []
   },
   "outputs": [],
   "source": [
    "from fastai.data.transforms import RandomSplitter\n",
    "trn_split,val_split=RandomSplitter(seed=42)(df)"
   ]
  },
  {
   "cell_type": "markdown",
   "id": "e502894d",
   "metadata": {
    "papermill": {
     "duration": 0.181543,
     "end_time": "2024-02-15T03:25:57.059969",
     "exception": false,
     "start_time": "2024-02-15T03:25:56.878426",
     "status": "completed"
    },
    "tags": []
   },
   "source": [
    "Now we can apply those indicies to our independent and dependent variables:"
   ]
  },
  {
   "cell_type": "code",
   "execution_count": 34,
   "id": "c2cef711",
   "metadata": {
    "execution": {
     "iopub.execute_input": "2024-02-15T03:25:57.422620Z",
     "iopub.status.busy": "2024-02-15T03:25:57.421984Z",
     "iopub.status.idle": "2024-02-15T03:25:57.434293Z",
     "shell.execute_reply": "2024-02-15T03:25:57.433100Z"
    },
    "papermill": {
     "duration": 0.201489,
     "end_time": "2024-02-15T03:25:57.437437",
     "exception": false,
     "start_time": "2024-02-15T03:25:57.235948",
     "status": "completed"
    },
    "tags": []
   },
   "outputs": [
    {
     "data": {
      "text/plain": [
       "(713, 178)"
      ]
     },
     "execution_count": 34,
     "metadata": {},
     "output_type": "execute_result"
    }
   ],
   "source": [
    "trn_indep,val_indep = t_indep[trn_split],t_indep[val_split]\n",
    "trn_dep,val_dep = t_dep[trn_split],t_dep[val_split]\n",
    "len(trn_indep),len(val_indep)"
   ]
  },
  {
   "cell_type": "markdown",
   "id": "e43f64c0",
   "metadata": {
    "papermill": {
     "duration": 0.180971,
     "end_time": "2024-02-15T03:25:57.800066",
     "exception": false,
     "start_time": "2024-02-15T03:25:57.619095",
     "status": "completed"
    },
    "tags": []
   },
   "source": [
    "We'll create functions for the three things we did manually above: updating `coeffs`, doing one full gradient descent step, and initilising `coeffs` to random numbers:"
   ]
  },
  {
   "cell_type": "code",
   "execution_count": 35,
   "id": "60f7080a",
   "metadata": {
    "execution": {
     "iopub.execute_input": "2024-02-15T03:25:58.166598Z",
     "iopub.status.busy": "2024-02-15T03:25:58.166262Z",
     "iopub.status.idle": "2024-02-15T03:25:58.170634Z",
     "shell.execute_reply": "2024-02-15T03:25:58.169855Z"
    },
    "papermill": {
     "duration": 0.190834,
     "end_time": "2024-02-15T03:25:58.173770",
     "exception": false,
     "start_time": "2024-02-15T03:25:57.982936",
     "status": "completed"
    },
    "tags": []
   },
   "outputs": [],
   "source": [
    "def update_coeffs(coeffs, lr):\n",
    "    coeffs.sub_(coeffs.grad * lr)\n",
    "    coeffs.grad.zero_()"
   ]
  },
  {
   "cell_type": "code",
   "execution_count": 36,
   "id": "7462f58d",
   "metadata": {
    "execution": {
     "iopub.execute_input": "2024-02-15T03:25:58.546628Z",
     "iopub.status.busy": "2024-02-15T03:25:58.546026Z",
     "iopub.status.idle": "2024-02-15T03:25:58.551433Z",
     "shell.execute_reply": "2024-02-15T03:25:58.550710Z"
    },
    "papermill": {
     "duration": 0.197142,
     "end_time": "2024-02-15T03:25:58.553781",
     "exception": false,
     "start_time": "2024-02-15T03:25:58.356639",
     "status": "completed"
    },
    "tags": []
   },
   "outputs": [],
   "source": [
    "def one_epoch(coeffs, lr):\n",
    "    loss = calc_loss(coeffs, trn_indep, trn_dep)\n",
    "    loss.backward()\n",
    "    with torch.no_grad(): update_coeffs(coeffs, lr)\n",
    "    print(f\"{loss:.3f}\", end=\"; \")"
   ]
  },
  {
   "cell_type": "code",
   "execution_count": 37,
   "id": "819c949d",
   "metadata": {
    "execution": {
     "iopub.execute_input": "2024-02-15T03:25:58.915903Z",
     "iopub.status.busy": "2024-02-15T03:25:58.915094Z",
     "iopub.status.idle": "2024-02-15T03:25:58.920898Z",
     "shell.execute_reply": "2024-02-15T03:25:58.919570Z"
    },
    "papermill": {
     "duration": 0.192462,
     "end_time": "2024-02-15T03:25:58.923736",
     "exception": false,
     "start_time": "2024-02-15T03:25:58.731274",
     "status": "completed"
    },
    "tags": []
   },
   "outputs": [],
   "source": [
    "def init_coeffs(): return (torch.rand(n_coeff)-0.5).requires_grad_()"
   ]
  },
  {
   "cell_type": "markdown",
   "id": "ec05e236",
   "metadata": {
    "papermill": {
     "duration": 0.183615,
     "end_time": "2024-02-15T03:25:59.291573",
     "exception": false,
     "start_time": "2024-02-15T03:25:59.107958",
     "status": "completed"
    },
    "tags": []
   },
   "source": [
    "We can now use these functions to train our model:"
   ]
  },
  {
   "cell_type": "code",
   "execution_count": 38,
   "id": "9fe4106a",
   "metadata": {
    "execution": {
     "iopub.execute_input": "2024-02-15T03:25:59.651303Z",
     "iopub.status.busy": "2024-02-15T03:25:59.650726Z",
     "iopub.status.idle": "2024-02-15T03:25:59.656357Z",
     "shell.execute_reply": "2024-02-15T03:25:59.655340Z"
    },
    "papermill": {
     "duration": 0.183849,
     "end_time": "2024-02-15T03:25:59.659103",
     "exception": false,
     "start_time": "2024-02-15T03:25:59.475254",
     "status": "completed"
    },
    "tags": []
   },
   "outputs": [],
   "source": [
    "def train_model(epochs=30, lr=0.01):\n",
    "    torch.manual_seed(442)\n",
    "    coeffs = init_coeffs()\n",
    "    for i in range(epochs): one_epoch(coeffs, lr=lr)\n",
    "    return coeffs"
   ]
  },
  {
   "cell_type": "markdown",
   "id": "895394fd",
   "metadata": {
    "papermill": {
     "duration": 0.175033,
     "end_time": "2024-02-15T03:26:00.011116",
     "exception": false,
     "start_time": "2024-02-15T03:25:59.836083",
     "status": "completed"
    },
    "tags": []
   },
   "source": [
    "Let's try it. Our loss will print at the end of every step, so we hope we'll see it going down:"
   ]
  },
  {
   "cell_type": "code",
   "execution_count": 39,
   "id": "22f021d7",
   "metadata": {
    "execution": {
     "iopub.execute_input": "2024-02-15T03:26:00.369381Z",
     "iopub.status.busy": "2024-02-15T03:26:00.369055Z",
     "iopub.status.idle": "2024-02-15T03:26:00.390701Z",
     "shell.execute_reply": "2024-02-15T03:26:00.388521Z"
    },
    "papermill": {
     "duration": 0.202027,
     "end_time": "2024-02-15T03:26:00.394070",
     "exception": false,
     "start_time": "2024-02-15T03:26:00.192043",
     "status": "completed"
    },
    "tags": []
   },
   "outputs": [
    {
     "name": "stdout",
     "output_type": "stream",
     "text": [
      "0.536; 0.502; 0.477; 0.454; 0.431; 0.409; 0.388; 0.367; 0.349; 0.336; 0.330; 0.326; 0.329; 0.304; 0.314; 0.296; 0.300; 0.289; "
     ]
    }
   ],
   "source": [
    "coeffs = train_model(18, lr=0.2)"
   ]
  },
  {
   "cell_type": "markdown",
   "id": "a0a96e0b",
   "metadata": {
    "papermill": {
     "duration": 0.196973,
     "end_time": "2024-02-15T03:26:00.771636",
     "exception": false,
     "start_time": "2024-02-15T03:26:00.574663",
     "status": "completed"
    },
    "tags": []
   },
   "source": [
    "It does!\n",
    "\n",
    "Let's take a look at the coefficients for each column:"
   ]
  },
  {
   "cell_type": "code",
   "execution_count": 40,
   "id": "bc18fc3e",
   "metadata": {
    "execution": {
     "iopub.execute_input": "2024-02-15T03:26:01.139437Z",
     "iopub.status.busy": "2024-02-15T03:26:01.138884Z",
     "iopub.status.idle": "2024-02-15T03:26:01.149450Z",
     "shell.execute_reply": "2024-02-15T03:26:01.148577Z"
    },
    "papermill": {
     "duration": 0.187444,
     "end_time": "2024-02-15T03:26:01.151896",
     "exception": false,
     "start_time": "2024-02-15T03:26:00.964452",
     "status": "completed"
    },
    "tags": []
   },
   "outputs": [
    {
     "data": {
      "text/plain": [
       "{'Age': tensor(-0.2694),\n",
       " 'SibSp': tensor(0.0901),\n",
       " 'Parch': tensor(0.2359),\n",
       " 'LogFare': tensor(0.0280),\n",
       " 'Sex_male': tensor(-0.3990),\n",
       " 'Sex_female': tensor(0.2345),\n",
       " 'Pclass_1': tensor(0.7232),\n",
       " 'Pclass_2': tensor(0.4112),\n",
       " 'Pclass_3': tensor(0.3601),\n",
       " 'Embarked_C': tensor(0.0955),\n",
       " 'Embarked_Q': tensor(0.2395),\n",
       " 'Embarked_S': tensor(0.2122)}"
      ]
     },
     "execution_count": 40,
     "metadata": {},
     "output_type": "execute_result"
    }
   ],
   "source": [
    "def show_coeffs(): return dict(zip(indep_cols, coeffs.requires_grad_(False)))\n",
    "show_coeffs()"
   ]
  },
  {
   "cell_type": "markdown",
   "id": "60d9686c",
   "metadata": {
    "papermill": {
     "duration": 0.182369,
     "end_time": "2024-02-15T03:26:01.516999",
     "exception": false,
     "start_time": "2024-02-15T03:26:01.334630",
     "status": "completed"
    },
    "tags": []
   },
   "source": [
    "## Measuring accuracy"
   ]
  },
  {
   "cell_type": "markdown",
   "id": "d232395b",
   "metadata": {
    "papermill": {
     "duration": 0.181807,
     "end_time": "2024-02-15T03:26:01.874901",
     "exception": false,
     "start_time": "2024-02-15T03:26:01.693094",
     "status": "completed"
    },
    "tags": []
   },
   "source": [
    "The Kaggle competition is not, however, scored by absolute error (which is our loss function). It's scored by *accuracy* -- the proportion of rows where we correctly predict survival. Let's see how accurate we were on the validation set. First, calculate the predictions:"
   ]
  },
  {
   "cell_type": "code",
   "execution_count": 41,
   "id": "c752d1a4",
   "metadata": {
    "execution": {
     "iopub.execute_input": "2024-02-15T03:26:02.236682Z",
     "iopub.status.busy": "2024-02-15T03:26:02.236217Z",
     "iopub.status.idle": "2024-02-15T03:26:02.240984Z",
     "shell.execute_reply": "2024-02-15T03:26:02.239971Z"
    },
    "papermill": {
     "duration": 0.187897,
     "end_time": "2024-02-15T03:26:02.243572",
     "exception": false,
     "start_time": "2024-02-15T03:26:02.055675",
     "status": "completed"
    },
    "tags": []
   },
   "outputs": [],
   "source": [
    "preds = calc_preds(coeffs, val_indep)"
   ]
  },
  {
   "cell_type": "markdown",
   "id": "257f69bc",
   "metadata": {
    "papermill": {
     "duration": 0.176915,
     "end_time": "2024-02-15T03:26:02.594887",
     "exception": false,
     "start_time": "2024-02-15T03:26:02.417972",
     "status": "completed"
    },
    "tags": []
   },
   "source": [
    "We'll assume that any passenger with a score of over `0.5` is predicted to survive. So that means we're correct for each row where `preds>0.5` is the same as the dependent variable:"
   ]
  },
  {
   "cell_type": "code",
   "execution_count": 42,
   "id": "07dd5d3c",
   "metadata": {
    "execution": {
     "iopub.execute_input": "2024-02-15T03:26:02.949403Z",
     "iopub.status.busy": "2024-02-15T03:26:02.948954Z",
     "iopub.status.idle": "2024-02-15T03:26:02.956656Z",
     "shell.execute_reply": "2024-02-15T03:26:02.955653Z"
    },
    "papermill": {
     "duration": 0.188476,
     "end_time": "2024-02-15T03:26:02.958957",
     "exception": false,
     "start_time": "2024-02-15T03:26:02.770481",
     "status": "completed"
    },
    "tags": []
   },
   "outputs": [
    {
     "data": {
      "text/plain": [
       "tensor([ True,  True,  True,  True,  True,  True,  True,  True,  True,  True, False, False, False,  True,  True, False])"
      ]
     },
     "execution_count": 42,
     "metadata": {},
     "output_type": "execute_result"
    }
   ],
   "source": [
    "results = val_dep.bool()==(preds>0.5)\n",
    "results[:16]"
   ]
  },
  {
   "cell_type": "markdown",
   "id": "be0fadc5",
   "metadata": {
    "papermill": {
     "duration": 0.173992,
     "end_time": "2024-02-15T03:26:03.307898",
     "exception": false,
     "start_time": "2024-02-15T03:26:03.133906",
     "status": "completed"
    },
    "tags": []
   },
   "source": [
    "Let's see what our average accuracy is:"
   ]
  },
  {
   "cell_type": "code",
   "execution_count": 43,
   "id": "7722fe86",
   "metadata": {
    "execution": {
     "iopub.execute_input": "2024-02-15T03:26:03.658786Z",
     "iopub.status.busy": "2024-02-15T03:26:03.658288Z",
     "iopub.status.idle": "2024-02-15T03:26:03.665085Z",
     "shell.execute_reply": "2024-02-15T03:26:03.664201Z"
    },
    "papermill": {
     "duration": 0.184351,
     "end_time": "2024-02-15T03:26:03.667310",
     "exception": false,
     "start_time": "2024-02-15T03:26:03.482959",
     "status": "completed"
    },
    "tags": []
   },
   "outputs": [
    {
     "data": {
      "text/plain": [
       "tensor(0.7865)"
      ]
     },
     "execution_count": 43,
     "metadata": {},
     "output_type": "execute_result"
    }
   ],
   "source": [
    "results.float().mean()"
   ]
  },
  {
   "cell_type": "markdown",
   "id": "40bc1760",
   "metadata": {
    "papermill": {
     "duration": 0.181034,
     "end_time": "2024-02-15T03:26:04.034400",
     "exception": false,
     "start_time": "2024-02-15T03:26:03.853366",
     "status": "completed"
    },
    "tags": []
   },
   "source": [
    "That's not a bad start at all! We'll create a function so we can calcuate the accuracy easy for other models we train:"
   ]
  },
  {
   "cell_type": "code",
   "execution_count": 44,
   "id": "3d498901",
   "metadata": {
    "execution": {
     "iopub.execute_input": "2024-02-15T03:26:04.398274Z",
     "iopub.status.busy": "2024-02-15T03:26:04.397987Z",
     "iopub.status.idle": "2024-02-15T03:26:04.407298Z",
     "shell.execute_reply": "2024-02-15T03:26:04.406524Z"
    },
    "papermill": {
     "duration": 0.189996,
     "end_time": "2024-02-15T03:26:04.409617",
     "exception": false,
     "start_time": "2024-02-15T03:26:04.219621",
     "status": "completed"
    },
    "tags": []
   },
   "outputs": [
    {
     "data": {
      "text/plain": [
       "tensor(0.7865)"
      ]
     },
     "execution_count": 44,
     "metadata": {},
     "output_type": "execute_result"
    }
   ],
   "source": [
    "def acc(coeffs): return (val_dep.bool()==(calc_preds(coeffs, val_indep)>0.5)).float().mean()\n",
    "acc(coeffs)"
   ]
  },
  {
   "cell_type": "markdown",
   "id": "b3c4093c",
   "metadata": {
    "papermill": {
     "duration": 0.177432,
     "end_time": "2024-02-15T03:26:04.766001",
     "exception": false,
     "start_time": "2024-02-15T03:26:04.588569",
     "status": "completed"
    },
    "tags": []
   },
   "source": [
    "## Using sigmoid"
   ]
  },
  {
   "cell_type": "markdown",
   "id": "25ee94b8",
   "metadata": {
    "papermill": {
     "duration": 0.186142,
     "end_time": "2024-02-15T03:26:05.135353",
     "exception": false,
     "start_time": "2024-02-15T03:26:04.949211",
     "status": "completed"
    },
    "tags": []
   },
   "source": [
    "Looking at our predictions, there's one obvious problem -- some of our predictions of the probability of survival are `>1`, and some are `<0`:"
   ]
  },
  {
   "cell_type": "code",
   "execution_count": 45,
   "id": "3e6806e5",
   "metadata": {
    "execution": {
     "iopub.execute_input": "2024-02-15T03:26:05.502577Z",
     "iopub.status.busy": "2024-02-15T03:26:05.502213Z",
     "iopub.status.idle": "2024-02-15T03:26:05.512499Z",
     "shell.execute_reply": "2024-02-15T03:26:05.511098Z"
    },
    "papermill": {
     "duration": 0.196085,
     "end_time": "2024-02-15T03:26:05.515260",
     "exception": false,
     "start_time": "2024-02-15T03:26:05.319175",
     "status": "completed"
    },
    "tags": []
   },
   "outputs": [
    {
     "data": {
      "text/plain": [
       "tensor([ 0.8160,  0.1295, -0.0148,  0.1831,  0.1520,  0.1350,  0.7279,  0.7754,  0.3222,  0.6740,  0.0753,  0.0389,  0.2216,  0.7631,\n",
       "         0.0678,  0.3997,  0.3324,  0.8278,  0.1078,  0.7126,  0.1023,  0.3627,  0.9937,  0.8050,  0.1153,  0.1455,  0.8652,  0.3425])"
      ]
     },
     "execution_count": 45,
     "metadata": {},
     "output_type": "execute_result"
    }
   ],
   "source": [
    "preds[:28]"
   ]
  },
  {
   "cell_type": "markdown",
   "id": "81a62641",
   "metadata": {
    "papermill": {
     "duration": 0.183615,
     "end_time": "2024-02-15T03:26:05.881262",
     "exception": false,
     "start_time": "2024-02-15T03:26:05.697647",
     "status": "completed"
    },
    "tags": []
   },
   "source": [
    "To fix this, we should pass every prediction through the *sigmoid function*, which has a minimum at zero and maximum at one, and is defined as follows:"
   ]
  },
  {
   "cell_type": "code",
   "execution_count": 46,
   "id": "7f8493e6",
   "metadata": {
    "execution": {
     "iopub.execute_input": "2024-02-15T03:26:06.248942Z",
     "iopub.status.busy": "2024-02-15T03:26:06.248326Z",
     "iopub.status.idle": "2024-02-15T03:26:07.749995Z",
     "shell.execute_reply": "2024-02-15T03:26:07.748965Z"
    },
    "papermill": {
     "duration": 1.69329,
     "end_time": "2024-02-15T03:26:07.753504",
     "exception": false,
     "start_time": "2024-02-15T03:26:06.060214",
     "status": "completed"
    },
    "tags": []
   },
   "outputs": [
    {
     "data": {
      "image/png": "[encoded data removed]",
      "text/plain": [
       "<Figure size 432x288 with 1 Axes>"
      ]
     },
     "metadata": {
      "needs_background": "light"
     },
     "output_type": "display_data"
    }
   ],
   "source": [
    "import sympy\n",
    "sympy.plot(\"1/(1+exp(-x))\", xlim=(-5,5));"
   ]
  },
  {
   "cell_type": "markdown",
   "id": "4450d380",
   "metadata": {
    "papermill": {
     "duration": 0.186635,
     "end_time": "2024-02-15T03:26:08.126865",
     "exception": false,
     "start_time": "2024-02-15T03:26:07.940230",
     "status": "completed"
    },
    "tags": []
   },
   "source": [
    "PyTorch already defines that function for us, so we can modify `calc_preds` to use it:"
   ]
  },
  {
   "cell_type": "code",
   "execution_count": 47,
   "id": "be534d22",
   "metadata": {
    "execution": {
     "iopub.execute_input": "2024-02-15T03:26:08.491952Z",
     "iopub.status.busy": "2024-02-15T03:26:08.491642Z",
     "iopub.status.idle": "2024-02-15T03:26:08.497255Z",
     "shell.execute_reply": "2024-02-15T03:26:08.496083Z"
    },
    "papermill": {
     "duration": 0.197398,
     "end_time": "2024-02-15T03:26:08.500366",
     "exception": false,
     "start_time": "2024-02-15T03:26:08.302968",
     "status": "completed"
    },
    "tags": []
   },
   "outputs": [],
   "source": [
    "def calc_preds(coeffs, indeps): return torch.sigmoid((indeps*coeffs).sum(axis=1))"
   ]
  },
  {
   "cell_type": "markdown",
   "id": "4490acf4",
   "metadata": {
    "papermill": {
     "duration": 0.181803,
     "end_time": "2024-02-15T03:26:08.863071",
     "exception": false,
     "start_time": "2024-02-15T03:26:08.681268",
     "status": "completed"
    },
    "tags": []
   },
   "source": [
    "Let's train a new model now, using this updated function to calculate predictions:"
   ]
  },
  {
   "cell_type": "code",
   "execution_count": 48,
   "id": "4cceb182",
   "metadata": {
    "execution": {
     "iopub.execute_input": "2024-02-15T03:26:09.249919Z",
     "iopub.status.busy": "2024-02-15T03:26:09.248584Z",
     "iopub.status.idle": "2024-02-15T03:26:09.281088Z",
     "shell.execute_reply": "2024-02-15T03:26:09.279847Z"
    },
    "papermill": {
     "duration": 0.229965,
     "end_time": "2024-02-15T03:26:09.284028",
     "exception": false,
     "start_time": "2024-02-15T03:26:09.054063",
     "status": "completed"
    },
    "tags": []
   },
   "outputs": [
    {
     "name": "stdout",
     "output_type": "stream",
     "text": [
      "0.510; 0.327; 0.294; 0.207; 0.201; 0.199; 0.198; 0.197; 0.196; 0.196; 0.196; 0.195; 0.195; 0.195; 0.195; 0.195; 0.195; 0.195; 0.194; 0.194; 0.194; 0.194; 0.194; 0.194; 0.194; 0.194; 0.194; 0.194; 0.194; 0.194; "
     ]
    }
   ],
   "source": [
    "coeffs = train_model(lr=100)"
   ]
  },
  {
   "cell_type": "markdown",
   "id": "a49f81b5",
   "metadata": {
    "papermill": {
     "duration": 0.183038,
     "end_time": "2024-02-15T03:26:09.657513",
     "exception": false,
     "start_time": "2024-02-15T03:26:09.474475",
     "status": "completed"
    },
    "tags": []
   },
   "source": [
    "The loss has improved by a lot. Let's check the accuracy:"
   ]
  },
  {
   "cell_type": "code",
   "execution_count": 49,
   "id": "ff681998",
   "metadata": {
    "execution": {
     "iopub.execute_input": "2024-02-15T03:26:10.033880Z",
     "iopub.status.busy": "2024-02-15T03:26:10.033530Z",
     "iopub.status.idle": "2024-02-15T03:26:10.043382Z",
     "shell.execute_reply": "2024-02-15T03:26:10.042354Z"
    },
    "papermill": {
     "duration": 0.204765,
     "end_time": "2024-02-15T03:26:10.046122",
     "exception": false,
     "start_time": "2024-02-15T03:26:09.841357",
     "status": "completed"
    },
    "tags": []
   },
   "outputs": [
    {
     "data": {
      "text/plain": [
       "tensor(0.8258)"
      ]
     },
     "execution_count": 49,
     "metadata": {},
     "output_type": "execute_result"
    }
   ],
   "source": [
    "acc(coeffs)"
   ]
  },
  {
   "cell_type": "markdown",
   "id": "38b74e20",
   "metadata": {
    "papermill": {
     "duration": 0.194335,
     "end_time": "2024-02-15T03:26:10.436938",
     "exception": false,
     "start_time": "2024-02-15T03:26:10.242603",
     "status": "completed"
    },
    "tags": []
   },
   "source": [
    "That's improved too! Here's the coefficients of our trained model:"
   ]
  },
  {
   "cell_type": "code",
   "execution_count": 50,
   "id": "7f4ed528",
   "metadata": {
    "execution": {
     "iopub.execute_input": "2024-02-15T03:26:10.840224Z",
     "iopub.status.busy": "2024-02-15T03:26:10.839530Z",
     "iopub.status.idle": "2024-02-15T03:26:10.850381Z",
     "shell.execute_reply": "2024-02-15T03:26:10.849302Z"
    },
    "papermill": {
     "duration": 0.22518,
     "end_time": "2024-02-15T03:26:10.852792",
     "exception": false,
     "start_time": "2024-02-15T03:26:10.627612",
     "status": "completed"
    },
    "tags": []
   },
   "outputs": [
    {
     "data": {
      "text/plain": [
       "{'Age': tensor(-1.5061),\n",
       " 'SibSp': tensor(-1.1575),\n",
       " 'Parch': tensor(-0.4267),\n",
       " 'LogFare': tensor(0.2543),\n",
       " 'Sex_male': tensor(-10.3320),\n",
       " 'Sex_female': tensor(8.4185),\n",
       " 'Pclass_1': tensor(3.8389),\n",
       " 'Pclass_2': tensor(2.1398),\n",
       " 'Pclass_3': tensor(-6.2331),\n",
       " 'Embarked_C': tensor(1.4771),\n",
       " 'Embarked_Q': tensor(2.1168),\n",
       " 'Embarked_S': tensor(-4.7958)}"
      ]
     },
     "execution_count": 50,
     "metadata": {},
     "output_type": "execute_result"
    }
   ],
   "source": [
    "show_coeffs()"
   ]
  },
  {
   "cell_type": "markdown",
   "id": "d2de2d25",
   "metadata": {
    "papermill": {
     "duration": 0.186208,
     "end_time": "2024-02-15T03:26:11.225381",
     "exception": false,
     "start_time": "2024-02-15T03:26:11.039173",
     "status": "completed"
    },
    "tags": []
   },
   "source": [
    "These coefficients seem reasonable -- in general, older people and males were less likely to survive, and first class passengers were more likely to survive."
   ]
  },
  {
   "cell_type": "markdown",
   "id": "a5ee04ca",
   "metadata": {
    "papermill": {
     "duration": 0.180664,
     "end_time": "2024-02-15T03:26:11.595163",
     "exception": false,
     "start_time": "2024-02-15T03:26:11.414499",
     "status": "completed"
    },
    "tags": []
   },
   "source": [
    "## Submitting to Kaggle"
   ]
  },
  {
   "cell_type": "markdown",
   "id": "47fa9685",
   "metadata": {
    "papermill": {
     "duration": 0.184469,
     "end_time": "2024-02-15T03:26:11.956767",
     "exception": false,
     "start_time": "2024-02-15T03:26:11.772298",
     "status": "completed"
    },
    "tags": []
   },
   "source": [
    "Now that we've got a trained model, we can prepare a submission to Kaggle. To do that, first we need to read the test set:"
   ]
  },
  {
   "cell_type": "code",
   "execution_count": 51,
   "id": "cb7f446d",
   "metadata": {
    "execution": {
     "iopub.execute_input": "2024-02-15T03:26:12.325802Z",
     "iopub.status.busy": "2024-02-15T03:26:12.325503Z",
     "iopub.status.idle": "2024-02-15T03:26:12.339759Z",
     "shell.execute_reply": "2024-02-15T03:26:12.338597Z"
    },
    "papermill": {
     "duration": 0.199729,
     "end_time": "2024-02-15T03:26:12.342346",
     "exception": false,
     "start_time": "2024-02-15T03:26:12.142617",
     "status": "completed"
    },
    "tags": []
   },
   "outputs": [],
   "source": [
    "tst_df = pd.read_csv(path/'test.csv')"
   ]
  },
  {
   "cell_type": "markdown",
   "id": "cbe9a7d7",
   "metadata": {
    "papermill": {
     "duration": 0.182638,
     "end_time": "2024-02-15T03:26:12.709820",
     "exception": false,
     "start_time": "2024-02-15T03:26:12.527182",
     "status": "completed"
    },
    "tags": []
   },
   "source": [
    "In this case, it turns out that the test set is missing `Fare` for one passenger. We'll just fill it with `0` to avoid problems:"
   ]
  },
  {
   "cell_type": "code",
   "execution_count": 52,
   "id": "408d0ef7",
   "metadata": {
    "execution": {
     "iopub.execute_input": "2024-02-15T03:26:13.070781Z",
     "iopub.status.busy": "2024-02-15T03:26:13.070284Z",
     "iopub.status.idle": "2024-02-15T03:26:13.077081Z",
     "shell.execute_reply": "2024-02-15T03:26:13.075685Z"
    },
    "papermill": {
     "duration": 0.192346,
     "end_time": "2024-02-15T03:26:13.079637",
     "exception": false,
     "start_time": "2024-02-15T03:26:12.887291",
     "status": "completed"
    },
    "tags": []
   },
   "outputs": [],
   "source": [
    "tst_df['Fare'] = tst_df.Fare.fillna(0)"
   ]
  },
  {
   "cell_type": "markdown",
   "id": "832237a6",
   "metadata": {
    "papermill": {
     "duration": 0.192407,
     "end_time": "2024-02-15T03:26:13.536808",
     "exception": false,
     "start_time": "2024-02-15T03:26:13.344401",
     "status": "completed"
    },
    "tags": []
   },
   "source": [
    "Now we can just copy the same steps we did to our training set and do the same exact things on our test set to preprocess the data:"
   ]
  },
  {
   "cell_type": "code",
   "execution_count": 53,
   "id": "150cdb8c",
   "metadata": {
    "execution": {
     "iopub.execute_input": "2024-02-15T03:26:13.912214Z",
     "iopub.status.busy": "2024-02-15T03:26:13.911743Z",
     "iopub.status.idle": "2024-02-15T03:26:13.935355Z",
     "shell.execute_reply": "2024-02-15T03:26:13.933947Z"
    },
    "papermill": {
     "duration": 0.218837,
     "end_time": "2024-02-15T03:26:13.938164",
     "exception": false,
     "start_time": "2024-02-15T03:26:13.719327",
     "status": "completed"
    },
    "tags": []
   },
   "outputs": [],
   "source": [
    "tst_df.fillna(modes, inplace=True)\n",
    "tst_df['LogFare'] = np.log(tst_df['Fare']+1)\n",
    "tst_df = pd.get_dummies(tst_df, columns=[\"Sex\",\"Pclass\",\"Embarked\"])\n",
    "\n",
    "tst_indep = tensor(tst_df[indep_cols].values, dtype=torch.float)\n",
    "tst_indep = tst_indep / vals"
   ]
  },
  {
   "cell_type": "markdown",
   "id": "1d4f0b2d",
   "metadata": {
    "papermill": {
     "duration": 0.186698,
     "end_time": "2024-02-15T03:26:14.311258",
     "exception": false,
     "start_time": "2024-02-15T03:26:14.124560",
     "status": "completed"
    },
    "tags": []
   },
   "source": [
    "Let's calculate our predictions of which passengers survived in the test set:"
   ]
  },
  {
   "cell_type": "code",
   "execution_count": 54,
   "id": "4c509dff",
   "metadata": {
    "execution": {
     "iopub.execute_input": "2024-02-15T03:26:14.684799Z",
     "iopub.status.busy": "2024-02-15T03:26:14.684151Z",
     "iopub.status.idle": "2024-02-15T03:26:14.689815Z",
     "shell.execute_reply": "2024-02-15T03:26:14.688917Z"
    },
    "papermill": {
     "duration": 0.191408,
     "end_time": "2024-02-15T03:26:14.692632",
     "exception": false,
     "start_time": "2024-02-15T03:26:14.501224",
     "status": "completed"
    },
    "tags": []
   },
   "outputs": [],
   "source": [
    "tst_df['Survived'] = (calc_preds(tst_indep, coeffs)>0.5).int()"
   ]
  },
  {
   "cell_type": "markdown",
   "id": "49267dfc",
   "metadata": {
    "papermill": {
     "duration": 0.188657,
     "end_time": "2024-02-15T03:26:15.066864",
     "exception": false,
     "start_time": "2024-02-15T03:26:14.878207",
     "status": "completed"
    },
    "tags": []
   },
   "source": [
    "The sample submission on the Kaggle competition site shows that we're expected to upload a CSV with just `PassengerId` and `Survived`, so let's create that and save it:"
   ]
  },
  {
   "cell_type": "code",
   "execution_count": 55,
   "id": "61f7400f",
   "metadata": {
    "execution": {
     "iopub.execute_input": "2024-02-15T03:26:15.464460Z",
     "iopub.status.busy": "2024-02-15T03:26:15.463837Z",
     "iopub.status.idle": "2024-02-15T03:26:15.476228Z",
     "shell.execute_reply": "2024-02-15T03:26:15.475484Z"
    },
    "papermill": {
     "duration": 0.215224,
     "end_time": "2024-02-15T03:26:15.478832",
     "exception": false,
     "start_time": "2024-02-15T03:26:15.263608",
     "status": "completed"
    },
    "tags": []
   },
   "outputs": [],
   "source": [
    "sub_df = tst_df[['PassengerId','Survived']]\n",
    "sub_df.to_csv('sub.csv', index=False)"
   ]
  },
  {
   "cell_type": "markdown",
   "id": "0609d4c0",
   "metadata": {
    "papermill": {
     "duration": 0.188292,
     "end_time": "2024-02-15T03:26:15.859770",
     "exception": false,
     "start_time": "2024-02-15T03:26:15.671478",
     "status": "completed"
    },
    "tags": []
   },
   "source": [
    "We can check the first few rows of the file to make sure it looks reasonable:"
   ]
  },
  {
   "cell_type": "code",
   "execution_count": 56,
   "id": "60616deb",
   "metadata": {
    "execution": {
     "iopub.execute_input": "2024-02-15T03:26:16.237173Z",
     "iopub.status.busy": "2024-02-15T03:26:16.236594Z",
     "iopub.status.idle": "2024-02-15T03:26:17.359718Z",
     "shell.execute_reply": "2024-02-15T03:26:17.358466Z"
    },
    "papermill": {
     "duration": 1.311709,
     "end_time": "2024-02-15T03:26:17.362349",
     "exception": false,
     "start_time": "2024-02-15T03:26:16.050640",
     "status": "completed"
    },
    "tags": []
   },
   "outputs": [
    {
     "name": "stdout",
     "output_type": "stream",
     "text": [
      "PassengerId,Survived\r\n",
      "892,0\r\n",
      "893,0\r\n",
      "894,0\r\n",
      "895,0\r\n",
      "896,0\r\n",
      "897,0\r\n",
      "898,1\r\n",
      "899,0\r\n",
      "900,1\r\n"
     ]
    }
   ],
   "source": [
    "!head sub.csv"
   ]
  },
  {
   "cell_type": "markdown",
   "id": "bd53ec82",
   "metadata": {
    "papermill": {
     "duration": 0.175912,
     "end_time": "2024-02-15T03:26:17.723048",
     "exception": false,
     "start_time": "2024-02-15T03:26:17.547136",
     "status": "completed"
    },
    "tags": []
   },
   "source": [
    "When you click \"save version\" in Kaggle, and wait for the notebook to run, you'll see that `sub.csv` appears in the \"Data\" tab. Clicking on that file will show a *Submit* button, which allows you to submit to the competition."
   ]
  },
  {
   "cell_type": "markdown",
   "id": "693a7453",
   "metadata": {
    "papermill": {
     "duration": 0.187851,
     "end_time": "2024-02-15T03:26:18.087995",
     "exception": false,
     "start_time": "2024-02-15T03:26:17.900144",
     "status": "completed"
    },
    "tags": []
   },
   "source": [
    "## Using matrix product"
   ]
  },
  {
   "cell_type": "markdown",
   "id": "a1058af0",
   "metadata": {
    "papermill": {
     "duration": 0.184228,
     "end_time": "2024-02-15T03:26:18.451956",
     "exception": false,
     "start_time": "2024-02-15T03:26:18.267728",
     "status": "completed"
    },
    "tags": []
   },
   "source": [
    "We can make things quite a bit neater...\n",
    "\n",
    "Take a look at the inner-most calculation we're doing to get the predictions:"
   ]
  },
  {
   "cell_type": "code",
   "execution_count": 57,
   "id": "f8b9772d",
   "metadata": {
    "execution": {
     "iopub.execute_input": "2024-02-15T03:26:18.819850Z",
     "iopub.status.busy": "2024-02-15T03:26:18.819162Z",
     "iopub.status.idle": "2024-02-15T03:26:18.829635Z",
     "shell.execute_reply": "2024-02-15T03:26:18.828860Z"
    },
    "papermill": {
     "duration": 0.198779,
     "end_time": "2024-02-15T03:26:18.831856",
     "exception": false,
     "start_time": "2024-02-15T03:26:18.633077",
     "status": "completed"
    },
    "tags": []
   },
   "outputs": [
    {
     "data": {
      "text/plain": [
       "tensor([ 12.3288, -14.8119, -15.4540, -13.1513, -13.3512, -13.6469,   3.6248,   5.3429, -22.0878,   3.1233, -21.8742, -15.6421, -21.5504,\n",
       "          3.9393, -21.9190, -12.0010, -12.3775,   5.3550, -13.5880,  -3.1015, -21.7237, -12.2081,  12.9767,   4.7427, -21.6525, -14.9135,\n",
       "         -2.7433, -12.3210, -21.5886,   3.9387,   5.3890,  -3.6196, -21.6296, -21.8454,  12.2159,  -3.2275, -12.0289,  13.4560, -21.7230,\n",
       "         -3.1366, -13.2462, -21.7230, -13.6831,  13.3092, -21.6477,  -3.5868, -21.6854, -21.8316, -14.8158,  -2.9386,  -5.3103, -22.2384,\n",
       "        -22.1097, -21.7466, -13.3780, -13.4909, -14.8119, -22.0690, -21.6666, -21.7818,  -5.4439, -21.7407, -12.6551, -21.6671,   4.9238,\n",
       "        -11.5777, -13.3323, -21.9638, -15.3030,   5.0243, -21.7614,   3.1820, -13.4721, -21.7170, -11.6066, -21.5737, -21.7230, -11.9652,\n",
       "        -13.2382, -13.7599, -13.2170,  13.1347, -21.7049, -21.7268,   4.9207,  -7.3198,  -5.3081,   7.1065,  11.4948, -13.3135, -21.8723,\n",
       "        -21.7230,  13.3603, -15.5670,   3.4105,  -7.2857, -13.7197,   3.6909,   3.9763, -14.7227, -21.8268,   3.9387, -21.8743, -21.8367,\n",
       "        -11.8518, -13.6712, -21.8299,   4.9440,  -5.4471, -21.9666,   5.1333,  -3.2187, -11.6008,  13.7920, -21.7230,  12.6369,  -3.7268,\n",
       "        -14.8119, -22.0637,  12.9468, -22.1610,  -6.1827, -14.8119,  -3.2838, -15.4540, -11.6950,  -2.9926,  -3.0110, -21.5664, -13.8268,\n",
       "          7.3426, -21.8418,   5.0744,   5.2582,  13.3415, -21.6289, -13.9898, -21.8112,  -7.3316,   5.2296, -13.4453,  12.7891, -22.1235,\n",
       "        -14.9625,  -3.4339,   6.3089, -21.9839,   3.1968,   7.2400,   2.8558,  -3.1187,   3.7965,   5.4667, -15.1101, -15.0597, -22.9391,\n",
       "        -21.7230,  -3.0346, -13.5206, -21.7011,  13.4425,  -7.2690, -21.8335, -12.0582,  13.0489,   6.7993,   5.2160,   5.0794, -12.6957,\n",
       "        -12.1838,  -3.0873, -21.6070,   7.0744, -21.7170, -22.1001,   6.8159, -11.6002, -21.6310])"
      ]
     },
     "execution_count": 57,
     "metadata": {},
     "output_type": "execute_result"
    }
   ],
   "source": [
    "(val_indep*coeffs).sum(axis=1)"
   ]
  },
  {
   "cell_type": "markdown",
   "id": "daec510a",
   "metadata": {
    "papermill": {
     "duration": 0.186551,
     "end_time": "2024-02-15T03:26:19.204706",
     "exception": false,
     "start_time": "2024-02-15T03:26:19.018155",
     "status": "completed"
    },
    "tags": []
   },
   "source": [
    "Multiplying elements together and then adding across rows is identical to doing a matrix-vector product! Python uses the `@` operator to indicate matrix products, and is supported by PyTorch tensors. Therefore, we can replicate the above calculate more simply like so:"
   ]
  },
  {
   "cell_type": "code",
   "execution_count": 58,
   "id": "80e5ac36",
   "metadata": {
    "execution": {
     "iopub.execute_input": "2024-02-15T03:26:19.588506Z",
     "iopub.status.busy": "2024-02-15T03:26:19.588168Z",
     "iopub.status.idle": "2024-02-15T03:26:19.603389Z",
     "shell.execute_reply": "2024-02-15T03:26:19.602679Z"
    },
    "papermill": {
     "duration": 0.206895,
     "end_time": "2024-02-15T03:26:19.606192",
     "exception": false,
     "start_time": "2024-02-15T03:26:19.399297",
     "status": "completed"
    },
    "tags": []
   },
   "outputs": [
    {
     "data": {
      "text/plain": [
       "tensor([ 12.3288, -14.8119, -15.4540, -13.1513, -13.3511, -13.6468,   3.6248,   5.3429, -22.0878,   3.1233, -21.8742, -15.6421, -21.5504,\n",
       "          3.9393, -21.9190, -12.0010, -12.3775,   5.3550, -13.5880,  -3.1015, -21.7237, -12.2081,  12.9767,   4.7427, -21.6525, -14.9135,\n",
       "         -2.7433, -12.3210, -21.5886,   3.9387,   5.3890,  -3.6196, -21.6296, -21.8454,  12.2159,  -3.2275, -12.0289,  13.4560, -21.7230,\n",
       "         -3.1366, -13.2462, -21.7230, -13.6831,  13.3092, -21.6477,  -3.5868, -21.6854, -21.8316, -14.8158,  -2.9386,  -5.3103, -22.2384,\n",
       "        -22.1097, -21.7466, -13.3780, -13.4909, -14.8119, -22.0690, -21.6666, -21.7818,  -5.4439, -21.7407, -12.6551, -21.6671,   4.9238,\n",
       "        -11.5777, -13.3323, -21.9638, -15.3030,   5.0243, -21.7614,   3.1820, -13.4721, -21.7170, -11.6066, -21.5737, -21.7230, -11.9652,\n",
       "        -13.2382, -13.7599, -13.2170,  13.1347, -21.7049, -21.7268,   4.9207,  -7.3198,  -5.3081,   7.1065,  11.4948, -13.3135, -21.8723,\n",
       "        -21.7230,  13.3603, -15.5670,   3.4105,  -7.2857, -13.7197,   3.6909,   3.9763, -14.7227, -21.8268,   3.9387, -21.8743, -21.8367,\n",
       "        -11.8518, -13.6712, -21.8299,   4.9440,  -5.4471, -21.9666,   5.1333,  -3.2187, -11.6008,  13.7920, -21.7230,  12.6369,  -3.7268,\n",
       "        -14.8119, -22.0637,  12.9468, -22.1610,  -6.1827, -14.8119,  -3.2838, -15.4540, -11.6950,  -2.9926,  -3.0110, -21.5664, -13.8268,\n",
       "          7.3426, -21.8418,   5.0744,   5.2582,  13.3415, -21.6289, -13.9898, -21.8112,  -7.3316,   5.2296, -13.4453,  12.7891, -22.1235,\n",
       "        -14.9625,  -3.4339,   6.3089, -21.9839,   3.1968,   7.2400,   2.8558,  -3.1187,   3.7965,   5.4667, -15.1101, -15.0597, -22.9391,\n",
       "        -21.7230,  -3.0346, -13.5206, -21.7011,  13.4425,  -7.2690, -21.8335, -12.0582,  13.0489,   6.7993,   5.2160,   5.0794, -12.6957,\n",
       "        -12.1838,  -3.0873, -21.6070,   7.0744, -21.7170, -22.1001,   6.8159, -11.6002, -21.6310])"
      ]
     },
     "execution_count": 58,
     "metadata": {},
     "output_type": "execute_result"
    }
   ],
   "source": [
    "val_indep@coeffs"
   ]
  },
  {
   "cell_type": "markdown",
   "id": "11cf6f36",
   "metadata": {
    "papermill": {
     "duration": 0.188499,
     "end_time": "2024-02-15T03:26:19.984075",
     "exception": false,
     "start_time": "2024-02-15T03:26:19.795576",
     "status": "completed"
    },
    "tags": []
   },
   "source": [
    "It also turns out that this is much faster, because matrix products in PyTorch are very highly optimised.\n",
    "\n",
    "Let's use this to replace how `calc_preds` works:"
   ]
  },
  {
   "cell_type": "code",
   "execution_count": 59,
   "id": "53df3b87",
   "metadata": {
    "execution": {
     "iopub.execute_input": "2024-02-15T03:26:20.360892Z",
     "iopub.status.busy": "2024-02-15T03:26:20.360184Z",
     "iopub.status.idle": "2024-02-15T03:26:20.364674Z",
     "shell.execute_reply": "2024-02-15T03:26:20.363994Z"
    },
    "papermill": {
     "duration": 0.192699,
     "end_time": "2024-02-15T03:26:20.366873",
     "exception": false,
     "start_time": "2024-02-15T03:26:20.174174",
     "status": "completed"
    },
    "tags": []
   },
   "outputs": [],
   "source": [
    "def calc_preds(coeffs, indeps): return torch.sigmoid(indeps@coeffs)"
   ]
  },
  {
   "cell_type": "markdown",
   "id": "8f12a394",
   "metadata": {
    "papermill": {
     "duration": 0.209237,
     "end_time": "2024-02-15T03:26:20.768802",
     "exception": false,
     "start_time": "2024-02-15T03:26:20.559565",
     "status": "completed"
    },
    "tags": []
   },
   "source": [
    "In order to do matrix-matrix products (which we'll need in the next section), we need to turn `coeffs` into a column vector (i.e. a matrix with a single column), which we can do by passing a second argument `1` to `torch.rand()`, indicating that we want our coefficients to have one column:"
   ]
  },
  {
   "cell_type": "code",
   "execution_count": 60,
   "id": "bd495499",
   "metadata": {
    "execution": {
     "iopub.execute_input": "2024-02-15T03:26:21.148941Z",
     "iopub.status.busy": "2024-02-15T03:26:21.148485Z",
     "iopub.status.idle": "2024-02-15T03:26:21.153184Z",
     "shell.execute_reply": "2024-02-15T03:26:21.152517Z"
    },
    "papermill": {
     "duration": 0.199289,
     "end_time": "2024-02-15T03:26:21.155534",
     "exception": false,
     "start_time": "2024-02-15T03:26:20.956245",
     "status": "completed"
    },
    "tags": []
   },
   "outputs": [],
   "source": [
    "def init_coeffs(): return (torch.rand(n_coeff, 1)*0.1).requires_grad_()"
   ]
  },
  {
   "cell_type": "markdown",
   "id": "ac453881",
   "metadata": {
    "papermill": {
     "duration": 0.184591,
     "end_time": "2024-02-15T03:26:21.529356",
     "exception": false,
     "start_time": "2024-02-15T03:26:21.344765",
     "status": "completed"
    },
    "tags": []
   },
   "source": [
    "We'll also need to turn our dependent variable into a column vector, which we can do by indexing the column dimension with the special value `None`, which tells PyTorch to add a new dimension in this position:"
   ]
  },
  {
   "cell_type": "code",
   "execution_count": 61,
   "id": "c3668b82",
   "metadata": {
    "execution": {
     "iopub.execute_input": "2024-02-15T03:26:21.894415Z",
     "iopub.status.busy": "2024-02-15T03:26:21.893956Z",
     "iopub.status.idle": "2024-02-15T03:26:21.898277Z",
     "shell.execute_reply": "2024-02-15T03:26:21.897357Z"
    },
    "papermill": {
     "duration": 0.187248,
     "end_time": "2024-02-15T03:26:21.900731",
     "exception": false,
     "start_time": "2024-02-15T03:26:21.713483",
     "status": "completed"
    },
    "tags": []
   },
   "outputs": [],
   "source": [
    "trn_dep = trn_dep[:,None]\n",
    "val_dep = val_dep[:,None]"
   ]
  },
  {
   "cell_type": "markdown",
   "id": "12abb4b2",
   "metadata": {
    "papermill": {
     "duration": 0.186041,
     "end_time": "2024-02-15T03:26:22.274324",
     "exception": false,
     "start_time": "2024-02-15T03:26:22.088283",
     "status": "completed"
    },
    "tags": []
   },
   "source": [
    "We can now train our model as before and confirm we get identical outputs...:"
   ]
  },
  {
   "cell_type": "code",
   "execution_count": 62,
   "id": "27e2158b",
   "metadata": {
    "execution": {
     "iopub.execute_input": "2024-02-15T03:26:22.650732Z",
     "iopub.status.busy": "2024-02-15T03:26:22.650192Z",
     "iopub.status.idle": "2024-02-15T03:26:22.676649Z",
     "shell.execute_reply": "2024-02-15T03:26:22.675726Z"
    },
    "papermill": {
     "duration": 0.219624,
     "end_time": "2024-02-15T03:26:22.679179",
     "exception": false,
     "start_time": "2024-02-15T03:26:22.459555",
     "status": "completed"
    },
    "tags": []
   },
   "outputs": [
    {
     "name": "stdout",
     "output_type": "stream",
     "text": [
      "0.512; 0.323; 0.290; 0.205; 0.200; 0.198; 0.197; 0.197; 0.196; 0.196; 0.196; 0.195; 0.195; 0.195; 0.195; 0.195; 0.195; 0.194; 0.194; 0.194; 0.194; 0.194; 0.194; 0.194; 0.194; 0.194; 0.194; 0.194; 0.194; 0.194; "
     ]
    }
   ],
   "source": [
    "coeffs = train_model(lr=100)"
   ]
  },
  {
   "cell_type": "markdown",
   "id": "a9e12097",
   "metadata": {
    "papermill": {
     "duration": 0.194941,
     "end_time": "2024-02-15T03:26:23.062644",
     "exception": false,
     "start_time": "2024-02-15T03:26:22.867703",
     "status": "completed"
    },
    "tags": []
   },
   "source": [
    "...and identical accuracy:"
   ]
  },
  {
   "cell_type": "code",
   "execution_count": 63,
   "id": "b7a5818b",
   "metadata": {
    "execution": {
     "iopub.execute_input": "2024-02-15T03:26:23.450154Z",
     "iopub.status.busy": "2024-02-15T03:26:23.449789Z",
     "iopub.status.idle": "2024-02-15T03:26:23.459937Z",
     "shell.execute_reply": "2024-02-15T03:26:23.458691Z"
    },
    "papermill": {
     "duration": 0.20842,
     "end_time": "2024-02-15T03:26:23.463180",
     "exception": false,
     "start_time": "2024-02-15T03:26:23.254760",
     "status": "completed"
    },
    "tags": []
   },
   "outputs": [
    {
     "data": {
      "text/plain": [
       "tensor(0.8258)"
      ]
     },
     "execution_count": 63,
     "metadata": {},
     "output_type": "execute_result"
    }
   ],
   "source": [
    "acc(coeffs)"
   ]
  },
  {
   "cell_type": "markdown",
   "id": "4b91702a",
   "metadata": {
    "papermill": {
     "duration": 0.185398,
     "end_time": "2024-02-15T03:26:23.841495",
     "exception": false,
     "start_time": "2024-02-15T03:26:23.656097",
     "status": "completed"
    },
    "tags": []
   },
   "source": [
    "## A neural network"
   ]
  },
  {
   "cell_type": "markdown",
   "id": "55f06567",
   "metadata": {
    "papermill": {
     "duration": 0.181632,
     "end_time": "2024-02-15T03:26:24.213701",
     "exception": false,
     "start_time": "2024-02-15T03:26:24.032069",
     "status": "completed"
    },
    "tags": []
   },
   "source": [
    "We've now got what we need to implement our neural network.\n",
    "\n",
    "First, we'll need to create coefficients for each of our layers. Our first set of coefficients will take our `n_coeff` inputs, and create `n_hidden` outputs. We can choose whatever `n_hidden` we like -- a higher number gives our network more flexibility, but makes it slower and harder to train. So we need a matrix of size `n_coeff` by `n_hidden`. We'll divide these coefficients by `n_hidden` so that when we sum them up in the next layer we'll end up with similar magnitude numbers to what we started with.\n",
    "\n",
    "Then our second layer will need to take the `n_hidden` inputs and create a single output, so that means we need a `n_hidden` by `1` matrix there. The second layer will also need a constant term added."
   ]
  },
  {
   "cell_type": "code",
   "execution_count": 64,
   "id": "7b6261dd",
   "metadata": {
    "execution": {
     "iopub.execute_input": "2024-02-15T03:26:24.593789Z",
     "iopub.status.busy": "2024-02-15T03:26:24.593471Z",
     "iopub.status.idle": "2024-02-15T03:26:24.600852Z",
     "shell.execute_reply": "2024-02-15T03:26:24.599348Z"
    },
    "papermill": {
     "duration": 0.201633,
     "end_time": "2024-02-15T03:26:24.603216",
     "exception": false,
     "start_time": "2024-02-15T03:26:24.401583",
     "status": "completed"
    },
    "tags": []
   },
   "outputs": [],
   "source": [
    "def init_coeffs(n_hidden=20):\n",
    "    layer1 = (torch.rand(n_coeff, n_hidden)-0.5)/n_hidden\n",
    "    layer2 = torch.rand(n_hidden, 1)-0.3\n",
    "    const = torch.rand(1)[0]\n",
    "    return layer1.requires_grad_(),layer2.requires_grad_(),const.requires_grad_()"
   ]
  },
  {
   "cell_type": "markdown",
   "id": "872e6018",
   "metadata": {
    "papermill": {
     "duration": 0.182161,
     "end_time": "2024-02-15T03:26:24.966987",
     "exception": false,
     "start_time": "2024-02-15T03:26:24.784826",
     "status": "completed"
    },
    "tags": []
   },
   "source": [
    "Now we have our coefficients, we can create our neural net. The key steps are the two matrix products, `indeps@l1` and `res@l2` (where `res` is the output of the first layer). The first layer output is passed to `F.relu` (that's our non-linearity), and the second is passed to `torch.sigmoid` as before."
   ]
  },
  {
   "cell_type": "code",
   "execution_count": 65,
   "id": "4b4fc548",
   "metadata": {
    "execution": {
     "iopub.execute_input": "2024-02-15T03:26:25.326719Z",
     "iopub.status.busy": "2024-02-15T03:26:25.326387Z",
     "iopub.status.idle": "2024-02-15T03:26:25.332325Z",
     "shell.execute_reply": "2024-02-15T03:26:25.331581Z"
    },
    "papermill": {
     "duration": 0.18731,
     "end_time": "2024-02-15T03:26:25.334660",
     "exception": false,
     "start_time": "2024-02-15T03:26:25.147350",
     "status": "completed"
    },
    "tags": []
   },
   "outputs": [],
   "source": [
    "import torch.nn.functional as F\n",
    "\n",
    "def calc_preds(coeffs, indeps):\n",
    "    l1,l2,const = coeffs\n",
    "    res = F.relu(indeps@l1)\n",
    "    res = res@l2 + const\n",
    "    return torch.sigmoid(res)"
   ]
  },
  {
   "cell_type": "markdown",
   "id": "2e899615",
   "metadata": {
    "papermill": {
     "duration": 0.178296,
     "end_time": "2024-02-15T03:26:25.701656",
     "exception": false,
     "start_time": "2024-02-15T03:26:25.523360",
     "status": "completed"
    },
    "tags": []
   },
   "source": [
    "Finally, now that we have more than one set of coefficients, we need to add a loop to update each one:"
   ]
  },
  {
   "cell_type": "code",
   "execution_count": 66,
   "id": "e0a39d04",
   "metadata": {
    "execution": {
     "iopub.execute_input": "2024-02-15T03:26:26.070369Z",
     "iopub.status.busy": "2024-02-15T03:26:26.070040Z",
     "iopub.status.idle": "2024-02-15T03:26:26.074943Z",
     "shell.execute_reply": "2024-02-15T03:26:26.074026Z"
    },
    "papermill": {
     "duration": 0.196626,
     "end_time": "2024-02-15T03:26:26.077320",
     "exception": false,
     "start_time": "2024-02-15T03:26:25.880694",
     "status": "completed"
    },
    "tags": []
   },
   "outputs": [],
   "source": [
    "def update_coeffs(coeffs, lr):\n",
    "    for layer in coeffs:\n",
    "        layer.sub_(layer.grad * lr)\n",
    "        layer.grad.zero_()"
   ]
  },
  {
   "cell_type": "markdown",
   "id": "28e82bb3",
   "metadata": {
    "papermill": {
     "duration": 0.187207,
     "end_time": "2024-02-15T03:26:26.451892",
     "exception": false,
     "start_time": "2024-02-15T03:26:26.264685",
     "status": "completed"
    },
    "tags": []
   },
   "source": [
    "That's it -- we're now ready to train our model!"
   ]
  },
  {
   "cell_type": "code",
   "execution_count": 67,
   "id": "2bd64cfb",
   "metadata": {
    "execution": {
     "iopub.execute_input": "2024-02-15T03:26:26.823209Z",
     "iopub.status.busy": "2024-02-15T03:26:26.822834Z",
     "iopub.status.idle": "2024-02-15T03:26:26.865185Z",
     "shell.execute_reply": "2024-02-15T03:26:26.864050Z"
    },
    "papermill": {
     "duration": 0.227432,
     "end_time": "2024-02-15T03:26:26.867683",
     "exception": false,
     "start_time": "2024-02-15T03:26:26.640251",
     "status": "completed"
    },
    "tags": []
   },
   "outputs": [
    {
     "name": "stdout",
     "output_type": "stream",
     "text": [
      "0.543; 0.532; 0.520; 0.505; 0.487; 0.466; 0.439; 0.407; 0.373; 0.343; 0.319; 0.301; 0.286; 0.274; 0.264; 0.256; 0.250; 0.245; 0.240; 0.237; 0.234; 0.231; 0.229; 0.227; 0.226; 0.224; 0.223; 0.222; 0.221; 0.220; "
     ]
    }
   ],
   "source": [
    "coeffs = train_model(lr=1.4)"
   ]
  },
  {
   "cell_type": "code",
   "execution_count": 68,
   "id": "20ff77d4",
   "metadata": {
    "execution": {
     "iopub.execute_input": "2024-02-15T03:26:27.281786Z",
     "iopub.status.busy": "2024-02-15T03:26:27.281396Z",
     "iopub.status.idle": "2024-02-15T03:26:27.310569Z",
     "shell.execute_reply": "2024-02-15T03:26:27.309670Z"
    },
    "papermill": {
     "duration": 0.24168,
     "end_time": "2024-02-15T03:26:27.312928",
     "exception": false,
     "start_time": "2024-02-15T03:26:27.071248",
     "status": "completed"
    },
    "tags": []
   },
   "outputs": [
    {
     "name": "stdout",
     "output_type": "stream",
     "text": [
      "0.543; 0.400; 0.260; 0.390; 0.221; 0.211; 0.197; 0.195; 0.193; 0.193; 0.193; 0.193; 0.193; 0.193; 0.193; 0.193; 0.193; 0.192; 0.192; 0.192; 0.192; 0.192; 0.192; 0.192; 0.192; 0.192; 0.192; 0.192; 0.192; 0.192; "
     ]
    }
   ],
   "source": [
    "coeffs = train_model(lr=20)"
   ]
  },
  {
   "cell_type": "markdown",
   "id": "c75182e2",
   "metadata": {
    "papermill": {
     "duration": 0.190654,
     "end_time": "2024-02-15T03:26:27.701515",
     "exception": false,
     "start_time": "2024-02-15T03:26:27.510861",
     "status": "completed"
    },
    "tags": []
   },
   "source": [
    "It's looking good -- our loss is lower than before. Let's see if that translates to a better result on the validation set:"
   ]
  },
  {
   "cell_type": "code",
   "execution_count": 69,
   "id": "de5de64a",
   "metadata": {
    "execution": {
     "iopub.execute_input": "2024-02-15T03:26:28.082429Z",
     "iopub.status.busy": "2024-02-15T03:26:28.081840Z",
     "iopub.status.idle": "2024-02-15T03:26:28.089265Z",
     "shell.execute_reply": "2024-02-15T03:26:28.088381Z"
    },
    "papermill": {
     "duration": 0.205324,
     "end_time": "2024-02-15T03:26:28.091832",
     "exception": false,
     "start_time": "2024-02-15T03:26:27.886508",
     "status": "completed"
    },
    "tags": []
   },
   "outputs": [
    {
     "data": {
      "text/plain": [
       "tensor(0.8258)"
      ]
     },
     "execution_count": 69,
     "metadata": {},
     "output_type": "execute_result"
    }
   ],
   "source": [
    "acc(coeffs)"
   ]
  },
  {
   "cell_type": "markdown",
   "id": "5bbab8d2",
   "metadata": {
    "papermill": {
     "duration": 0.195153,
     "end_time": "2024-02-15T03:26:28.479782",
     "exception": false,
     "start_time": "2024-02-15T03:26:28.284629",
     "status": "completed"
    },
    "tags": []
   },
   "source": [
    "In this case our neural net isn't showing better results than the linear model. That's not surprising; this dataset is very small and very simple, and isn't the kind of thing we'd expect to see neural networks excel at. Furthermore, our validation set is too small to reliably see much accuracy difference. But the key thing is that we now know exactly what a real neural net looks like!"
   ]
  },
  {
   "cell_type": "markdown",
   "id": "7e7396e7",
   "metadata": {
    "papermill": {
     "duration": 0.191623,
     "end_time": "2024-02-15T03:26:28.858160",
     "exception": false,
     "start_time": "2024-02-15T03:26:28.666537",
     "status": "completed"
    },
    "tags": []
   },
   "source": [
    "## Deep learning"
   ]
  },
  {
   "cell_type": "markdown",
   "id": "b1d30465",
   "metadata": {
    "papermill": {
     "duration": 0.192639,
     "end_time": "2024-02-15T03:26:29.248185",
     "exception": false,
     "start_time": "2024-02-15T03:26:29.055546",
     "status": "completed"
    },
    "tags": []
   },
   "source": [
    "The neural net in the previous section only uses one hidden layer, so it doesn't count as \"deep\" learning. But we can use the exact same technique to make our neural net deep, by adding more matrix multiplications.\n",
    "\n",
    "First, we'll need to create additional coefficients for each layer:"
   ]
  },
  {
   "cell_type": "code",
   "execution_count": null,
   "id": "2f3a03f2",
   "metadata": {
    "papermill": {
     "duration": 0.193186,
     "end_time": "2024-02-15T03:26:29.636076",
     "exception": false,
     "start_time": "2024-02-15T03:26:29.442890",
     "status": "completed"
    },
    "tags": []
   },
   "outputs": [],
   "source": []
  },
  {
   "cell_type": "code",
   "execution_count": null,
   "id": "becb813f",
   "metadata": {
    "papermill": {
     "duration": 0.191019,
     "end_time": "2024-02-15T03:26:30.024292",
     "exception": false,
     "start_time": "2024-02-15T03:26:29.833273",
     "status": "completed"
    },
    "tags": []
   },
   "outputs": [],
   "source": []
  },
  {
   "cell_type": "code",
   "execution_count": 70,
   "id": "4a8c83d4",
   "metadata": {
    "execution": {
     "iopub.execute_input": "2024-02-15T03:26:30.417939Z",
     "iopub.status.busy": "2024-02-15T03:26:30.417653Z",
     "iopub.status.idle": "2024-02-15T03:26:30.427571Z",
     "shell.execute_reply": "2024-02-15T03:26:30.426506Z"
    },
    "papermill": {
     "duration": 0.203822,
     "end_time": "2024-02-15T03:26:30.429921",
     "exception": false,
     "start_time": "2024-02-15T03:26:30.226099",
     "status": "completed"
    },
    "tags": []
   },
   "outputs": [],
   "source": [
    "def init_coeffs():\n",
    "    hiddens = [10, 10]  # <-- set this to the size of each hidden layer you want\n",
    "    sizes = [n_coeff] + hiddens + [1]\n",
    "    n = len(sizes)\n",
    "    layers = [(torch.rand(sizes[i], sizes[i+1])-0.3)/sizes[i+1]*4 for i in range(n-1)]\n",
    "    consts = [(torch.rand(1)[0]-0.5)*0.1 for i in range(n-1)]\n",
    "    for l in layers+consts: l.requires_grad_()\n",
    "    return layers,consts"
   ]
  },
  {
   "cell_type": "markdown",
   "id": "02e534f0",
   "metadata": {
    "papermill": {
     "duration": 0.222636,
     "end_time": "2024-02-15T03:26:30.853570",
     "exception": false,
     "start_time": "2024-02-15T03:26:30.630934",
     "status": "completed"
    },
    "tags": []
   },
   "source": [
    "You'll notice here that there's a lot of messy constants to get the random numbers in just the right ranges. When you train the model in a moment, you'll see that the tiniest changes to these initialisations can cause our model to fail to train at all! This is a key reason that deep learning failed to make much progress in the early days -- it's very finicky to get a good starting point for our coefficients. Nowadays, we have ways to deal with that, which we'll learn about in other notebooks.\n",
    "\n",
    "Our deep learning `calc_preds` looks much the same as before, but now we loop through each layer, instead of listing them separately:"
   ]
  },
  {
   "cell_type": "code",
   "execution_count": 71,
   "id": "7edc8002",
   "metadata": {
    "execution": {
     "iopub.execute_input": "2024-02-15T03:26:31.260494Z",
     "iopub.status.busy": "2024-02-15T03:26:31.260130Z",
     "iopub.status.idle": "2024-02-15T03:26:31.267756Z",
     "shell.execute_reply": "2024-02-15T03:26:31.266332Z"
    },
    "papermill": {
     "duration": 0.216552,
     "end_time": "2024-02-15T03:26:31.270665",
     "exception": false,
     "start_time": "2024-02-15T03:26:31.054113",
     "status": "completed"
    },
    "tags": []
   },
   "outputs": [],
   "source": [
    "import torch.nn.functional as F\n",
    "\n",
    "def calc_preds(coeffs, indeps):\n",
    "    layers,consts = coeffs\n",
    "    n = len(layers)\n",
    "    res = indeps\n",
    "    for i,l in enumerate(layers):\n",
    "        res = res@l + consts[i]\n",
    "        if i!=n-1: res = F.relu(res)\n",
    "    return torch.sigmoid(res)"
   ]
  },
  {
   "cell_type": "markdown",
   "id": "a6bd0d3f",
   "metadata": {
    "papermill": {
     "duration": 0.191054,
     "end_time": "2024-02-15T03:26:31.657693",
     "exception": false,
     "start_time": "2024-02-15T03:26:31.466639",
     "status": "completed"
    },
    "tags": []
   },
   "source": [
    "We also need a minor update to `update_coeffs` since we've got `layers` and `consts` separated now:"
   ]
  },
  {
   "cell_type": "code",
   "execution_count": 72,
   "id": "5cff500d",
   "metadata": {
    "execution": {
     "iopub.execute_input": "2024-02-15T03:26:32.051222Z",
     "iopub.status.busy": "2024-02-15T03:26:32.050706Z",
     "iopub.status.idle": "2024-02-15T03:26:32.057027Z",
     "shell.execute_reply": "2024-02-15T03:26:32.055624Z"
    },
    "papermill": {
     "duration": 0.205266,
     "end_time": "2024-02-15T03:26:32.059507",
     "exception": false,
     "start_time": "2024-02-15T03:26:31.854241",
     "status": "completed"
    },
    "tags": []
   },
   "outputs": [],
   "source": [
    "def update_coeffs(coeffs, lr):\n",
    "    layers,consts = coeffs\n",
    "    for layer in layers+consts:\n",
    "        layer.sub_(layer.grad * lr)\n",
    "        layer.grad.zero_()"
   ]
  },
  {
   "cell_type": "markdown",
   "id": "a756ca7c",
   "metadata": {
    "papermill": {
     "duration": 0.187159,
     "end_time": "2024-02-15T03:26:32.443553",
     "exception": false,
     "start_time": "2024-02-15T03:26:32.256394",
     "status": "completed"
    },
    "tags": []
   },
   "source": [
    "Let's train our model..."
   ]
  },
  {
   "cell_type": "code",
   "execution_count": 73,
   "id": "d5bb07f7",
   "metadata": {
    "execution": {
     "iopub.execute_input": "2024-02-15T03:26:32.839158Z",
     "iopub.status.busy": "2024-02-15T03:26:32.838671Z",
     "iopub.status.idle": "2024-02-15T03:26:32.879288Z",
     "shell.execute_reply": "2024-02-15T03:26:32.878587Z"
    },
    "papermill": {
     "duration": 0.240888,
     "end_time": "2024-02-15T03:26:32.881734",
     "exception": false,
     "start_time": "2024-02-15T03:26:32.640846",
     "status": "completed"
    },
    "tags": []
   },
   "outputs": [
    {
     "name": "stdout",
     "output_type": "stream",
     "text": [
      "0.521; 0.483; 0.427; 0.379; 0.379; 0.379; 0.379; 0.378; 0.378; 0.378; 0.378; 0.378; 0.378; 0.378; 0.378; 0.378; 0.377; 0.376; 0.371; 0.333; 0.239; 0.224; 0.208; 0.204; 0.203; 0.203; 0.207; 0.197; 0.196; 0.195; "
     ]
    }
   ],
   "source": [
    "coeffs = train_model(lr=4)"
   ]
  },
  {
   "cell_type": "markdown",
   "id": "24da883f",
   "metadata": {
    "papermill": {
     "duration": 0.193037,
     "end_time": "2024-02-15T03:26:33.269052",
     "exception": false,
     "start_time": "2024-02-15T03:26:33.076015",
     "status": "completed"
    },
    "tags": []
   },
   "source": [
    "...and check its accuracy:"
   ]
  },
  {
   "cell_type": "code",
   "execution_count": 74,
   "id": "dd6b299f",
   "metadata": {
    "execution": {
     "iopub.execute_input": "2024-02-15T03:26:33.650387Z",
     "iopub.status.busy": "2024-02-15T03:26:33.649881Z",
     "iopub.status.idle": "2024-02-15T03:26:33.658286Z",
     "shell.execute_reply": "2024-02-15T03:26:33.656777Z"
    },
    "papermill": {
     "duration": 0.203193,
     "end_time": "2024-02-15T03:26:33.661014",
     "exception": false,
     "start_time": "2024-02-15T03:26:33.457821",
     "status": "completed"
    },
    "tags": []
   },
   "outputs": [
    {
     "data": {
      "text/plain": [
       "tensor(0.8258)"
      ]
     },
     "execution_count": 74,
     "metadata": {},
     "output_type": "execute_result"
    }
   ],
   "source": [
    "acc(coeffs)"
   ]
  },
  {
   "cell_type": "markdown",
   "id": "ce23d093",
   "metadata": {
    "papermill": {
     "duration": 0.192191,
     "end_time": "2024-02-15T03:26:34.046947",
     "exception": false,
     "start_time": "2024-02-15T03:26:33.854756",
     "status": "completed"
    },
    "tags": []
   },
   "source": [
    "## Final thoughts"
   ]
  },
  {
   "cell_type": "markdown",
   "id": "48e59803",
   "metadata": {
    "papermill": {
     "duration": 0.188159,
     "end_time": "2024-02-15T03:26:34.429181",
     "exception": false,
     "start_time": "2024-02-15T03:26:34.241022",
     "status": "completed"
    },
    "tags": []
   },
   "source": [
    "It's actually pretty cool that we've managed to create a real deep learning model from scratch and trained it to get over 80% accuracy on this task, all in the course of a single notebook!\n",
    "\n",
    "The \"real\" deep learning models that are used in research and industry look very similar to this, and in fact if you look inside the source code of any deep learning model you'll recognise the basic steps are the same.\n",
    "\n",
    "The biggest differences in practical models to what we have above are:\n",
    "\n",
    "- How initialisation and normalisation is done to ensure the model trains correctly every time\n",
    "- Regularization (to avoid over-fitting)\n",
    "- Modifying the neural net itself to take advantage of knowledge of the problem domain\n",
    "- Doing gradient descent steps on smaller batches, rather than the whole dataset.\n",
    "\n",
    "I'll be adding notebooks about all these later, and will add links here once they're ready.\n",
    "\n",
    "If you found this notebook useful, please remember to click the little up-arrow at the top to upvote it, since I like to know when people have found my work useful, and it helps others find it too. (BTW, be sure you're looking at my [original notebook here](https://www.kaggle.com/code/jhoward/linear-model-and-neural-net-from-scratch) when you do that, and are not on your own copy of it, otherwise your upvote won't get counted!) And if you have any questions or comments, please pop them below -- I read every comment I receive!"
   ]
  },
  {
   "cell_type": "code",
   "execution_count": null,
   "id": "d8141d92",
   "metadata": {
    "papermill": {
     "duration": 0.187709,
     "end_time": "2024-02-15T03:26:34.810891",
     "exception": false,
     "start_time": "2024-02-15T03:26:34.623182",
     "status": "completed"
    },
    "tags": []
   },
   "outputs": [],
   "source": []
  }
 ],
 "metadata": {
  "kaggle": {
   "accelerator": "none",
   "dataSources": [
    {
     "databundleVersionId": 26502,
     "sourceId": 3136,
     "sourceType": "competition"
    }
   ],
   "dockerImageVersionId": 30184,
   "isGpuEnabled": false,
   "isInternetEnabled": true,
   "language": "python",
   "sourceType": "notebook"
  },
  "kernelspec": {
   "display_name": "Python 3",
   "language": "python",
   "name": "python3"
  },
  "language_info": {
   "codemirror_mode": {
    "name": "ipython",
    "version": 3
   },
   "file_extension": ".py",
   "mimetype": "text/x-python",
   "name": "python",
   "nbconvert_exporter": "python",
   "pygments_lexer": "ipython3",
   "version": "3.7.12"
  },
  "papermill": {
   "default_parameters": {},
   "duration": 82.368513,
   "end_time": "2024-02-15T03:26:36.129501",
   "environment_variables": {},
   "exception": null,
   "input_path": "__notebook__.ipynb",
   "output_path": "__notebook__.ipynb",
   "parameters": {},
   "start_time": "2024-02-15T03:25:13.760988",
   "version": "2.3.4"
  }
 },
 "nbformat": 4,
 "nbformat_minor": 5
}
